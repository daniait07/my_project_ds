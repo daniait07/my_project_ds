{
 "cells": [
  {
   "cell_type": "markdown",
   "metadata": {},
   "source": [
    "# Прогнозирование сахарного диабета с помощью 3-ех моделей машинного обучения"
   ]
  },
  {
   "cell_type": "markdown",
   "metadata": {},
   "source": [
    "**Описание данных:**\n",
    "\n",
    "- Данные находятся в файле `/Users/artemvishanov/Desktop/диабет/archive/diabetes_data.csv`\n",
    "\n",
    "\n",
    "**`Features:`**\n",
    "\n",
    "    1. Age - Возрастная категория 13-го уровня (_AGEG5YR см. кодовую книгу)  \n",
    "        1 = 18-24\n",
    "        2 = 25-29\n",
    "        3 = 30-34\n",
    "        4 = 35-39\n",
    "        5 = 40-44\n",
    "        6 = 45-49\n",
    "        7 = 50-54\n",
    "        8 = 55-59\n",
    "        9 = 60-64\n",
    "        10 = 65-69\n",
    "        11 = 70-74\n",
    "        12 = 75-79\n",
    "        13 = 80 или старше\n",
    "        \n",
    "    2. Sex - пол (1: м; 0: ж)\n",
    "    \n",
    "    3. HighChol - 0 = отсутствие высокого уровня холестерина; 1 = высокий уровень холестера\n",
    "    \n",
    "    4. CholCheck - 0 = нет проверки холестерина через 5 лет; 1 = да проверка холестерина через 5 лет\n",
    "    \n",
    "    5. BMI - Индекс массы тела\n",
    "    \n",
    "    6. Smoker - курящий\n",
    "    \n",
    "    7. HeartDiseaseorAttack - ишемическая болезнь сердца (ИБС) или инфаркт миокарда (МИ) 0 = нет 1 = да\n",
    "    \n",
    "    8. Phys Activity - физическая активность за последние 30 дней - не включая работу 0 = нет 1 = да\n",
    "    \n",
    "    9. Fruits - потребляйте фрукты 1 или более раз в день 0 = нет 1 = да\n",
    "    \n",
    "    10. Veggies - потребляйте овощи 1 или более раз в день 0 = нет 1 = да\n",
    "    \n",
    "    11. HvyAlcoholConsump - (взрослые мужчины >=14 напитков(алкоголя) в неделю и взрослые женщины>=7 напитков в неделю) 0 = нет 1 = да\n",
    "    \n",
    "    12. GenHlth - вы бы сказали, что в целом ваше здоровье: масштаб 1-5 1 = отлично 2 = очень хорошо 3 = хорошо 4 = справедливо 5 = плохо\n",
    "    \n",
    "    13. MentHlth - дни шкалы плохого психического здоровья 1-30 дней\n",
    "    \n",
    "    14. PhysHlth - дни физической болезни или травмы за последние 30 дней по шкале 1-30\n",
    "    \n",
    "    15. DiffWalk - у вас серьезные трудности с ходьбой или подъемом по лестнице? 0 = нет 1 = да\n",
    "    \n",
    "    16. Stroke - у вас когда-нибудь был инсульт. 0 = нет, 1 = да\n",
    "    \n",
    "    17. HighBP -  0 = нет максимума BP, 1 = высокий BP\n",
    "\n",
    "**`Target:`**\n",
    "\n",
    "    18. Dibetes - 0 = без диабета, 1 = диабет"
   ]
  },
  {
   "cell_type": "markdown",
   "metadata": {},
   "source": [
    "## 1. Загрузка данных"
   ]
  },
  {
   "cell_type": "markdown",
   "metadata": {},
   "source": [
    "**1.1. Импортируем все необходимые библиотеки:**"
   ]
  },
  {
   "cell_type": "code",
   "execution_count": 2,
   "metadata": {},
   "outputs": [
    {
     "name": "stdout",
     "output_type": "stream",
     "text": [
      "Requirement already satisfied: mlxtend in /Users/artemvishanov/opt/anaconda3/lib/python3.9/site-packages (0.22.0)\n",
      "Requirement already satisfied: scipy>=1.2.1 in /Users/artemvishanov/opt/anaconda3/lib/python3.9/site-packages (from mlxtend) (1.9.1)\n",
      "Requirement already satisfied: matplotlib>=3.0.0 in /Users/artemvishanov/opt/anaconda3/lib/python3.9/site-packages (from mlxtend) (3.5.2)\n",
      "Requirement already satisfied: scikit-learn>=1.0.2 in /Users/artemvishanov/opt/anaconda3/lib/python3.9/site-packages (from mlxtend) (1.0.2)\n",
      "Requirement already satisfied: pandas>=0.24.2 in /Users/artemvishanov/opt/anaconda3/lib/python3.9/site-packages (from mlxtend) (1.4.4)\n",
      "Requirement already satisfied: setuptools in /Users/artemvishanov/opt/anaconda3/lib/python3.9/site-packages (from mlxtend) (63.4.1)\n",
      "Requirement already satisfied: joblib>=0.13.2 in /Users/artemvishanov/opt/anaconda3/lib/python3.9/site-packages (from mlxtend) (1.1.0)\n",
      "Requirement already satisfied: numpy>=1.16.2 in /Users/artemvishanov/opt/anaconda3/lib/python3.9/site-packages (from mlxtend) (1.21.5)\n",
      "Requirement already satisfied: fonttools>=4.22.0 in /Users/artemvishanov/opt/anaconda3/lib/python3.9/site-packages (from matplotlib>=3.0.0->mlxtend) (4.25.0)\n",
      "Requirement already satisfied: python-dateutil>=2.7 in /Users/artemvishanov/opt/anaconda3/lib/python3.9/site-packages (from matplotlib>=3.0.0->mlxtend) (2.8.2)\n",
      "Requirement already satisfied: pillow>=6.2.0 in /Users/artemvishanov/opt/anaconda3/lib/python3.9/site-packages (from matplotlib>=3.0.0->mlxtend) (9.2.0)\n",
      "Requirement already satisfied: kiwisolver>=1.0.1 in /Users/artemvishanov/opt/anaconda3/lib/python3.9/site-packages (from matplotlib>=3.0.0->mlxtend) (1.4.2)\n",
      "Requirement already satisfied: cycler>=0.10 in /Users/artemvishanov/opt/anaconda3/lib/python3.9/site-packages (from matplotlib>=3.0.0->mlxtend) (0.11.0)\n",
      "Requirement already satisfied: pyparsing>=2.2.1 in /Users/artemvishanov/opt/anaconda3/lib/python3.9/site-packages (from matplotlib>=3.0.0->mlxtend) (3.0.9)\n",
      "Requirement already satisfied: packaging>=20.0 in /Users/artemvishanov/opt/anaconda3/lib/python3.9/site-packages (from matplotlib>=3.0.0->mlxtend) (21.3)\n",
      "Requirement already satisfied: pytz>=2020.1 in /Users/artemvishanov/opt/anaconda3/lib/python3.9/site-packages (from pandas>=0.24.2->mlxtend) (2022.1)\n",
      "Requirement already satisfied: threadpoolctl>=2.0.0 in /Users/artemvishanov/opt/anaconda3/lib/python3.9/site-packages (from scikit-learn>=1.0.2->mlxtend) (2.2.0)\n",
      "Requirement already satisfied: six>=1.5 in /Users/artemvishanov/opt/anaconda3/lib/python3.9/site-packages (from python-dateutil>=2.7->matplotlib>=3.0.0->mlxtend) (1.16.0)\n",
      "Note: you may need to restart the kernel to use updated packages.\n"
     ]
    }
   ],
   "source": [
    "pip install mlxtend"
   ]
  },
  {
   "cell_type": "code",
   "execution_count": 3,
   "metadata": {
    "scrolled": false
   },
   "outputs": [
    {
     "name": "stdout",
     "output_type": "stream",
     "text": [
      "Импортирование сделано👍\n"
     ]
    }
   ],
   "source": [
    "import numpy as np\n",
    "import pandas as pd\n",
    "import matplotlib.pyplot as plt\n",
    "import seaborn as sns\n",
    "import warnings\n",
    "warnings.filterwarnings('ignore')\n",
    "from scipy import stats\n",
    "\n",
    "from sklearn.feature_selection import SelectKBest\n",
    "from sklearn.feature_selection import chi2\n",
    "from sklearn.preprocessing import QuantileTransformer\n",
    "from sklearn.preprocessing import StandardScaler,MinMaxScaler\n",
    "from sklearn.model_selection import cross_val_score\n",
    "from sklearn.model_selection import GridSearchCV\n",
    "from sklearn.model_selection import train_test_split\n",
    "from sklearn.preprocessing import MinMaxScaler\n",
    "\n",
    "from sklearn.tree import DecisionTreeClassifier\n",
    "from sklearn.linear_model import LogisticRegressionCV\n",
    "\n",
    "from sklearn.ensemble import ExtraTreesClassifier\n",
    "from sklearn.ensemble import GradientBoostingClassifier\n",
    "\n",
    "from sklearn.utils import shuffle\n",
    "from sklearn.svm import SVC, LinearSVC\n",
    "from sklearn.ensemble import VotingClassifier\n",
    "from sklearn.neighbors import KNeighborsClassifier\n",
    "from sklearn.linear_model import LogisticRegression\n",
    "from sklearn.ensemble import RandomForestClassifier\n",
    "from sklearn.metrics import accuracy_score, classification_report,ConfusionMatrixDisplay,precision_score,recall_score, f1_score,roc_auc_score,roc_curve, balanced_accuracy_score \n",
    "\n",
    "from mlxtend.feature_selection import ExhaustiveFeatureSelector as EFS\n",
    "print('Импортирование сделано👍')"
   ]
  },
  {
   "cell_type": "markdown",
   "metadata": {},
   "source": [
    "**1.2. Загружаем данные из файла в переменную `df`**"
   ]
  },
  {
   "cell_type": "code",
   "execution_count": 4,
   "metadata": {},
   "outputs": [],
   "source": [
    "try:\n",
    "    df = pd.read_csv('/Users/artemvishanov/Desktop/диабет/archive/diabetes_data.csv')\n",
    "    df_test = pd.read_csv('/Users/artemvishanov/Desktop/диабет/archive/diabetes_data.csv')\n",
    "except:\n",
    "    print('Пожалуйста, проверьте путь файла!🥴')"
   ]
  },
  {
   "cell_type": "code",
   "execution_count": 5,
   "metadata": {
    "scrolled": false
   },
   "outputs": [
    {
     "name": "stdout",
     "output_type": "stream",
     "text": [
      "<class 'pandas.core.frame.DataFrame'>\n",
      "RangeIndex: 70692 entries, 0 to 70691\n",
      "Data columns (total 18 columns):\n",
      " #   Column                Non-Null Count  Dtype  \n",
      "---  ------                --------------  -----  \n",
      " 0   Age                   70692 non-null  float64\n",
      " 1   Sex                   70692 non-null  float64\n",
      " 2   HighChol              70692 non-null  float64\n",
      " 3   CholCheck             70692 non-null  float64\n",
      " 4   BMI                   70692 non-null  float64\n",
      " 5   Smoker                70692 non-null  float64\n",
      " 6   HeartDiseaseorAttack  70692 non-null  float64\n",
      " 7   PhysActivity          70692 non-null  float64\n",
      " 8   Fruits                70692 non-null  float64\n",
      " 9   Veggies               70692 non-null  float64\n",
      " 10  HvyAlcoholConsump     70692 non-null  float64\n",
      " 11  GenHlth               70692 non-null  float64\n",
      " 12  MentHlth              70692 non-null  float64\n",
      " 13  PhysHlth              70692 non-null  float64\n",
      " 14  DiffWalk              70692 non-null  float64\n",
      " 15  Stroke                70692 non-null  float64\n",
      " 16  HighBP                70692 non-null  float64\n",
      " 17  Diabetes              70692 non-null  float64\n",
      "dtypes: float64(18)\n",
      "memory usage: 9.7 MB\n",
      "None\n"
     ]
    },
    {
     "data": {
      "text/html": [
       "<div>\n",
       "<style scoped>\n",
       "    .dataframe tbody tr th:only-of-type {\n",
       "        vertical-align: middle;\n",
       "    }\n",
       "\n",
       "    .dataframe tbody tr th {\n",
       "        vertical-align: top;\n",
       "    }\n",
       "\n",
       "    .dataframe thead th {\n",
       "        text-align: right;\n",
       "    }\n",
       "</style>\n",
       "<table border=\"1\" class=\"dataframe\">\n",
       "  <thead>\n",
       "    <tr style=\"text-align: right;\">\n",
       "      <th></th>\n",
       "      <th>Age</th>\n",
       "      <th>Sex</th>\n",
       "      <th>HighChol</th>\n",
       "      <th>CholCheck</th>\n",
       "      <th>BMI</th>\n",
       "      <th>Smoker</th>\n",
       "      <th>HeartDiseaseorAttack</th>\n",
       "      <th>PhysActivity</th>\n",
       "      <th>Fruits</th>\n",
       "      <th>Veggies</th>\n",
       "      <th>HvyAlcoholConsump</th>\n",
       "      <th>GenHlth</th>\n",
       "      <th>MentHlth</th>\n",
       "      <th>PhysHlth</th>\n",
       "      <th>DiffWalk</th>\n",
       "      <th>Stroke</th>\n",
       "      <th>HighBP</th>\n",
       "      <th>Diabetes</th>\n",
       "    </tr>\n",
       "  </thead>\n",
       "  <tbody>\n",
       "    <tr>\n",
       "      <th>0</th>\n",
       "      <td>4.0</td>\n",
       "      <td>1.0</td>\n",
       "      <td>0.0</td>\n",
       "      <td>1.0</td>\n",
       "      <td>26.0</td>\n",
       "      <td>0.0</td>\n",
       "      <td>0.0</td>\n",
       "      <td>1.0</td>\n",
       "      <td>0.0</td>\n",
       "      <td>1.0</td>\n",
       "      <td>0.0</td>\n",
       "      <td>3.0</td>\n",
       "      <td>5.0</td>\n",
       "      <td>30.0</td>\n",
       "      <td>0.0</td>\n",
       "      <td>0.0</td>\n",
       "      <td>1.0</td>\n",
       "      <td>0.0</td>\n",
       "    </tr>\n",
       "    <tr>\n",
       "      <th>1</th>\n",
       "      <td>12.0</td>\n",
       "      <td>1.0</td>\n",
       "      <td>1.0</td>\n",
       "      <td>1.0</td>\n",
       "      <td>26.0</td>\n",
       "      <td>1.0</td>\n",
       "      <td>0.0</td>\n",
       "      <td>0.0</td>\n",
       "      <td>1.0</td>\n",
       "      <td>0.0</td>\n",
       "      <td>0.0</td>\n",
       "      <td>3.0</td>\n",
       "      <td>0.0</td>\n",
       "      <td>0.0</td>\n",
       "      <td>0.0</td>\n",
       "      <td>1.0</td>\n",
       "      <td>1.0</td>\n",
       "      <td>0.0</td>\n",
       "    </tr>\n",
       "    <tr>\n",
       "      <th>2</th>\n",
       "      <td>13.0</td>\n",
       "      <td>1.0</td>\n",
       "      <td>0.0</td>\n",
       "      <td>1.0</td>\n",
       "      <td>26.0</td>\n",
       "      <td>0.0</td>\n",
       "      <td>0.0</td>\n",
       "      <td>1.0</td>\n",
       "      <td>1.0</td>\n",
       "      <td>1.0</td>\n",
       "      <td>0.0</td>\n",
       "      <td>1.0</td>\n",
       "      <td>0.0</td>\n",
       "      <td>10.0</td>\n",
       "      <td>0.0</td>\n",
       "      <td>0.0</td>\n",
       "      <td>0.0</td>\n",
       "      <td>0.0</td>\n",
       "    </tr>\n",
       "    <tr>\n",
       "      <th>3</th>\n",
       "      <td>11.0</td>\n",
       "      <td>1.0</td>\n",
       "      <td>1.0</td>\n",
       "      <td>1.0</td>\n",
       "      <td>28.0</td>\n",
       "      <td>1.0</td>\n",
       "      <td>0.0</td>\n",
       "      <td>1.0</td>\n",
       "      <td>1.0</td>\n",
       "      <td>1.0</td>\n",
       "      <td>0.0</td>\n",
       "      <td>3.0</td>\n",
       "      <td>0.0</td>\n",
       "      <td>3.0</td>\n",
       "      <td>0.0</td>\n",
       "      <td>0.0</td>\n",
       "      <td>1.0</td>\n",
       "      <td>0.0</td>\n",
       "    </tr>\n",
       "    <tr>\n",
       "      <th>4</th>\n",
       "      <td>8.0</td>\n",
       "      <td>0.0</td>\n",
       "      <td>0.0</td>\n",
       "      <td>1.0</td>\n",
       "      <td>29.0</td>\n",
       "      <td>1.0</td>\n",
       "      <td>0.0</td>\n",
       "      <td>1.0</td>\n",
       "      <td>1.0</td>\n",
       "      <td>1.0</td>\n",
       "      <td>0.0</td>\n",
       "      <td>2.0</td>\n",
       "      <td>0.0</td>\n",
       "      <td>0.0</td>\n",
       "      <td>0.0</td>\n",
       "      <td>0.0</td>\n",
       "      <td>0.0</td>\n",
       "      <td>0.0</td>\n",
       "    </tr>\n",
       "  </tbody>\n",
       "</table>\n",
       "</div>"
      ],
      "text/plain": [
       "    Age  Sex  HighChol  CholCheck   BMI  Smoker  HeartDiseaseorAttack  \\\n",
       "0   4.0  1.0       0.0        1.0  26.0     0.0                   0.0   \n",
       "1  12.0  1.0       1.0        1.0  26.0     1.0                   0.0   \n",
       "2  13.0  1.0       0.0        1.0  26.0     0.0                   0.0   \n",
       "3  11.0  1.0       1.0        1.0  28.0     1.0                   0.0   \n",
       "4   8.0  0.0       0.0        1.0  29.0     1.0                   0.0   \n",
       "\n",
       "   PhysActivity  Fruits  Veggies  HvyAlcoholConsump  GenHlth  MentHlth  \\\n",
       "0           1.0     0.0      1.0                0.0      3.0       5.0   \n",
       "1           0.0     1.0      0.0                0.0      3.0       0.0   \n",
       "2           1.0     1.0      1.0                0.0      1.0       0.0   \n",
       "3           1.0     1.0      1.0                0.0      3.0       0.0   \n",
       "4           1.0     1.0      1.0                0.0      2.0       0.0   \n",
       "\n",
       "   PhysHlth  DiffWalk  Stroke  HighBP  Diabetes  \n",
       "0      30.0       0.0     0.0     1.0       0.0  \n",
       "1       0.0       0.0     1.0     1.0       0.0  \n",
       "2      10.0       0.0     0.0     0.0       0.0  \n",
       "3       3.0       0.0     0.0     1.0       0.0  \n",
       "4       0.0       0.0     0.0     0.0       0.0  "
      ]
     },
     "execution_count": 5,
     "metadata": {},
     "output_type": "execute_result"
    }
   ],
   "source": [
    "# информация о датафрейме\n",
    "print(df.info())\n",
    "# визуализируем датафрейм\n",
    "df[:5]"
   ]
  },
  {
   "cell_type": "markdown",
   "metadata": {},
   "source": [
    "## 1. Вывод:\n",
    "\n",
    "- Библиотеки импортированны\n",
    "- Данные загружены"
   ]
  },
  {
   "cell_type": "markdown",
   "metadata": {},
   "source": [
    "## 2. Предобработка данных"
   ]
  },
  {
   "cell_type": "markdown",
   "metadata": {},
   "source": [
    "1. Пропущенные значения: нужно решить, что делать с пропущенными значениями в данных, заполнять ли их, удалить ли строки или столбцы, содержащие пропущенные значения.\n",
    "2. Нормализация данных: некоторые модели машинного обучения требуют, чтобы данные были нормализованы. Нормализация может включать в себя приведение значений к диапазону [0,1] или стандартизацию данных.\n",
    "3. Кодирование категориальных признаков: многие модели машинного обучения не могут обрабатывать категориальные признаки в их исходной форме. Поэтому нужно закодировать их, например, методом OHE (One-Hot Encoding).\n",
    "4. Обработка выбросов: выбросы могут повлиять на качество обучения модели. Поэтому нужно обработать выбросы, например, методом IQR.\n",
    "5. Удаление дубликатов: дубликаты в данных могут привести к неверным результатам. Поэтому нужно проверить наличие дубликатов и удалить их, если они есть."
   ]
  },
  {
   "cell_type": "markdown",
   "metadata": {},
   "source": [
    "### 2.1. Пропущенные значения"
   ]
  },
  {
   "cell_type": "code",
   "execution_count": 6,
   "metadata": {
    "scrolled": true
   },
   "outputs": [
    {
     "data": {
      "text/plain": [
       "Age                     0\n",
       "Sex                     0\n",
       "HighChol                0\n",
       "CholCheck               0\n",
       "BMI                     0\n",
       "Smoker                  0\n",
       "HeartDiseaseorAttack    0\n",
       "PhysActivity            0\n",
       "Fruits                  0\n",
       "Veggies                 0\n",
       "HvyAlcoholConsump       0\n",
       "GenHlth                 0\n",
       "MentHlth                0\n",
       "PhysHlth                0\n",
       "DiffWalk                0\n",
       "Stroke                  0\n",
       "HighBP                  0\n",
       "Diabetes                0\n",
       "dtype: int64"
      ]
     },
     "execution_count": 6,
     "metadata": {},
     "output_type": "execute_result"
    }
   ],
   "source": [
    "df.isnull().sum()"
   ]
  },
  {
   "cell_type": "markdown",
   "metadata": {},
   "source": [
    "- Пропусков нет"
   ]
  },
  {
   "cell_type": "markdown",
   "metadata": {},
   "source": [
    "### 2.2. Нормализация данных"
   ]
  },
  {
   "cell_type": "code",
   "execution_count": 7,
   "metadata": {},
   "outputs": [],
   "source": [
    "scaler = MinMaxScaler()\n",
    "X_scaled = scaler.fit_transform(df_test.drop(['Diabetes'], axis=1))"
   ]
  },
  {
   "cell_type": "code",
   "execution_count": 8,
   "metadata": {},
   "outputs": [
    {
     "data": {
      "text/plain": [
       "array([[0.25      , 1.        , 0.        , 1.        , 0.1627907 ,\n",
       "        0.        , 0.        , 1.        , 0.        , 1.        ,\n",
       "        0.        , 0.5       , 0.16666667, 1.        , 0.        ,\n",
       "        0.        , 1.        ],\n",
       "       [0.91666667, 1.        , 1.        , 1.        , 0.1627907 ,\n",
       "        1.        , 0.        , 0.        , 1.        , 0.        ,\n",
       "        0.        , 0.5       , 0.        , 0.        , 0.        ,\n",
       "        1.        , 1.        ],\n",
       "       [1.        , 1.        , 0.        , 1.        , 0.1627907 ,\n",
       "        0.        , 0.        , 1.        , 1.        , 1.        ,\n",
       "        0.        , 0.        , 0.        , 0.33333333, 0.        ,\n",
       "        0.        , 0.        ],\n",
       "       [0.83333333, 1.        , 1.        , 1.        , 0.18604651,\n",
       "        1.        , 0.        , 1.        , 1.        , 1.        ,\n",
       "        0.        , 0.5       , 0.        , 0.1       , 0.        ,\n",
       "        0.        , 1.        ],\n",
       "       [0.58333333, 0.        , 0.        , 1.        , 0.19767442,\n",
       "        1.        , 0.        , 1.        , 1.        , 1.        ,\n",
       "        0.        , 0.25      , 0.        , 0.        , 0.        ,\n",
       "        0.        , 0.        ]])"
      ]
     },
     "execution_count": 8,
     "metadata": {},
     "output_type": "execute_result"
    }
   ],
   "source": [
    "X_scaled[:5]"
   ]
  },
  {
   "cell_type": "markdown",
   "metadata": {},
   "source": [
    "### 2.3.Кодирование категориальных признаков"
   ]
  },
  {
   "cell_type": "markdown",
   "metadata": {},
   "source": [
    " - Кодирование не требуется, так как у нас все признаки количественные"
   ]
  },
  {
   "cell_type": "markdown",
   "metadata": {},
   "source": [
    "### 2.4. Обработка выбросов"
   ]
  },
  {
   "cell_type": "code",
   "execution_count": 9,
   "metadata": {},
   "outputs": [
    {
     "data": {
      "text/plain": [
       "'37514 - выбросов'"
      ]
     },
     "execution_count": 9,
     "metadata": {},
     "output_type": "execute_result"
    }
   ],
   "source": [
    "# определим межквартильный размах (IQR) для каждой колонки:\n",
    "Q1 = df_test.quantile(0.25)\n",
    "Q3 = df_test.quantile(0.75)\n",
    "IQR = Q3 - Q1\n",
    "\n",
    "# определим границы выбросов:\n",
    "lower_bound = Q1 - 1.5 * IQR\n",
    "upper_bound = Q3 + 1.5 * IQR\n",
    "\n",
    "# отфильтруем значения, которые находятся за пределами границ выбросов:\n",
    "outliers = ((df_test < lower_bound) | (df_test > upper_bound)).any(axis=1)\n",
    "outliers_data = df_test[outliers]\n",
    "\n",
    "f'{outliers_data.shape[0]} - выбросов'"
   ]
  },
  {
   "cell_type": "markdown",
   "metadata": {},
   "source": [
    "### 2.5. Удаление дубликатов"
   ]
  },
  {
   "cell_type": "code",
   "execution_count": 10,
   "metadata": {},
   "outputs": [],
   "source": [
    "#f'{df.duplicated().sum()} дубликата'"
   ]
  },
  {
   "cell_type": "markdown",
   "metadata": {},
   "source": [
    "- 6672 дубликата, для того чтобы данные бали при обучении точные, удали все дубликаты"
   ]
  },
  {
   "cell_type": "code",
   "execution_count": 11,
   "metadata": {},
   "outputs": [],
   "source": [
    "# удаление дубликатов\n",
    "#df = df.drop_duplicates()"
   ]
  },
  {
   "cell_type": "code",
   "execution_count": 12,
   "metadata": {},
   "outputs": [],
   "source": [
    "# также удалим столбцы, которые не сыграют никакой роли в анализе\n",
    "df = df.drop(['CholCheck', 'HeartDiseaseorAttack', 'GenHlth', 'MentHlth', 'DiffWalk'], axis=1)"
   ]
  },
  {
   "cell_type": "markdown",
   "metadata": {},
   "source": [
    "## 2. Вывод:\n",
    "\n",
    "- Пропущенных значений нет\n",
    "- Кодирование не потребовалось\n",
    "- Дубликаты удалены\n",
    "- Удалины столбцы не несущие никакой информации"
   ]
  },
  {
   "cell_type": "markdown",
   "metadata": {},
   "source": [
    "## 3. Исследовательский анализ данных"
   ]
  },
  {
   "cell_type": "code",
   "execution_count": 13,
   "metadata": {},
   "outputs": [
    {
     "data": {
      "text/plain": [
       "'Размер датафрейма: (70692, 13)'"
      ]
     },
     "execution_count": 13,
     "metadata": {},
     "output_type": "execute_result"
    }
   ],
   "source": [
    "f'Размер датафрейма: {df.shape}'"
   ]
  },
  {
   "cell_type": "code",
   "execution_count": 14,
   "metadata": {},
   "outputs": [
    {
     "data": {
      "text/html": [
       "<div>\n",
       "<style scoped>\n",
       "    .dataframe tbody tr th:only-of-type {\n",
       "        vertical-align: middle;\n",
       "    }\n",
       "\n",
       "    .dataframe tbody tr th {\n",
       "        vertical-align: top;\n",
       "    }\n",
       "\n",
       "    .dataframe thead th {\n",
       "        text-align: right;\n",
       "    }\n",
       "</style>\n",
       "<table border=\"1\" class=\"dataframe\">\n",
       "  <thead>\n",
       "    <tr style=\"text-align: right;\">\n",
       "      <th></th>\n",
       "      <th>Age</th>\n",
       "      <th>Sex</th>\n",
       "      <th>HighChol</th>\n",
       "      <th>BMI</th>\n",
       "      <th>Smoker</th>\n",
       "      <th>PhysActivity</th>\n",
       "      <th>Fruits</th>\n",
       "      <th>Veggies</th>\n",
       "      <th>HvyAlcoholConsump</th>\n",
       "      <th>PhysHlth</th>\n",
       "      <th>Stroke</th>\n",
       "      <th>HighBP</th>\n",
       "      <th>Diabetes</th>\n",
       "    </tr>\n",
       "  </thead>\n",
       "  <tbody>\n",
       "    <tr>\n",
       "      <th>0</th>\n",
       "      <td>4.0</td>\n",
       "      <td>1.0</td>\n",
       "      <td>0.0</td>\n",
       "      <td>26.0</td>\n",
       "      <td>0.0</td>\n",
       "      <td>1.0</td>\n",
       "      <td>0.0</td>\n",
       "      <td>1.0</td>\n",
       "      <td>0.0</td>\n",
       "      <td>30.0</td>\n",
       "      <td>0.0</td>\n",
       "      <td>1.0</td>\n",
       "      <td>0.0</td>\n",
       "    </tr>\n",
       "    <tr>\n",
       "      <th>1</th>\n",
       "      <td>12.0</td>\n",
       "      <td>1.0</td>\n",
       "      <td>1.0</td>\n",
       "      <td>26.0</td>\n",
       "      <td>1.0</td>\n",
       "      <td>0.0</td>\n",
       "      <td>1.0</td>\n",
       "      <td>0.0</td>\n",
       "      <td>0.0</td>\n",
       "      <td>0.0</td>\n",
       "      <td>1.0</td>\n",
       "      <td>1.0</td>\n",
       "      <td>0.0</td>\n",
       "    </tr>\n",
       "    <tr>\n",
       "      <th>2</th>\n",
       "      <td>13.0</td>\n",
       "      <td>1.0</td>\n",
       "      <td>0.0</td>\n",
       "      <td>26.0</td>\n",
       "      <td>0.0</td>\n",
       "      <td>1.0</td>\n",
       "      <td>1.0</td>\n",
       "      <td>1.0</td>\n",
       "      <td>0.0</td>\n",
       "      <td>10.0</td>\n",
       "      <td>0.0</td>\n",
       "      <td>0.0</td>\n",
       "      <td>0.0</td>\n",
       "    </tr>\n",
       "    <tr>\n",
       "      <th>3</th>\n",
       "      <td>11.0</td>\n",
       "      <td>1.0</td>\n",
       "      <td>1.0</td>\n",
       "      <td>28.0</td>\n",
       "      <td>1.0</td>\n",
       "      <td>1.0</td>\n",
       "      <td>1.0</td>\n",
       "      <td>1.0</td>\n",
       "      <td>0.0</td>\n",
       "      <td>3.0</td>\n",
       "      <td>0.0</td>\n",
       "      <td>1.0</td>\n",
       "      <td>0.0</td>\n",
       "    </tr>\n",
       "    <tr>\n",
       "      <th>4</th>\n",
       "      <td>8.0</td>\n",
       "      <td>0.0</td>\n",
       "      <td>0.0</td>\n",
       "      <td>29.0</td>\n",
       "      <td>1.0</td>\n",
       "      <td>1.0</td>\n",
       "      <td>1.0</td>\n",
       "      <td>1.0</td>\n",
       "      <td>0.0</td>\n",
       "      <td>0.0</td>\n",
       "      <td>0.0</td>\n",
       "      <td>0.0</td>\n",
       "      <td>0.0</td>\n",
       "    </tr>\n",
       "  </tbody>\n",
       "</table>\n",
       "</div>"
      ],
      "text/plain": [
       "    Age  Sex  HighChol   BMI  Smoker  PhysActivity  Fruits  Veggies  \\\n",
       "0   4.0  1.0       0.0  26.0     0.0           1.0     0.0      1.0   \n",
       "1  12.0  1.0       1.0  26.0     1.0           0.0     1.0      0.0   \n",
       "2  13.0  1.0       0.0  26.0     0.0           1.0     1.0      1.0   \n",
       "3  11.0  1.0       1.0  28.0     1.0           1.0     1.0      1.0   \n",
       "4   8.0  0.0       0.0  29.0     1.0           1.0     1.0      1.0   \n",
       "\n",
       "   HvyAlcoholConsump  PhysHlth  Stroke  HighBP  Diabetes  \n",
       "0                0.0      30.0     0.0     1.0       0.0  \n",
       "1                0.0       0.0     1.0     1.0       0.0  \n",
       "2                0.0      10.0     0.0     0.0       0.0  \n",
       "3                0.0       3.0     0.0     1.0       0.0  \n",
       "4                0.0       0.0     0.0     0.0       0.0  "
      ]
     },
     "execution_count": 14,
     "metadata": {},
     "output_type": "execute_result"
    }
   ],
   "source": [
    "df[:5]"
   ]
  },
  {
   "cell_type": "markdown",
   "metadata": {},
   "source": [
    "### 3.1. Проверка уникальных значений"
   ]
  },
  {
   "cell_type": "code",
   "execution_count": 15,
   "metadata": {},
   "outputs": [
    {
     "data": {
      "text/html": [
       "<div>\n",
       "<style scoped>\n",
       "    .dataframe tbody tr th:only-of-type {\n",
       "        vertical-align: middle;\n",
       "    }\n",
       "\n",
       "    .dataframe tbody tr th {\n",
       "        vertical-align: top;\n",
       "    }\n",
       "\n",
       "    .dataframe thead th {\n",
       "        text-align: right;\n",
       "    }\n",
       "</style>\n",
       "<table border=\"1\" class=\"dataframe\">\n",
       "  <thead>\n",
       "    <tr style=\"text-align: right;\">\n",
       "      <th></th>\n",
       "      <th>unique value count</th>\n",
       "    </tr>\n",
       "  </thead>\n",
       "  <tbody>\n",
       "    <tr>\n",
       "      <th>Age</th>\n",
       "      <td>13</td>\n",
       "    </tr>\n",
       "    <tr>\n",
       "      <th>Sex</th>\n",
       "      <td>2</td>\n",
       "    </tr>\n",
       "    <tr>\n",
       "      <th>HighChol</th>\n",
       "      <td>2</td>\n",
       "    </tr>\n",
       "    <tr>\n",
       "      <th>BMI</th>\n",
       "      <td>80</td>\n",
       "    </tr>\n",
       "    <tr>\n",
       "      <th>Smoker</th>\n",
       "      <td>2</td>\n",
       "    </tr>\n",
       "    <tr>\n",
       "      <th>PhysActivity</th>\n",
       "      <td>2</td>\n",
       "    </tr>\n",
       "    <tr>\n",
       "      <th>Fruits</th>\n",
       "      <td>2</td>\n",
       "    </tr>\n",
       "    <tr>\n",
       "      <th>Veggies</th>\n",
       "      <td>2</td>\n",
       "    </tr>\n",
       "    <tr>\n",
       "      <th>HvyAlcoholConsump</th>\n",
       "      <td>2</td>\n",
       "    </tr>\n",
       "    <tr>\n",
       "      <th>PhysHlth</th>\n",
       "      <td>31</td>\n",
       "    </tr>\n",
       "    <tr>\n",
       "      <th>Stroke</th>\n",
       "      <td>2</td>\n",
       "    </tr>\n",
       "    <tr>\n",
       "      <th>HighBP</th>\n",
       "      <td>2</td>\n",
       "    </tr>\n",
       "    <tr>\n",
       "      <th>Diabetes</th>\n",
       "      <td>2</td>\n",
       "    </tr>\n",
       "  </tbody>\n",
       "</table>\n",
       "</div>"
      ],
      "text/plain": [
       "                   unique value count\n",
       "Age                                13\n",
       "Sex                                 2\n",
       "HighChol                            2\n",
       "BMI                                80\n",
       "Smoker                              2\n",
       "PhysActivity                        2\n",
       "Fruits                              2\n",
       "Veggies                             2\n",
       "HvyAlcoholConsump                   2\n",
       "PhysHlth                           31\n",
       "Stroke                              2\n",
       "HighBP                              2\n",
       "Diabetes                            2"
      ]
     },
     "execution_count": 15,
     "metadata": {},
     "output_type": "execute_result"
    }
   ],
   "source": [
    "unique_values = {}\n",
    "for col in df.columns:\n",
    "    unique_values[col] = df[col].value_counts().shape[0]\n",
    "\n",
    "pd.DataFrame(unique_values, index=['unique value count']).transpose()"
   ]
  },
  {
   "cell_type": "markdown",
   "metadata": {},
   "source": [
    "### 3.2. Проверка частоты всех значений в столбце"
   ]
  },
  {
   "cell_type": "code",
   "execution_count": 16,
   "metadata": {},
   "outputs": [
    {
     "data": {
      "image/png": "[encoded data removed]",
      "text/plain": [
       "<Figure size 2500x3500 with 13 Axes>"
      ]
     },
     "metadata": {},
     "output_type": "display_data"
    }
   ],
   "source": [
    "# Все столбцы данных, кроме цвета\n",
    "feature_cols = [x for x in df.columns if x not in 'stroke']\n",
    "plt.figure(figsize=(25,35))\n",
    "# Петля для подсюжетов\n",
    "for i in range(len(feature_cols)):\n",
    "    plt.subplot(8,5,i+1)\n",
    "    plt.title(feature_cols[i])\n",
    "    plt.xticks(rotation=90)\n",
    "    plt.hist(df[feature_cols[i]],color = \"deepskyblue\")\n",
    "    \n",
    "plt.tight_layout()"
   ]
  },
  {
   "cell_type": "markdown",
   "metadata": {},
   "source": [
    "- На диаграммах мы видим, что у столбца 'HvyAlcoholConsump' и 'Stroke' очень маленькие категории. Их стоит удалить"
   ]
  },
  {
   "cell_type": "code",
   "execution_count": 17,
   "metadata": {},
   "outputs": [],
   "source": [
    "# удаление столбцов с малым количеством категорий\n",
    "df = df.drop(['HvyAlcoholConsump', 'Stroke'], axis=1)"
   ]
  },
  {
   "cell_type": "code",
   "execution_count": 18,
   "metadata": {},
   "outputs": [
    {
     "data": {
      "image/png": "[encoded data removed]",
      "text/plain": [
       "<Figure size 1000x600 with 1 Axes>"
      ]
     },
     "metadata": {},
     "output_type": "display_data"
    }
   ],
   "source": [
    "#check correlation of other columns with diabetes column\n",
    "df.drop('Diabetes', axis=1).corrwith(df.Diabetes).plot(kind='bar',\n",
    "                                                       grid=True,\n",
    "                                                       figsize=(10, 6),\n",
    "                                                       title=\"Корреляция с диабетом\",\n",
    "                                                       color=\"deepskyblue\");"
   ]
  },
  {
   "cell_type": "markdown",
   "metadata": {},
   "source": [
    "- Переменные с корреляцией менее 0,1 - это `Sex`, `Smoker`, `Fruits`, `Veggies`"
   ]
  },
  {
   "cell_type": "code",
   "execution_count": 19,
   "metadata": {},
   "outputs": [],
   "source": [
    "# удалим переменные с низкими коррелляциями Sex, Smoker, Fruits, Veggies\n",
    "df = df.drop(['Sex','Smoker','Fruits','Veggies'], axis=1)"
   ]
  },
  {
   "cell_type": "code",
   "execution_count": 20,
   "metadata": {},
   "outputs": [
    {
     "data": {
      "text/html": [
       "<div>\n",
       "<style scoped>\n",
       "    .dataframe tbody tr th:only-of-type {\n",
       "        vertical-align: middle;\n",
       "    }\n",
       "\n",
       "    .dataframe tbody tr th {\n",
       "        vertical-align: top;\n",
       "    }\n",
       "\n",
       "    .dataframe thead th {\n",
       "        text-align: right;\n",
       "    }\n",
       "</style>\n",
       "<table border=\"1\" class=\"dataframe\">\n",
       "  <thead>\n",
       "    <tr style=\"text-align: right;\">\n",
       "      <th></th>\n",
       "      <th>Age</th>\n",
       "      <th>HighChol</th>\n",
       "      <th>BMI</th>\n",
       "      <th>PhysActivity</th>\n",
       "      <th>PhysHlth</th>\n",
       "      <th>HighBP</th>\n",
       "      <th>Diabetes</th>\n",
       "    </tr>\n",
       "  </thead>\n",
       "  <tbody>\n",
       "    <tr>\n",
       "      <th>0</th>\n",
       "      <td>4.0</td>\n",
       "      <td>0.0</td>\n",
       "      <td>26.0</td>\n",
       "      <td>1.0</td>\n",
       "      <td>30.0</td>\n",
       "      <td>1.0</td>\n",
       "      <td>0.0</td>\n",
       "    </tr>\n",
       "    <tr>\n",
       "      <th>1</th>\n",
       "      <td>12.0</td>\n",
       "      <td>1.0</td>\n",
       "      <td>26.0</td>\n",
       "      <td>0.0</td>\n",
       "      <td>0.0</td>\n",
       "      <td>1.0</td>\n",
       "      <td>0.0</td>\n",
       "    </tr>\n",
       "    <tr>\n",
       "      <th>2</th>\n",
       "      <td>13.0</td>\n",
       "      <td>0.0</td>\n",
       "      <td>26.0</td>\n",
       "      <td>1.0</td>\n",
       "      <td>10.0</td>\n",
       "      <td>0.0</td>\n",
       "      <td>0.0</td>\n",
       "    </tr>\n",
       "    <tr>\n",
       "      <th>3</th>\n",
       "      <td>11.0</td>\n",
       "      <td>1.0</td>\n",
       "      <td>28.0</td>\n",
       "      <td>1.0</td>\n",
       "      <td>3.0</td>\n",
       "      <td>1.0</td>\n",
       "      <td>0.0</td>\n",
       "    </tr>\n",
       "    <tr>\n",
       "      <th>4</th>\n",
       "      <td>8.0</td>\n",
       "      <td>0.0</td>\n",
       "      <td>29.0</td>\n",
       "      <td>1.0</td>\n",
       "      <td>0.0</td>\n",
       "      <td>0.0</td>\n",
       "      <td>0.0</td>\n",
       "    </tr>\n",
       "  </tbody>\n",
       "</table>\n",
       "</div>"
      ],
      "text/plain": [
       "    Age  HighChol   BMI  PhysActivity  PhysHlth  HighBP  Diabetes\n",
       "0   4.0       0.0  26.0           1.0      30.0     1.0       0.0\n",
       "1  12.0       1.0  26.0           0.0       0.0     1.0       0.0\n",
       "2  13.0       0.0  26.0           1.0      10.0     0.0       0.0\n",
       "3  11.0       1.0  28.0           1.0       3.0     1.0       0.0\n",
       "4   8.0       0.0  29.0           1.0       0.0     0.0       0.0"
      ]
     },
     "execution_count": 20,
     "metadata": {},
     "output_type": "execute_result"
    }
   ],
   "source": [
    "df[:5]"
   ]
  },
  {
   "cell_type": "markdown",
   "metadata": {},
   "source": [
    "## 4. Построение моделей"
   ]
  },
  {
   "cell_type": "code",
   "execution_count": 21,
   "metadata": {},
   "outputs": [],
   "source": [
    "#Check skewness\n",
    "#can only be checked for numeric data\n",
    "\n",
    "#df_skew = df[['Age','BMI','PhysHlth']]\n",
    "#skew = pd.DataFrame(df_skew.skew())\n",
    "#skew.columns = ['skew']\n",
    "#skew['too_skewed'] = skew['skew'] > .75\n",
    "#skew"
   ]
  },
  {
   "cell_type": "code",
   "execution_count": 22,
   "metadata": {},
   "outputs": [],
   "source": [
    "#Scaling the data for features selection using the MinMaxScaler method.\n",
    "#only numeric variables apply here\n",
    "\n",
    "#mms = MinMaxScaler()\n",
    "#df[['BMI']] = mms.fit_transform(df[['BMI']])\n",
    "#df[['Age']] = mms.fit_transform(df[['Age']])\n",
    "#df[['PhysHlth']] = mms.fit_transform(df[['PhysHlth']])\n",
    "#df.head()"
   ]
  },
  {
   "cell_type": "code",
   "execution_count": 23,
   "metadata": {},
   "outputs": [],
   "source": [
    "#Features selection -step 1\n",
    "#1. Define X,y\n",
    "y = (df['Diabetes']).astype(int)\n",
    "X = df.drop(['Diabetes'], axis=1)  # everything except \"Diabetes\""
   ]
  },
  {
   "cell_type": "code",
   "execution_count": 24,
   "metadata": {},
   "outputs": [
    {
     "data": {
      "text/html": [
       "<div>\n",
       "<style scoped>\n",
       "    .dataframe tbody tr th:only-of-type {\n",
       "        vertical-align: middle;\n",
       "    }\n",
       "\n",
       "    .dataframe tbody tr th {\n",
       "        vertical-align: top;\n",
       "    }\n",
       "\n",
       "    .dataframe thead th {\n",
       "        text-align: right;\n",
       "    }\n",
       "</style>\n",
       "<table border=\"1\" class=\"dataframe\">\n",
       "  <thead>\n",
       "    <tr style=\"text-align: right;\">\n",
       "      <th></th>\n",
       "      <th>Age</th>\n",
       "      <th>HighChol</th>\n",
       "      <th>BMI</th>\n",
       "      <th>PhysActivity</th>\n",
       "      <th>PhysHlth</th>\n",
       "      <th>HighBP</th>\n",
       "      <th>Diabetes</th>\n",
       "    </tr>\n",
       "  </thead>\n",
       "  <tbody>\n",
       "    <tr>\n",
       "      <th>0</th>\n",
       "      <td>4.0</td>\n",
       "      <td>0.0</td>\n",
       "      <td>26.0</td>\n",
       "      <td>1.0</td>\n",
       "      <td>30.0</td>\n",
       "      <td>1.0</td>\n",
       "      <td>0.0</td>\n",
       "    </tr>\n",
       "    <tr>\n",
       "      <th>1</th>\n",
       "      <td>12.0</td>\n",
       "      <td>1.0</td>\n",
       "      <td>26.0</td>\n",
       "      <td>0.0</td>\n",
       "      <td>0.0</td>\n",
       "      <td>1.0</td>\n",
       "      <td>0.0</td>\n",
       "    </tr>\n",
       "    <tr>\n",
       "      <th>2</th>\n",
       "      <td>13.0</td>\n",
       "      <td>0.0</td>\n",
       "      <td>26.0</td>\n",
       "      <td>1.0</td>\n",
       "      <td>10.0</td>\n",
       "      <td>0.0</td>\n",
       "      <td>0.0</td>\n",
       "    </tr>\n",
       "    <tr>\n",
       "      <th>3</th>\n",
       "      <td>11.0</td>\n",
       "      <td>1.0</td>\n",
       "      <td>28.0</td>\n",
       "      <td>1.0</td>\n",
       "      <td>3.0</td>\n",
       "      <td>1.0</td>\n",
       "      <td>0.0</td>\n",
       "    </tr>\n",
       "    <tr>\n",
       "      <th>4</th>\n",
       "      <td>8.0</td>\n",
       "      <td>0.0</td>\n",
       "      <td>29.0</td>\n",
       "      <td>1.0</td>\n",
       "      <td>0.0</td>\n",
       "      <td>0.0</td>\n",
       "      <td>0.0</td>\n",
       "    </tr>\n",
       "  </tbody>\n",
       "</table>\n",
       "</div>"
      ],
      "text/plain": [
       "    Age  HighChol   BMI  PhysActivity  PhysHlth  HighBP  Diabetes\n",
       "0   4.0       0.0  26.0           1.0      30.0     1.0       0.0\n",
       "1  12.0       1.0  26.0           0.0       0.0     1.0       0.0\n",
       "2  13.0       0.0  26.0           1.0      10.0     0.0       0.0\n",
       "3  11.0       1.0  28.0           1.0       3.0     1.0       0.0\n",
       "4   8.0       0.0  29.0           1.0       0.0     0.0       0.0"
      ]
     },
     "execution_count": 24,
     "metadata": {},
     "output_type": "execute_result"
    }
   ],
   "source": [
    "df[:5]"
   ]
  },
  {
   "cell_type": "code",
   "execution_count": 25,
   "metadata": {},
   "outputs": [
    {
     "name": "stdout",
     "output_type": "stream",
     "text": [
      "[0.15019675 0.10736566 0.34066919 0.02293612 0.1428706  0.23596168]\n"
     ]
    },
    {
     "data": {
      "image/png": "[encoded data removed]",
      "text/plain": [
       "<Figure size 800x600 with 1 Axes>"
      ]
     },
     "metadata": {},
     "output_type": "display_data"
    }
   ],
   "source": [
    "#step 2\n",
    "\n",
    "model = ExtraTreesClassifier()\n",
    "model.fit(X,y)\n",
    "print(model.feature_importances_) #use inbuilt class feature_importances of tree based classifiers\n",
    "#plot graph of feature importances for better visualization\n",
    "feat_importances = pd.Series(model.feature_importances_, index=X.columns)\n",
    "plt.figure(figsize=(8,6))\n",
    "feat_importances.nlargest(6).plot(kind='barh')\n",
    "plt.show()"
   ]
  },
  {
   "cell_type": "code",
   "execution_count": 26,
   "metadata": {},
   "outputs": [
    {
     "name": "stdout",
     "output_type": "stream",
     "text": [
      "          Specs         Score\n",
      "4      PhysHlth  55929.053254\n",
      "2           BMI  10312.875795\n",
      "0           Age   5204.869946\n",
      "5        HighBP   4491.799960\n",
      "1      HighChol   2804.501278\n",
      "3  PhysActivity    528.494034\n"
     ]
    }
   ],
   "source": [
    "#method 2   \n",
    "\n",
    "#apply SelectKBest class to extract top 5 best features   #Do this before quantile transformation\n",
    "bestfeatures = SelectKBest(score_func=chi2, k=5)\n",
    "fit = bestfeatures.fit(X,y)\n",
    "dfscores = pd.DataFrame(fit.scores_)\n",
    "dfcolumns = pd.DataFrame(X.columns)\n",
    "#concat two dataframes for better visualization \n",
    "featureScores = pd.concat([dfcolumns,dfscores],axis=1)\n",
    "featureScores.columns = ['Specs','Score']  #naming the dataframe columns\n",
    "print(featureScores.nlargest(6,'Score'))  #print 5 best features"
   ]
  },
  {
   "cell_type": "code",
   "execution_count": 27,
   "metadata": {},
   "outputs": [
    {
     "name": "stderr",
     "output_type": "stream",
     "text": [
      "Features: 62/62"
     ]
    },
    {
     "name": "stdout",
     "output_type": "stream",
     "text": [
      "Best accuracy score: 0.72\n",
      "Best subset (indices): (0, 1, 2, 4, 5)\n",
      "Best subset (corresponding names): ('Age', 'HighChol', 'BMI', 'PhysHlth', 'HighBP')\n"
     ]
    }
   ],
   "source": [
    "#Method 3\n",
    "\n",
    "#Create a logistic regression classifier\n",
    "lr = LogisticRegression()\n",
    "# Create an EFS object\n",
    "efs = EFS(estimator=lr,        # Use logistic regression as the classifier/estimator\n",
    "          min_features=1,      # The minimum number of features to consider is 1\n",
    "          max_features=5,      # The maximum number of features to consider is 5\n",
    "          scoring='accuracy',  # The metric to use to evaluate the classifier is accuracy \n",
    "          cv=4)                # The number of cross-validations to perform is 4\n",
    "\n",
    "# Train EFS with our dataset\n",
    "efs = efs.fit(X, y)\n",
    "# Print the results\n",
    "print('Best accuracy score: %.2f' % efs.best_score_) # best_score_ shows the best score \n",
    "print('Best subset (indices):', efs.best_idx_)       # best_idx_ shows the index of features that yield the best score \n",
    "print('Best subset (corresponding names):', efs.best_feature_names_) # best_feature_names_ shows the feature names "
   ]
  },
  {
   "cell_type": "code",
   "execution_count": 28,
   "metadata": {
    "scrolled": true
   },
   "outputs": [],
   "source": [
    "#recheck the skew\n",
    "#df_skew = df[['Age','BMI','PhysHlth']]\n",
    "#skew = pd.DataFrame(df_skew.skew())\n",
    "#skew.columns = ['skew']\n",
    "#skew['too_skewed'] = skew['skew'] > .75\n",
    "#skew"
   ]
  },
  {
   "cell_type": "code",
   "execution_count": 29,
   "metadata": {},
   "outputs": [],
   "source": [
    "#qt = QuantileTransformer(n_quantiles=500, output_distribution='normal')\n",
    "#df[['BMI']] = qt.fit_transform(df[['BMI']])\n",
    "#df[['PhysHlth']] = qt.fit_transform(df[['PhysHlth']])"
   ]
  },
  {
   "cell_type": "code",
   "execution_count": 30,
   "metadata": {
    "scrolled": true
   },
   "outputs": [],
   "source": [
    "#recheck the skew\n",
    "#df_skew = df[['Age','BMI','PhysHlth']]\n",
    "#skew = pd.DataFrame(df_skew.skew())\n",
    "#skew.columns = ['skew']\n",
    "#skew['too_skewed'] = skew['skew'] > .75\n",
    "#skew"
   ]
  },
  {
   "cell_type": "markdown",
   "metadata": {},
   "source": [
    "### Model building and testing"
   ]
  },
  {
   "cell_type": "code",
   "execution_count": 31,
   "metadata": {},
   "outputs": [],
   "source": [
    "#Data splitting\n",
    "\n",
    "y = (df['Diabetes']).astype(int)\n",
    "#X = df.loc[:, df.columns != 'stroke']  # everything except \"stroke\"\n",
    "X = df.drop(['Diabetes'], axis=1)\n",
    "X_train, X_test, y_train, y_test = train_test_split(X, y, test_size=0.3, random_state=42)"
   ]
  },
  {
   "cell_type": "code",
   "execution_count": 32,
   "metadata": {},
   "outputs": [
    {
     "data": {
      "text/plain": [
       "(49484, 6)"
      ]
     },
     "execution_count": 32,
     "metadata": {},
     "output_type": "execute_result"
    }
   ],
   "source": [
    "X_train.shape"
   ]
  },
  {
   "cell_type": "code",
   "execution_count": 33,
   "metadata": {},
   "outputs": [
    {
     "data": {
      "text/plain": [
       "(21208, 6)"
      ]
     },
     "execution_count": 33,
     "metadata": {},
     "output_type": "execute_result"
    }
   ],
   "source": [
    "X_test.shape"
   ]
  },
  {
   "cell_type": "markdown",
   "metadata": {},
   "source": [
    "### K Nearest Neighbors"
   ]
  },
  {
   "cell_type": "code",
   "execution_count": 34,
   "metadata": {},
   "outputs": [
    {
     "data": {
      "text/html": [
       "<div>\n",
       "<style scoped>\n",
       "    .dataframe tbody tr th:only-of-type {\n",
       "        vertical-align: middle;\n",
       "    }\n",
       "\n",
       "    .dataframe tbody tr th {\n",
       "        vertical-align: top;\n",
       "    }\n",
       "\n",
       "    .dataframe thead th {\n",
       "        text-align: right;\n",
       "    }\n",
       "</style>\n",
       "<table border=\"1\" class=\"dataframe\">\n",
       "  <thead>\n",
       "    <tr style=\"text-align: right;\">\n",
       "      <th></th>\n",
       "      <th>Age</th>\n",
       "      <th>HighChol</th>\n",
       "      <th>BMI</th>\n",
       "      <th>PhysActivity</th>\n",
       "      <th>PhysHlth</th>\n",
       "      <th>HighBP</th>\n",
       "      <th>Diabetes</th>\n",
       "    </tr>\n",
       "  </thead>\n",
       "  <tbody>\n",
       "    <tr>\n",
       "      <th>0</th>\n",
       "      <td>4.0</td>\n",
       "      <td>0.0</td>\n",
       "      <td>26.0</td>\n",
       "      <td>1.0</td>\n",
       "      <td>30.0</td>\n",
       "      <td>1.0</td>\n",
       "      <td>0.0</td>\n",
       "    </tr>\n",
       "    <tr>\n",
       "      <th>1</th>\n",
       "      <td>12.0</td>\n",
       "      <td>1.0</td>\n",
       "      <td>26.0</td>\n",
       "      <td>0.0</td>\n",
       "      <td>0.0</td>\n",
       "      <td>1.0</td>\n",
       "      <td>0.0</td>\n",
       "    </tr>\n",
       "    <tr>\n",
       "      <th>2</th>\n",
       "      <td>13.0</td>\n",
       "      <td>0.0</td>\n",
       "      <td>26.0</td>\n",
       "      <td>1.0</td>\n",
       "      <td>10.0</td>\n",
       "      <td>0.0</td>\n",
       "      <td>0.0</td>\n",
       "    </tr>\n",
       "    <tr>\n",
       "      <th>3</th>\n",
       "      <td>11.0</td>\n",
       "      <td>1.0</td>\n",
       "      <td>28.0</td>\n",
       "      <td>1.0</td>\n",
       "      <td>3.0</td>\n",
       "      <td>1.0</td>\n",
       "      <td>0.0</td>\n",
       "    </tr>\n",
       "    <tr>\n",
       "      <th>4</th>\n",
       "      <td>8.0</td>\n",
       "      <td>0.0</td>\n",
       "      <td>29.0</td>\n",
       "      <td>1.0</td>\n",
       "      <td>0.0</td>\n",
       "      <td>0.0</td>\n",
       "      <td>0.0</td>\n",
       "    </tr>\n",
       "  </tbody>\n",
       "</table>\n",
       "</div>"
      ],
      "text/plain": [
       "    Age  HighChol   BMI  PhysActivity  PhysHlth  HighBP  Diabetes\n",
       "0   4.0       0.0  26.0           1.0      30.0     1.0       0.0\n",
       "1  12.0       1.0  26.0           0.0       0.0     1.0       0.0\n",
       "2  13.0       0.0  26.0           1.0      10.0     0.0       0.0\n",
       "3  11.0       1.0  28.0           1.0       3.0     1.0       0.0\n",
       "4   8.0       0.0  29.0           1.0       0.0     0.0       0.0"
      ]
     },
     "execution_count": 34,
     "metadata": {},
     "output_type": "execute_result"
    }
   ],
   "source": [
    "df[:5]"
   ]
  },
  {
   "cell_type": "code",
   "execution_count": 35,
   "metadata": {},
   "outputs": [
    {
     "name": "stdout",
     "output_type": "stream",
     "text": [
      "Fitting 5 folds for each of 20 candidates, totalling 100 fits\n",
      "[CV 1/5] END ...n_neighbors=1, weights=distance;, score=0.643 total time=   0.1s\n",
      "[CV 2/5] END ...n_neighbors=1, weights=distance;, score=0.645 total time=   0.1s\n",
      "[CV 3/5] END ...n_neighbors=1, weights=distance;, score=0.639 total time=   0.1s\n",
      "[CV 4/5] END ...n_neighbors=1, weights=distance;, score=0.644 total time=   0.1s\n",
      "[CV 5/5] END ...n_neighbors=1, weights=distance;, score=0.637 total time=   0.1s\n",
      "[CV 1/5] END ....n_neighbors=1, weights=uniform;, score=0.643 total time=   0.2s\n",
      "[CV 2/5] END ....n_neighbors=1, weights=uniform;, score=0.645 total time=   0.2s\n",
      "[CV 3/5] END ....n_neighbors=1, weights=uniform;, score=0.639 total time=   0.2s\n",
      "[CV 4/5] END ....n_neighbors=1, weights=uniform;, score=0.644 total time=   0.2s\n",
      "[CV 5/5] END ....n_neighbors=1, weights=uniform;, score=0.637 total time=   0.2s\n",
      "[CV 1/5] END ...n_neighbors=3, weights=distance;, score=0.664 total time=   0.1s\n",
      "[CV 2/5] END ...n_neighbors=3, weights=distance;, score=0.662 total time=   0.1s\n",
      "[CV 3/5] END ...n_neighbors=3, weights=distance;, score=0.668 total time=   0.1s\n",
      "[CV 4/5] END ...n_neighbors=3, weights=distance;, score=0.660 total time=   0.1s\n",
      "[CV 5/5] END ...n_neighbors=3, weights=distance;, score=0.664 total time=   0.1s\n",
      "[CV 1/5] END ....n_neighbors=3, weights=uniform;, score=0.669 total time=   0.2s\n",
      "[CV 2/5] END ....n_neighbors=3, weights=uniform;, score=0.667 total time=   0.2s\n",
      "[CV 3/5] END ....n_neighbors=3, weights=uniform;, score=0.674 total time=   0.2s\n",
      "[CV 4/5] END ....n_neighbors=3, weights=uniform;, score=0.667 total time=   0.2s\n",
      "[CV 5/5] END ....n_neighbors=3, weights=uniform;, score=0.674 total time=   0.2s\n",
      "[CV 1/5] END ...n_neighbors=5, weights=distance;, score=0.671 total time=   0.1s\n",
      "[CV 2/5] END ...n_neighbors=5, weights=distance;, score=0.674 total time=   0.1s\n",
      "[CV 3/5] END ...n_neighbors=5, weights=distance;, score=0.681 total time=   0.1s\n",
      "[CV 4/5] END ...n_neighbors=5, weights=distance;, score=0.673 total time=   0.1s\n",
      "[CV 5/5] END ...n_neighbors=5, weights=distance;, score=0.673 total time=   0.1s\n",
      "[CV 1/5] END ....n_neighbors=5, weights=uniform;, score=0.686 total time=   0.2s\n",
      "[CV 2/5] END ....n_neighbors=5, weights=uniform;, score=0.683 total time=   0.2s\n",
      "[CV 3/5] END ....n_neighbors=5, weights=uniform;, score=0.691 total time=   0.2s\n",
      "[CV 4/5] END ....n_neighbors=5, weights=uniform;, score=0.685 total time=   0.2s\n",
      "[CV 5/5] END ....n_neighbors=5, weights=uniform;, score=0.688 total time=   0.2s\n",
      "[CV 1/5] END ...n_neighbors=7, weights=distance;, score=0.675 total time=   0.1s\n",
      "[CV 2/5] END ...n_neighbors=7, weights=distance;, score=0.681 total time=   0.1s\n",
      "[CV 3/5] END ...n_neighbors=7, weights=distance;, score=0.686 total time=   0.1s\n",
      "[CV 4/5] END ...n_neighbors=7, weights=distance;, score=0.678 total time=   0.1s\n",
      "[CV 5/5] END ...n_neighbors=7, weights=distance;, score=0.677 total time=   0.1s\n",
      "[CV 1/5] END ....n_neighbors=7, weights=uniform;, score=0.692 total time=   0.3s\n",
      "[CV 2/5] END ....n_neighbors=7, weights=uniform;, score=0.692 total time=   0.3s\n",
      "[CV 3/5] END ....n_neighbors=7, weights=uniform;, score=0.699 total time=   0.3s\n",
      "[CV 4/5] END ....n_neighbors=7, weights=uniform;, score=0.692 total time=   0.3s\n",
      "[CV 5/5] END ....n_neighbors=7, weights=uniform;, score=0.696 total time=   0.3s\n",
      "[CV 1/5] END ...n_neighbors=9, weights=distance;, score=0.676 total time=   0.1s\n",
      "[CV 2/5] END ...n_neighbors=9, weights=distance;, score=0.679 total time=   0.1s\n",
      "[CV 3/5] END ...n_neighbors=9, weights=distance;, score=0.689 total time=   0.1s\n",
      "[CV 4/5] END ...n_neighbors=9, weights=distance;, score=0.684 total time=   0.1s\n",
      "[CV 5/5] END ...n_neighbors=9, weights=distance;, score=0.677 total time=   0.1s\n",
      "[CV 1/5] END ....n_neighbors=9, weights=uniform;, score=0.692 total time=   0.3s\n",
      "[CV 2/5] END ....n_neighbors=9, weights=uniform;, score=0.691 total time=   0.2s\n",
      "[CV 3/5] END ....n_neighbors=9, weights=uniform;, score=0.702 total time=   0.3s\n",
      "[CV 4/5] END ....n_neighbors=9, weights=uniform;, score=0.699 total time=   0.3s\n",
      "[CV 5/5] END ....n_neighbors=9, weights=uniform;, score=0.700 total time=   0.3s\n",
      "[CV 1/5] END ..n_neighbors=11, weights=distance;, score=0.683 total time=   0.1s\n",
      "[CV 2/5] END ..n_neighbors=11, weights=distance;, score=0.684 total time=   0.1s\n",
      "[CV 3/5] END ..n_neighbors=11, weights=distance;, score=0.690 total time=   0.1s\n",
      "[CV 4/5] END ..n_neighbors=11, weights=distance;, score=0.686 total time=   0.1s\n",
      "[CV 5/5] END ..n_neighbors=11, weights=distance;, score=0.681 total time=   0.1s\n",
      "[CV 1/5] END ...n_neighbors=11, weights=uniform;, score=0.701 total time=   0.3s\n",
      "[CV 2/5] END ...n_neighbors=11, weights=uniform;, score=0.700 total time=   0.3s\n",
      "[CV 3/5] END ...n_neighbors=11, weights=uniform;, score=0.707 total time=   0.3s\n",
      "[CV 4/5] END ...n_neighbors=11, weights=uniform;, score=0.702 total time=   0.3s\n",
      "[CV 5/5] END ...n_neighbors=11, weights=uniform;, score=0.702 total time=   0.3s\n",
      "[CV 1/5] END ..n_neighbors=13, weights=distance;, score=0.683 total time=   0.1s\n",
      "[CV 2/5] END ..n_neighbors=13, weights=distance;, score=0.683 total time=   0.1s\n",
      "[CV 3/5] END ..n_neighbors=13, weights=distance;, score=0.687 total time=   0.1s\n",
      "[CV 4/5] END ..n_neighbors=13, weights=distance;, score=0.686 total time=   0.1s\n",
      "[CV 5/5] END ..n_neighbors=13, weights=distance;, score=0.682 total time=   0.1s\n",
      "[CV 1/5] END ...n_neighbors=13, weights=uniform;, score=0.704 total time=   0.3s\n",
      "[CV 2/5] END ...n_neighbors=13, weights=uniform;, score=0.700 total time=   0.3s\n",
      "[CV 3/5] END ...n_neighbors=13, weights=uniform;, score=0.704 total time=   0.3s\n",
      "[CV 4/5] END ...n_neighbors=13, weights=uniform;, score=0.704 total time=   0.3s\n",
      "[CV 5/5] END ...n_neighbors=13, weights=uniform;, score=0.705 total time=   0.3s\n",
      "[CV 1/5] END ..n_neighbors=15, weights=distance;, score=0.682 total time=   0.1s\n",
      "[CV 2/5] END ..n_neighbors=15, weights=distance;, score=0.683 total time=   0.1s\n",
      "[CV 3/5] END ..n_neighbors=15, weights=distance;, score=0.688 total time=   0.1s\n",
      "[CV 4/5] END ..n_neighbors=15, weights=distance;, score=0.688 total time=   0.1s\n",
      "[CV 5/5] END ..n_neighbors=15, weights=distance;, score=0.686 total time=   0.1s\n",
      "[CV 1/5] END ...n_neighbors=15, weights=uniform;, score=0.702 total time=   0.3s\n",
      "[CV 2/5] END ...n_neighbors=15, weights=uniform;, score=0.702 total time=   0.3s\n",
      "[CV 3/5] END ...n_neighbors=15, weights=uniform;, score=0.708 total time=   0.3s\n",
      "[CV 4/5] END ...n_neighbors=15, weights=uniform;, score=0.704 total time=   0.3s\n",
      "[CV 5/5] END ...n_neighbors=15, weights=uniform;, score=0.711 total time=   0.3s\n",
      "[CV 1/5] END ..n_neighbors=17, weights=distance;, score=0.685 total time=   0.1s\n",
      "[CV 2/5] END ..n_neighbors=17, weights=distance;, score=0.684 total time=   0.1s\n",
      "[CV 3/5] END ..n_neighbors=17, weights=distance;, score=0.691 total time=   0.1s\n",
      "[CV 4/5] END ..n_neighbors=17, weights=distance;, score=0.689 total time=   0.1s\n",
      "[CV 5/5] END ..n_neighbors=17, weights=distance;, score=0.685 total time=   0.1s\n",
      "[CV 1/5] END ...n_neighbors=17, weights=uniform;, score=0.707 total time=   0.3s\n",
      "[CV 2/5] END ...n_neighbors=17, weights=uniform;, score=0.703 total time=   0.3s\n",
      "[CV 3/5] END ...n_neighbors=17, weights=uniform;, score=0.708 total time=   0.3s\n",
      "[CV 4/5] END ...n_neighbors=17, weights=uniform;, score=0.708 total time=   0.3s\n",
      "[CV 5/5] END ...n_neighbors=17, weights=uniform;, score=0.710 total time=   0.3s\n",
      "[CV 1/5] END ..n_neighbors=19, weights=distance;, score=0.684 total time=   0.1s\n",
      "[CV 2/5] END ..n_neighbors=19, weights=distance;, score=0.687 total time=   0.2s\n",
      "[CV 3/5] END ..n_neighbors=19, weights=distance;, score=0.692 total time=   0.2s\n",
      "[CV 4/5] END ..n_neighbors=19, weights=distance;, score=0.691 total time=   0.2s\n",
      "[CV 5/5] END ..n_neighbors=19, weights=distance;, score=0.687 total time=   0.2s\n",
      "[CV 1/5] END ...n_neighbors=19, weights=uniform;, score=0.708 total time=   0.3s\n",
      "[CV 2/5] END ...n_neighbors=19, weights=uniform;, score=0.706 total time=   0.3s\n",
      "[CV 3/5] END ...n_neighbors=19, weights=uniform;, score=0.713 total time=   0.3s\n",
      "[CV 4/5] END ...n_neighbors=19, weights=uniform;, score=0.710 total time=   0.3s\n",
      "[CV 5/5] END ...n_neighbors=19, weights=uniform;, score=0.713 total time=   0.3s\n"
     ]
    },
    {
     "data": {
      "text/plain": [
       "GridSearchCV(estimator=KNeighborsClassifier(),\n",
       "             param_grid={'n_neighbors': [1, 3, 5, 7, 9, 11, 13, 15, 17, 19],\n",
       "                         'weights': ['distance', 'uniform']},\n",
       "             verbose=3)"
      ]
     },
     "execution_count": 35,
     "metadata": {},
     "output_type": "execute_result"
    }
   ],
   "source": [
    "from sklearn.model_selection import GridSearchCV\n",
    "# defining parameter range\n",
    "param_grid = {'n_neighbors': [1,3,5,7,9,11,13,15,17,19],  #odd numbers because there are 2 classes in target coulmn\n",
    "              'weights': ['distance', 'uniform']}  \n",
    "gridKNN = GridSearchCV(KNeighborsClassifier(), param_grid, refit = True, verbose = 3)\n",
    "  \n",
    "# fitting the model for grid search\n",
    "gridKNN.fit(X_train, y_train)"
   ]
  },
  {
   "cell_type": "code",
   "execution_count": 36,
   "metadata": {},
   "outputs": [
    {
     "name": "stdout",
     "output_type": "stream",
     "text": [
      "{'n_neighbors': 19, 'weights': 'uniform'}\n"
     ]
    }
   ],
   "source": [
    "print(gridKNN.best_params_)"
   ]
  },
  {
   "cell_type": "code",
   "execution_count": 37,
   "metadata": {},
   "outputs": [],
   "source": [
    "#predict with the best parameter\n",
    "y_pred_test = gridKNN.predict(X_test)\n",
    "y_pred_train = gridKNN.predict(X_train)"
   ]
  },
  {
   "cell_type": "code",
   "execution_count": 38,
   "metadata": {},
   "outputs": [
    {
     "name": "stdout",
     "output_type": "stream",
     "text": [
      "0.7325398108479508\n",
      "0.7121840814786873\n"
     ]
    }
   ],
   "source": [
    "#Check accuracy and overfitting\n",
    "print(accuracy_score(y_train, y_pred_train))\n",
    "print(accuracy_score(y_test, y_pred_test))"
   ]
  },
  {
   "cell_type": "code",
   "execution_count": 39,
   "metadata": {},
   "outputs": [
    {
     "data": {
      "text/plain": [
       "<Figure size 500x500 with 0 Axes>"
      ]
     },
     "metadata": {},
     "output_type": "display_data"
    },
    {
     "data": {
      "image/png": "[encoded data removed]",
      "text/plain": [
       "<Figure size 600x600 with 2 Axes>"
      ]
     },
     "metadata": {},
     "output_type": "display_data"
    }
   ],
   "source": [
    "#confusion matrix\n",
    "import matplotlib.pyplot as plt\n",
    "from sklearn.metrics import confusion_matrix, ConfusionMatrixDisplay\n",
    "cm = confusion_matrix(y_test, y_pred_test, labels=gridKNN.classes_)\n",
    "disp = ConfusionMatrixDisplay(confusion_matrix=cm,display_labels=gridKNN.classes_)\n",
    "fig = plt.figure(figsize=(5, 5))\n",
    "disp.plot(cmap=plt.cm.Blues) \n",
    "plt.grid(which='major')     #remove cell gridlines\n",
    "plt.gcf().set_size_inches(6, 6)   # Adjust the size of the plot\n",
    "plt.show()"
   ]
  },
  {
   "cell_type": "code",
   "execution_count": 40,
   "metadata": {},
   "outputs": [],
   "source": [
    "#model metrics\n",
    "\n",
    "#function that get y_test and calculate into df all the relevant metric\n",
    "def train_evaluate_model(y_test):\n",
    "    #fit the model instance \n",
    "    predictions = y_pred_test # calculate predictions\n",
    "\n",
    "    #compute metrics for evaluation\n",
    "    accuracy = accuracy_score(y_test, predictions)\n",
    "    f1 = f1_score(y_test, predictions)\n",
    "    precision = precision_score(y_test, predictions)\n",
    "    recall = recall_score(y_test, predictions)\n",
    "    balanced_accuracy = balanced_accuracy_score(y_test, predictions)\n",
    "    auc = roc_auc_score(y_test, predictions)\n",
    "\n",
    "    #create a dataframe to visualize the results\n",
    "    eval_df = pd.DataFrame([[accuracy, f1, precision, recall, balanced_accuracy, auc]], columns=['accuracy', 'f1_score', 'precision', 'recall', 'balanced_accuracy', 'auc'])\n",
    "    return eval_df"
   ]
  },
  {
   "cell_type": "code",
   "execution_count": 41,
   "metadata": {},
   "outputs": [
    {
     "data": {
      "text/html": [
       "<style type=\"text/css\">\n",
       "#T_25956_row0_col0, #T_25956_row0_col1, #T_25956_row0_col2, #T_25956_row0_col3, #T_25956_row0_col4, #T_25956_row0_col5 {\n",
       "  background-color: #008000;\n",
       "  color: #f1f1f1;\n",
       "}\n",
       "</style>\n",
       "<table id=\"T_25956\">\n",
       "  <thead>\n",
       "    <tr>\n",
       "      <th class=\"blank level0\" >&nbsp;</th>\n",
       "      <th id=\"T_25956_level0_col0\" class=\"col_heading level0 col0\" >accuracy</th>\n",
       "      <th id=\"T_25956_level0_col1\" class=\"col_heading level0 col1\" >f1_score</th>\n",
       "      <th id=\"T_25956_level0_col2\" class=\"col_heading level0 col2\" >precision</th>\n",
       "      <th id=\"T_25956_level0_col3\" class=\"col_heading level0 col3\" >recall</th>\n",
       "      <th id=\"T_25956_level0_col4\" class=\"col_heading level0 col4\" >balanced_accuracy</th>\n",
       "      <th id=\"T_25956_level0_col5\" class=\"col_heading level0 col5\" >auc</th>\n",
       "    </tr>\n",
       "  </thead>\n",
       "  <tbody>\n",
       "    <tr>\n",
       "      <th id=\"T_25956_level0_row0\" class=\"row_heading level0 row0\" >K Nearest Neighbors - Method 1</th>\n",
       "      <td id=\"T_25956_row0_col0\" class=\"data row0 col0\" >0.712184</td>\n",
       "      <td id=\"T_25956_row0_col1\" class=\"data row0 col1\" >0.724424</td>\n",
       "      <td id=\"T_25956_row0_col2\" class=\"data row0 col2\" >0.695053</td>\n",
       "      <td id=\"T_25956_row0_col3\" class=\"data row0 col3\" >0.756387</td>\n",
       "      <td id=\"T_25956_row0_col4\" class=\"data row0 col4\" >0.712172</td>\n",
       "      <td id=\"T_25956_row0_col5\" class=\"data row0 col5\" >0.712172</td>\n",
       "    </tr>\n",
       "  </tbody>\n",
       "</table>\n"
      ],
      "text/plain": [
       "<pandas.io.formats.style.Styler at 0x7fda35cd6160>"
      ]
     },
     "execution_count": 41,
     "metadata": {},
     "output_type": "execute_result"
    }
   ],
   "source": [
    "#model metrics\n",
    "\n",
    "results = train_evaluate_model(y_test)\n",
    "results.index = ['K Nearest Neighbors - Method 1']\n",
    "results.style.background_gradient(cmap = sns.color_palette(\"blend:green,red\", as_cmap=True))"
   ]
  },
  {
   "cell_type": "markdown",
   "metadata": {},
   "source": [
    "### Decision Tree"
   ]
  },
  {
   "cell_type": "code",
   "execution_count": 42,
   "metadata": {},
   "outputs": [],
   "source": [
    "dt = DecisionTreeClassifier(random_state=42)\n",
    "dt = dt.fit(X_train, y_train)"
   ]
  },
  {
   "cell_type": "code",
   "execution_count": 43,
   "metadata": {},
   "outputs": [
    {
     "data": {
      "text/plain": [
       "(49484, 6)"
      ]
     },
     "execution_count": 43,
     "metadata": {},
     "output_type": "execute_result"
    }
   ],
   "source": [
    "X_train.shape"
   ]
  },
  {
   "cell_type": "code",
   "execution_count": 44,
   "metadata": {},
   "outputs": [
    {
     "data": {
      "text/plain": [
       "GridSearchCV(estimator=DecisionTreeClassifier(random_state=42), n_jobs=-1,\n",
       "             param_grid={'max_depth': range(1, 26, 2),\n",
       "                         'max_features': range(1, 7)})"
      ]
     },
     "execution_count": 44,
     "metadata": {},
     "output_type": "execute_result"
    }
   ],
   "source": [
    "#dt = DecisionTreeClassifier(random_state=42)\n",
    "dt = dt.fit(X_train, y_train)\n",
    "\n",
    "# defining parameter range\n",
    "param_grid = {'max_depth':range(1, dt.tree_.max_depth+1, 2),\n",
    "              'max_features': range(1, len(dt.feature_importances_)+1)}  \n",
    "gridDT = GridSearchCV(DecisionTreeClassifier(random_state=42), param_grid, n_jobs=-1)\n",
    "  \n",
    "# fitting the model for grid search\n",
    "gridDT.fit(X_train, y_train)"
   ]
  },
  {
   "cell_type": "code",
   "execution_count": 45,
   "metadata": {},
   "outputs": [
    {
     "name": "stdout",
     "output_type": "stream",
     "text": [
      "{'max_depth': 7, 'max_features': 4}\n"
     ]
    }
   ],
   "source": [
    "print(gridDT.best_params_)"
   ]
  },
  {
   "cell_type": "code",
   "execution_count": 46,
   "metadata": {},
   "outputs": [],
   "source": [
    "y_pred_test = gridDT.predict(X_test)\n",
    "y_pred_train = gridDT.predict(X_train)"
   ]
  },
  {
   "cell_type": "code",
   "execution_count": 47,
   "metadata": {},
   "outputs": [
    {
     "name": "stdout",
     "output_type": "stream",
     "text": [
      "0.7280333036941233\n",
      "0.7178423236514523\n"
     ]
    }
   ],
   "source": [
    "print(accuracy_score(y_train, y_pred_train))\n",
    "print(accuracy_score(y_test, y_pred_test))"
   ]
  },
  {
   "cell_type": "code",
   "execution_count": 48,
   "metadata": {},
   "outputs": [
    {
     "data": {
      "text/plain": [
       "<Figure size 500x500 with 0 Axes>"
      ]
     },
     "metadata": {},
     "output_type": "display_data"
    },
    {
     "data": {
      "image/png": "[encoded data removed]",
      "text/plain": [
       "<Figure size 600x600 with 2 Axes>"
      ]
     },
     "metadata": {},
     "output_type": "display_data"
    }
   ],
   "source": [
    "#confusion matrix\n",
    "import matplotlib.pyplot as plt\n",
    "from sklearn.metrics import confusion_matrix, ConfusionMatrixDisplay\n",
    "cm = confusion_matrix(y_test, y_pred_test, labels=gridDT.classes_)\n",
    "disp = ConfusionMatrixDisplay(confusion_matrix=cm,display_labels=gridDT.classes_)\n",
    "fig = plt.figure(figsize=(5, 5))\n",
    "disp.plot(cmap=plt.cm.Blues) \n",
    "plt.grid(which='major')     #remove cell gridlines\n",
    "plt.gcf().set_size_inches(6, 6)   # Adjust the size of the plot\n",
    "plt.show()"
   ]
  },
  {
   "cell_type": "code",
   "execution_count": 49,
   "metadata": {},
   "outputs": [
    {
     "data": {
      "text/html": [
       "<style type=\"text/css\">\n",
       "#T_99146_row0_col0, #T_99146_row0_col1, #T_99146_row0_col2, #T_99146_row0_col3, #T_99146_row0_col4, #T_99146_row0_col5 {\n",
       "  background-color: #ff0000;\n",
       "  color: #f1f1f1;\n",
       "}\n",
       "#T_99146_row1_col0, #T_99146_row1_col1, #T_99146_row1_col2, #T_99146_row1_col3, #T_99146_row1_col4, #T_99146_row1_col5 {\n",
       "  background-color: #008000;\n",
       "  color: #f1f1f1;\n",
       "}\n",
       "</style>\n",
       "<table id=\"T_99146\">\n",
       "  <thead>\n",
       "    <tr>\n",
       "      <th class=\"blank level0\" >&nbsp;</th>\n",
       "      <th id=\"T_99146_level0_col0\" class=\"col_heading level0 col0\" >accuracy</th>\n",
       "      <th id=\"T_99146_level0_col1\" class=\"col_heading level0 col1\" >f1_score</th>\n",
       "      <th id=\"T_99146_level0_col2\" class=\"col_heading level0 col2\" >precision</th>\n",
       "      <th id=\"T_99146_level0_col3\" class=\"col_heading level0 col3\" >recall</th>\n",
       "      <th id=\"T_99146_level0_col4\" class=\"col_heading level0 col4\" >balanced_accuracy</th>\n",
       "      <th id=\"T_99146_level0_col5\" class=\"col_heading level0 col5\" >auc</th>\n",
       "    </tr>\n",
       "  </thead>\n",
       "  <tbody>\n",
       "    <tr>\n",
       "      <th id=\"T_99146_level0_row0\" class=\"row_heading level0 row0\" >K Nearest Neighbors - Method 1</th>\n",
       "      <td id=\"T_99146_row0_col0\" class=\"data row0 col0\" >0.712184</td>\n",
       "      <td id=\"T_99146_row0_col1\" class=\"data row0 col1\" >0.724424</td>\n",
       "      <td id=\"T_99146_row0_col2\" class=\"data row0 col2\" >0.695053</td>\n",
       "      <td id=\"T_99146_row0_col3\" class=\"data row0 col3\" >0.756387</td>\n",
       "      <td id=\"T_99146_row0_col4\" class=\"data row0 col4\" >0.712172</td>\n",
       "      <td id=\"T_99146_row0_col5\" class=\"data row0 col5\" >0.712172</td>\n",
       "    </tr>\n",
       "    <tr>\n",
       "      <th id=\"T_99146_level0_row1\" class=\"row_heading level0 row1\" >Decision Trees - Method 2</th>\n",
       "      <td id=\"T_99146_row1_col0\" class=\"data row1 col0\" >0.717842</td>\n",
       "      <td id=\"T_99146_row1_col1\" class=\"data row1 col1\" >0.731177</td>\n",
       "      <td id=\"T_99146_row1_col2\" class=\"data row1 col2\" >0.698361</td>\n",
       "      <td id=\"T_99146_row1_col3\" class=\"data row1 col3\" >0.767229</td>\n",
       "      <td id=\"T_99146_row1_col4\" class=\"data row1 col4\" >0.717828</td>\n",
       "      <td id=\"T_99146_row1_col5\" class=\"data row1 col5\" >0.717828</td>\n",
       "    </tr>\n",
       "  </tbody>\n",
       "</table>\n"
      ],
      "text/plain": [
       "<pandas.io.formats.style.Styler at 0x7fda33789cd0>"
      ]
     },
     "execution_count": 49,
     "metadata": {},
     "output_type": "execute_result"
    }
   ],
   "source": [
    "resultsDT = train_evaluate_model(y_test)\n",
    "resultsDT.index = ['Decision Trees - Method 2']\n",
    "results = results.append(resultsDT)\n",
    "results.style.background_gradient(cmap = sns.color_palette(\"blend:red,green\", as_cmap=True))"
   ]
  },
  {
   "cell_type": "markdown",
   "metadata": {},
   "source": [
    "### Random Forest"
   ]
  },
  {
   "cell_type": "code",
   "execution_count": 50,
   "metadata": {},
   "outputs": [
    {
     "data": {
      "text/plain": [
       "GridSearchCV(estimator=RandomForestClassifier(n_jobs=-1, oob_score=True,\n",
       "                                              random_state=42,\n",
       "                                              warm_start=True),\n",
       "             param_grid={'n_estimators': [15, 20, 30, 40, 50, 100, 150, 200,\n",
       "                                          300, 400]})"
      ]
     },
     "execution_count": 50,
     "metadata": {},
     "output_type": "execute_result"
    }
   ],
   "source": [
    "RF = RandomForestClassifier(oob_score=True, \n",
    "                            random_state=42, \n",
    "                            warm_start=True,\n",
    "                            n_jobs=-1)\n",
    "\n",
    "# defining parameter range\n",
    "param_grid = {'n_estimators':[15, 20, 30, 40, 50, 100, 150, 200, 300, 400]\n",
    "              }  \n",
    "gridRF = GridSearchCV(RF, param_grid)\n",
    "  \n",
    "# fitting the model for grid search\n",
    "gridRF.fit(X_train, y_train)"
   ]
  },
  {
   "cell_type": "code",
   "execution_count": 51,
   "metadata": {},
   "outputs": [
    {
     "name": "stdout",
     "output_type": "stream",
     "text": [
      "{'n_estimators': 400}\n"
     ]
    }
   ],
   "source": [
    "print(gridRF.best_params_)"
   ]
  },
  {
   "cell_type": "code",
   "execution_count": 52,
   "metadata": {},
   "outputs": [],
   "source": [
    "y_pred_test = gridRF.predict(X_test)\n",
    "y_pred_train = gridRF.predict(X_train)"
   ]
  },
  {
   "cell_type": "code",
   "execution_count": 53,
   "metadata": {},
   "outputs": [
    {
     "name": "stdout",
     "output_type": "stream",
     "text": [
      "0.8024411931129254\n",
      "0.6940777065258393\n"
     ]
    }
   ],
   "source": [
    "print(accuracy_score(y_train, y_pred_train))\n",
    "print(accuracy_score(y_test, y_pred_test))"
   ]
  },
  {
   "cell_type": "code",
   "execution_count": 54,
   "metadata": {},
   "outputs": [
    {
     "data": {
      "text/plain": [
       "<Figure size 500x500 with 0 Axes>"
      ]
     },
     "metadata": {},
     "output_type": "display_data"
    },
    {
     "data": {
      "image/png": "[encoded data removed]",
      "text/plain": [
       "<Figure size 600x600 with 2 Axes>"
      ]
     },
     "metadata": {},
     "output_type": "display_data"
    }
   ],
   "source": [
    "#confusion matrix\n",
    "import matplotlib.pyplot as plt\n",
    "from sklearn.metrics import confusion_matrix, ConfusionMatrixDisplay\n",
    "cm = confusion_matrix(y_test, y_pred_test, labels=gridRF.classes_)\n",
    "disp = ConfusionMatrixDisplay(confusion_matrix=cm,display_labels=gridRF.classes_)\n",
    "fig = plt.figure(figsize=(5, 5))\n",
    "disp.plot(cmap=plt.cm.Blues) \n",
    "plt.grid(which='major')     #remove cell gridlines\n",
    "plt.gcf().set_size_inches(6, 6)   # Adjust the size of the plot\n",
    "plt.show()"
   ]
  },
  {
   "cell_type": "markdown",
   "metadata": {},
   "source": [
    "### Final result table"
   ]
  },
  {
   "cell_type": "code",
   "execution_count": 55,
   "metadata": {},
   "outputs": [
    {
     "data": {
      "text/html": [
       "<style type=\"text/css\">\n",
       "#T_d3581_row0_col0, #T_d3581_row0_col4, #T_d3581_row0_col5 {\n",
       "  background-color: #3c6200;\n",
       "  color: #f1f1f1;\n",
       "}\n",
       "#T_d3581_row0_col1 {\n",
       "  background-color: #366500;\n",
       "  color: #f1f1f1;\n",
       "}\n",
       "#T_d3581_row0_col2 {\n",
       "  background-color: #4d5900;\n",
       "  color: #f1f1f1;\n",
       "}\n",
       "#T_d3581_row0_col3 {\n",
       "  background-color: #326700;\n",
       "  color: #f1f1f1;\n",
       "}\n",
       "#T_d3581_row1_col0, #T_d3581_row1_col1, #T_d3581_row1_col2, #T_d3581_row1_col3, #T_d3581_row1_col4, #T_d3581_row1_col5 {\n",
       "  background-color: #008000;\n",
       "  color: #f1f1f1;\n",
       "}\n",
       "#T_d3581_row2_col0, #T_d3581_row2_col1, #T_d3581_row2_col2, #T_d3581_row2_col3, #T_d3581_row2_col4, #T_d3581_row2_col5 {\n",
       "  background-color: #ff0000;\n",
       "  color: #f1f1f1;\n",
       "}\n",
       "</style>\n",
       "<table id=\"T_d3581\">\n",
       "  <thead>\n",
       "    <tr>\n",
       "      <th class=\"blank level0\" >&nbsp;</th>\n",
       "      <th id=\"T_d3581_level0_col0\" class=\"col_heading level0 col0\" >accuracy</th>\n",
       "      <th id=\"T_d3581_level0_col1\" class=\"col_heading level0 col1\" >f1_score</th>\n",
       "      <th id=\"T_d3581_level0_col2\" class=\"col_heading level0 col2\" >precision</th>\n",
       "      <th id=\"T_d3581_level0_col3\" class=\"col_heading level0 col3\" >recall</th>\n",
       "      <th id=\"T_d3581_level0_col4\" class=\"col_heading level0 col4\" >balanced_accuracy</th>\n",
       "      <th id=\"T_d3581_level0_col5\" class=\"col_heading level0 col5\" >auc</th>\n",
       "    </tr>\n",
       "  </thead>\n",
       "  <tbody>\n",
       "    <tr>\n",
       "      <th id=\"T_d3581_level0_row0\" class=\"row_heading level0 row0\" >K Nearest Neighbors - Method 1</th>\n",
       "      <td id=\"T_d3581_row0_col0\" class=\"data row0 col0\" >0.712184</td>\n",
       "      <td id=\"T_d3581_row0_col1\" class=\"data row0 col1\" >0.724424</td>\n",
       "      <td id=\"T_d3581_row0_col2\" class=\"data row0 col2\" >0.695053</td>\n",
       "      <td id=\"T_d3581_row0_col3\" class=\"data row0 col3\" >0.756387</td>\n",
       "      <td id=\"T_d3581_row0_col4\" class=\"data row0 col4\" >0.712172</td>\n",
       "      <td id=\"T_d3581_row0_col5\" class=\"data row0 col5\" >0.712172</td>\n",
       "    </tr>\n",
       "    <tr>\n",
       "      <th id=\"T_d3581_level0_row1\" class=\"row_heading level0 row1\" >Decision Trees - Method 2</th>\n",
       "      <td id=\"T_d3581_row1_col0\" class=\"data row1 col0\" >0.717842</td>\n",
       "      <td id=\"T_d3581_row1_col1\" class=\"data row1 col1\" >0.731177</td>\n",
       "      <td id=\"T_d3581_row1_col2\" class=\"data row1 col2\" >0.698361</td>\n",
       "      <td id=\"T_d3581_row1_col3\" class=\"data row1 col3\" >0.767229</td>\n",
       "      <td id=\"T_d3581_row1_col4\" class=\"data row1 col4\" >0.717828</td>\n",
       "      <td id=\"T_d3581_row1_col5\" class=\"data row1 col5\" >0.717828</td>\n",
       "    </tr>\n",
       "    <tr>\n",
       "      <th id=\"T_d3581_level0_row2\" class=\"row_heading level0 row2\" >Random Forest - Method 3</th>\n",
       "      <td id=\"T_d3581_row2_col0\" class=\"data row2 col0\" >0.694078</td>\n",
       "      <td id=\"T_d3581_row2_col1\" class=\"data row2 col1\" >0.699518</td>\n",
       "      <td id=\"T_d3581_row2_col2\" class=\"data row2 col2\" >0.687483</td>\n",
       "      <td id=\"T_d3581_row2_col3\" class=\"data row2 col3\" >0.711983</td>\n",
       "      <td id=\"T_d3581_row2_col4\" class=\"data row2 col4\" >0.694073</td>\n",
       "      <td id=\"T_d3581_row2_col5\" class=\"data row2 col5\" >0.694073</td>\n",
       "    </tr>\n",
       "  </tbody>\n",
       "</table>\n"
      ],
      "text/plain": [
       "<pandas.io.formats.style.Styler at 0x7fda21cc39d0>"
      ]
     },
     "execution_count": 55,
     "metadata": {},
     "output_type": "execute_result"
    }
   ],
   "source": [
    "resultsRF = train_evaluate_model(y_test)\n",
    "resultsRF.index = ['Random Forest - Method 3']\n",
    "results = results.append(resultsRF)\n",
    "results.style.background_gradient(cmap = sns.color_palette(\"blend:red,green\", as_cmap=True))"
   ]
  },
  {
   "cell_type": "markdown",
   "metadata": {},
   "source": [
    "## 5. Оценка и оптимизация моделей"
   ]
  },
  {
   "cell_type": "code",
   "execution_count": null,
   "metadata": {},
   "outputs": [],
   "source": []
  },
  {
   "cell_type": "markdown",
   "metadata": {},
   "source": [
    "## 6. Сохранение модели в файл"
   ]
  },
  {
   "cell_type": "code",
   "execution_count": 56,
   "metadata": {},
   "outputs": [
    {
     "data": {
      "text/html": [
       "<div>\n",
       "<style scoped>\n",
       "    .dataframe tbody tr th:only-of-type {\n",
       "        vertical-align: middle;\n",
       "    }\n",
       "\n",
       "    .dataframe tbody tr th {\n",
       "        vertical-align: top;\n",
       "    }\n",
       "\n",
       "    .dataframe thead th {\n",
       "        text-align: right;\n",
       "    }\n",
       "</style>\n",
       "<table border=\"1\" class=\"dataframe\">\n",
       "  <thead>\n",
       "    <tr style=\"text-align: right;\">\n",
       "      <th></th>\n",
       "      <th>Age</th>\n",
       "      <th>HighChol</th>\n",
       "      <th>BMI</th>\n",
       "      <th>PhysActivity</th>\n",
       "      <th>PhysHlth</th>\n",
       "      <th>HighBP</th>\n",
       "      <th>Diabetes</th>\n",
       "    </tr>\n",
       "  </thead>\n",
       "  <tbody>\n",
       "    <tr>\n",
       "      <th>0</th>\n",
       "      <td>4.0</td>\n",
       "      <td>0.0</td>\n",
       "      <td>26.0</td>\n",
       "      <td>1.0</td>\n",
       "      <td>30.0</td>\n",
       "      <td>1.0</td>\n",
       "      <td>0.0</td>\n",
       "    </tr>\n",
       "    <tr>\n",
       "      <th>1</th>\n",
       "      <td>12.0</td>\n",
       "      <td>1.0</td>\n",
       "      <td>26.0</td>\n",
       "      <td>0.0</td>\n",
       "      <td>0.0</td>\n",
       "      <td>1.0</td>\n",
       "      <td>0.0</td>\n",
       "    </tr>\n",
       "    <tr>\n",
       "      <th>2</th>\n",
       "      <td>13.0</td>\n",
       "      <td>0.0</td>\n",
       "      <td>26.0</td>\n",
       "      <td>1.0</td>\n",
       "      <td>10.0</td>\n",
       "      <td>0.0</td>\n",
       "      <td>0.0</td>\n",
       "    </tr>\n",
       "    <tr>\n",
       "      <th>3</th>\n",
       "      <td>11.0</td>\n",
       "      <td>1.0</td>\n",
       "      <td>28.0</td>\n",
       "      <td>1.0</td>\n",
       "      <td>3.0</td>\n",
       "      <td>1.0</td>\n",
       "      <td>0.0</td>\n",
       "    </tr>\n",
       "    <tr>\n",
       "      <th>4</th>\n",
       "      <td>8.0</td>\n",
       "      <td>0.0</td>\n",
       "      <td>29.0</td>\n",
       "      <td>1.0</td>\n",
       "      <td>0.0</td>\n",
       "      <td>0.0</td>\n",
       "      <td>0.0</td>\n",
       "    </tr>\n",
       "  </tbody>\n",
       "</table>\n",
       "</div>"
      ],
      "text/plain": [
       "    Age  HighChol   BMI  PhysActivity  PhysHlth  HighBP  Diabetes\n",
       "0   4.0       0.0  26.0           1.0      30.0     1.0       0.0\n",
       "1  12.0       1.0  26.0           0.0       0.0     1.0       0.0\n",
       "2  13.0       0.0  26.0           1.0      10.0     0.0       0.0\n",
       "3  11.0       1.0  28.0           1.0       3.0     1.0       0.0\n",
       "4   8.0       0.0  29.0           1.0       0.0     0.0       0.0"
      ]
     },
     "execution_count": 56,
     "metadata": {},
     "output_type": "execute_result"
    }
   ],
   "source": [
    "df[:5]"
   ]
  },
  {
   "cell_type": "code",
   "execution_count": 57,
   "metadata": {},
   "outputs": [
    {
     "data": {
      "text/plain": [
       "['diabet_model_pred.joblib']"
      ]
     },
     "execution_count": 57,
     "metadata": {},
     "output_type": "execute_result"
    }
   ],
   "source": [
    "import joblib\n",
    "joblib.dump(gridKNN, 'diabet_model_pred.joblib')"
   ]
  },
  {
   "cell_type": "code",
   "execution_count": 68,
   "metadata": {},
   "outputs": [
    {
     "name": "stdout",
     "output_type": "stream",
     "text": [
      "У вас сахарный диабет🥺\n"
     ]
    }
   ],
   "source": [
    "import joblib\n",
    "\n",
    "# Загружаем модель из файла\n",
    "clf = joblib.load('diabet_model_pred.joblib')\n",
    "\n",
    "# Используем модель для предсказаний\n",
    "X_new = [[1, 0, 55.8, 1, 1, 19]]\n",
    "y_pred = clf.predict(X_new)\n",
    "if y_pred == 0:\n",
    "    print('Диагноз не подтвержден😎')\n",
    "if y_pred == 1:\n",
    "    print('У вас сахарный диабет🥺')"
   ]
  },
  {
   "cell_type": "code",
   "execution_count": null,
   "metadata": {},
   "outputs": [],
   "source": []
  },
  {
   "cell_type": "code",
   "execution_count": null,
   "metadata": {},
   "outputs": [],
   "source": []
  },
  {
   "cell_type": "code",
   "execution_count": null,
   "metadata": {},
   "outputs": [],
   "source": []
  }
 ],
 "metadata": {
  "kernelspec": {
   "display_name": "Python 3 (ipykernel)",
   "language": "python",
   "name": "python3"
  },
  "language_info": {
   "codemirror_mode": {
    "name": "ipython",
    "version": 3
   },
   "file_extension": ".py",
   "mimetype": "text/x-python",
   "name": "python",
   "nbconvert_exporter": "python",
   "pygments_lexer": "ipython3",
   "version": "3.9.13"
  }
 },
 "nbformat": 4,
 "nbformat_minor": 2
}
