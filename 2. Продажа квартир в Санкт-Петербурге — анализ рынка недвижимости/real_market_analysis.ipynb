{
  "cells": [
    {
      "cell_type": "markdown",
      "metadata": {
        "id": "lrdYgtdArrfh"
      },
      "source": [
        "# Исследование объявлений о продаже квартир\n",
        "\n",
        "В вашем распоряжении данные сервиса Яндекс.Недвижимость — архив объявлений о продаже квартир в Санкт-Петербурге и соседних населённых пунктов за несколько лет. Нужно научиться определять рыночную стоимость объектов недвижимости. Ваша задача — установить параметры. Это позволит построить автоматизированную систему: она отследит аномалии и мошенническую деятельность.\n",
        "\n",
        "По каждой квартире на продажу доступны два вида данных. Первые вписаны пользователем, вторые — получены автоматически на основе картографических данных. Например, расстояние до центра, аэропорта, ближайшего парка и водоёма."
      ]
    },
    {
      "cell_type": "markdown",
      "metadata": {
        "id": "T_Ovuu9srrfj"
      },
      "source": [
        "### Откройте файл с данными и изучите общую информацию."
      ]
    },
    {
      "cell_type": "code",
      "execution_count": null,
      "metadata": {
        "id": "l6ko58tNrrfj"
      },
      "outputs": [],
      "source": [
        "import pandas as pd\n",
        "import matplotlib.pyplot as plt"
      ]
    },
    {
      "cell_type": "code",
      "execution_count": null,
      "metadata": {
        "id": "BsphK5vZrrfk"
      },
      "outputs": [],
      "source": [
        "data = pd.read_csv('/Users/daniilpetrovskiy/Desktop/yandex_practicum_project/2. Продажа квартир в Санкт-Петербурге — анализ рынка недвижимости/real_estate_data (1).csv', sep = '\\t')"
      ]
    },
    {
      "cell_type": "code",
      "execution_count": null,
      "metadata": {
        "id": "Jk7oBmtErrfk",
        "outputId": "d116f930-6f0c-4775-b667-0357606a3c98"
      },
      "outputs": [
        {
          "data": {
            "text/html": [
              "<div>\n",
              "<style scoped>\n",
              "    .dataframe tbody tr th:only-of-type {\n",
              "        vertical-align: middle;\n",
              "    }\n",
              "\n",
              "    .dataframe tbody tr th {\n",
              "        vertical-align: top;\n",
              "    }\n",
              "\n",
              "    .dataframe thead th {\n",
              "        text-align: right;\n",
              "    }\n",
              "</style>\n",
              "<table border=\"1\" class=\"dataframe\">\n",
              "  <thead>\n",
              "    <tr style=\"text-align: right;\">\n",
              "      <th></th>\n",
              "      <th>total_images</th>\n",
              "      <th>last_price</th>\n",
              "      <th>total_area</th>\n",
              "      <th>first_day_exposition</th>\n",
              "      <th>rooms</th>\n",
              "      <th>ceiling_height</th>\n",
              "      <th>floors_total</th>\n",
              "      <th>living_area</th>\n",
              "      <th>floor</th>\n",
              "      <th>is_apartment</th>\n",
              "      <th>...</th>\n",
              "      <th>kitchen_area</th>\n",
              "      <th>balcony</th>\n",
              "      <th>locality_name</th>\n",
              "      <th>airports_nearest</th>\n",
              "      <th>cityCenters_nearest</th>\n",
              "      <th>parks_around3000</th>\n",
              "      <th>parks_nearest</th>\n",
              "      <th>ponds_around3000</th>\n",
              "      <th>ponds_nearest</th>\n",
              "      <th>days_exposition</th>\n",
              "    </tr>\n",
              "  </thead>\n",
              "  <tbody>\n",
              "    <tr>\n",
              "      <th>0</th>\n",
              "      <td>20</td>\n",
              "      <td>13000000.0</td>\n",
              "      <td>108.0</td>\n",
              "      <td>2019-03-07T00:00:00</td>\n",
              "      <td>3</td>\n",
              "      <td>2.70</td>\n",
              "      <td>16.0</td>\n",
              "      <td>51.0</td>\n",
              "      <td>8</td>\n",
              "      <td>NaN</td>\n",
              "      <td>...</td>\n",
              "      <td>25.0</td>\n",
              "      <td>NaN</td>\n",
              "      <td>Санкт-Петербург</td>\n",
              "      <td>18863.0</td>\n",
              "      <td>16028.0</td>\n",
              "      <td>1.0</td>\n",
              "      <td>482.0</td>\n",
              "      <td>2.0</td>\n",
              "      <td>755.0</td>\n",
              "      <td>NaN</td>\n",
              "    </tr>\n",
              "    <tr>\n",
              "      <th>1</th>\n",
              "      <td>7</td>\n",
              "      <td>3350000.0</td>\n",
              "      <td>40.4</td>\n",
              "      <td>2018-12-04T00:00:00</td>\n",
              "      <td>1</td>\n",
              "      <td>NaN</td>\n",
              "      <td>11.0</td>\n",
              "      <td>18.6</td>\n",
              "      <td>1</td>\n",
              "      <td>NaN</td>\n",
              "      <td>...</td>\n",
              "      <td>11.0</td>\n",
              "      <td>2.0</td>\n",
              "      <td>посёлок Шушары</td>\n",
              "      <td>12817.0</td>\n",
              "      <td>18603.0</td>\n",
              "      <td>0.0</td>\n",
              "      <td>NaN</td>\n",
              "      <td>0.0</td>\n",
              "      <td>NaN</td>\n",
              "      <td>81.0</td>\n",
              "    </tr>\n",
              "    <tr>\n",
              "      <th>2</th>\n",
              "      <td>10</td>\n",
              "      <td>5196000.0</td>\n",
              "      <td>56.0</td>\n",
              "      <td>2015-08-20T00:00:00</td>\n",
              "      <td>2</td>\n",
              "      <td>NaN</td>\n",
              "      <td>5.0</td>\n",
              "      <td>34.3</td>\n",
              "      <td>4</td>\n",
              "      <td>NaN</td>\n",
              "      <td>...</td>\n",
              "      <td>8.3</td>\n",
              "      <td>0.0</td>\n",
              "      <td>Санкт-Петербург</td>\n",
              "      <td>21741.0</td>\n",
              "      <td>13933.0</td>\n",
              "      <td>1.0</td>\n",
              "      <td>90.0</td>\n",
              "      <td>2.0</td>\n",
              "      <td>574.0</td>\n",
              "      <td>558.0</td>\n",
              "    </tr>\n",
              "    <tr>\n",
              "      <th>3</th>\n",
              "      <td>0</td>\n",
              "      <td>64900000.0</td>\n",
              "      <td>159.0</td>\n",
              "      <td>2015-07-24T00:00:00</td>\n",
              "      <td>3</td>\n",
              "      <td>NaN</td>\n",
              "      <td>14.0</td>\n",
              "      <td>NaN</td>\n",
              "      <td>9</td>\n",
              "      <td>NaN</td>\n",
              "      <td>...</td>\n",
              "      <td>NaN</td>\n",
              "      <td>0.0</td>\n",
              "      <td>Санкт-Петербург</td>\n",
              "      <td>28098.0</td>\n",
              "      <td>6800.0</td>\n",
              "      <td>2.0</td>\n",
              "      <td>84.0</td>\n",
              "      <td>3.0</td>\n",
              "      <td>234.0</td>\n",
              "      <td>424.0</td>\n",
              "    </tr>\n",
              "    <tr>\n",
              "      <th>4</th>\n",
              "      <td>2</td>\n",
              "      <td>10000000.0</td>\n",
              "      <td>100.0</td>\n",
              "      <td>2018-06-19T00:00:00</td>\n",
              "      <td>2</td>\n",
              "      <td>3.03</td>\n",
              "      <td>14.0</td>\n",
              "      <td>32.0</td>\n",
              "      <td>13</td>\n",
              "      <td>NaN</td>\n",
              "      <td>...</td>\n",
              "      <td>41.0</td>\n",
              "      <td>NaN</td>\n",
              "      <td>Санкт-Петербург</td>\n",
              "      <td>31856.0</td>\n",
              "      <td>8098.0</td>\n",
              "      <td>2.0</td>\n",
              "      <td>112.0</td>\n",
              "      <td>1.0</td>\n",
              "      <td>48.0</td>\n",
              "      <td>121.0</td>\n",
              "    </tr>\n",
              "  </tbody>\n",
              "</table>\n",
              "<p>5 rows × 22 columns</p>\n",
              "</div>"
            ],
            "text/plain": [
              "   total_images  last_price  total_area first_day_exposition  rooms  \\\n",
              "0            20  13000000.0       108.0  2019-03-07T00:00:00      3   \n",
              "1             7   3350000.0        40.4  2018-12-04T00:00:00      1   \n",
              "2            10   5196000.0        56.0  2015-08-20T00:00:00      2   \n",
              "3             0  64900000.0       159.0  2015-07-24T00:00:00      3   \n",
              "4             2  10000000.0       100.0  2018-06-19T00:00:00      2   \n",
              "\n",
              "   ceiling_height  floors_total  living_area  floor is_apartment  ...  \\\n",
              "0            2.70          16.0         51.0      8          NaN  ...   \n",
              "1             NaN          11.0         18.6      1          NaN  ...   \n",
              "2             NaN           5.0         34.3      4          NaN  ...   \n",
              "3             NaN          14.0          NaN      9          NaN  ...   \n",
              "4            3.03          14.0         32.0     13          NaN  ...   \n",
              "\n",
              "   kitchen_area  balcony    locality_name  airports_nearest  \\\n",
              "0          25.0      NaN  Санкт-Петербург           18863.0   \n",
              "1          11.0      2.0   посёлок Шушары           12817.0   \n",
              "2           8.3      0.0  Санкт-Петербург           21741.0   \n",
              "3           NaN      0.0  Санкт-Петербург           28098.0   \n",
              "4          41.0      NaN  Санкт-Петербург           31856.0   \n",
              "\n",
              "  cityCenters_nearest  parks_around3000  parks_nearest  ponds_around3000  \\\n",
              "0             16028.0               1.0          482.0               2.0   \n",
              "1             18603.0               0.0            NaN               0.0   \n",
              "2             13933.0               1.0           90.0               2.0   \n",
              "3              6800.0               2.0           84.0               3.0   \n",
              "4              8098.0               2.0          112.0               1.0   \n",
              "\n",
              "   ponds_nearest  days_exposition  \n",
              "0          755.0              NaN  \n",
              "1            NaN             81.0  \n",
              "2          574.0            558.0  \n",
              "3          234.0            424.0  \n",
              "4           48.0            121.0  \n",
              "\n",
              "[5 rows x 22 columns]"
            ]
          },
          "execution_count": 6,
          "metadata": {},
          "output_type": "execute_result"
        }
      ],
      "source": [
        "data.head()"
      ]
    },
    {
      "cell_type": "code",
      "execution_count": null,
      "metadata": {
        "id": "eig1275Irrfl",
        "outputId": "520bca8b-81dc-4762-afe5-61b4ac94277e"
      },
      "outputs": [
        {
          "name": "stdout",
          "output_type": "stream",
          "text": [
            "<class 'pandas.core.frame.DataFrame'>\n",
            "RangeIndex: 23699 entries, 0 to 23698\n",
            "Data columns (total 22 columns):\n",
            " #   Column                Non-Null Count  Dtype  \n",
            "---  ------                --------------  -----  \n",
            " 0   total_images          23699 non-null  int64  \n",
            " 1   last_price            23699 non-null  float64\n",
            " 2   total_area            23699 non-null  float64\n",
            " 3   first_day_exposition  23699 non-null  object \n",
            " 4   rooms                 23699 non-null  int64  \n",
            " 5   ceiling_height        14504 non-null  float64\n",
            " 6   floors_total          23613 non-null  float64\n",
            " 7   living_area           21796 non-null  float64\n",
            " 8   floor                 23699 non-null  int64  \n",
            " 9   is_apartment          2775 non-null   object \n",
            " 10  studio                23699 non-null  bool   \n",
            " 11  open_plan             23699 non-null  bool   \n",
            " 12  kitchen_area          21421 non-null  float64\n",
            " 13  balcony               12180 non-null  float64\n",
            " 14  locality_name         23650 non-null  object \n",
            " 15  airports_nearest      18157 non-null  float64\n",
            " 16  cityCenters_nearest   18180 non-null  float64\n",
            " 17  parks_around3000      18181 non-null  float64\n",
            " 18  parks_nearest         8079 non-null   float64\n",
            " 19  ponds_around3000      18181 non-null  float64\n",
            " 20  ponds_nearest         9110 non-null   float64\n",
            " 21  days_exposition       20518 non-null  float64\n",
            "dtypes: bool(2), float64(14), int64(3), object(3)\n",
            "memory usage: 3.7+ MB\n"
          ]
        }
      ],
      "source": [
        "data.info()"
      ]
    },
    {
      "cell_type": "code",
      "execution_count": null,
      "metadata": {
        "id": "b5IHyCQ7rrfl",
        "outputId": "6fd8acbb-c712-43cd-eac0-cd95c5ec3583"
      },
      "outputs": [
        {
          "data": {
            "text/html": [
              "<div>\n",
              "<style scoped>\n",
              "    .dataframe tbody tr th:only-of-type {\n",
              "        vertical-align: middle;\n",
              "    }\n",
              "\n",
              "    .dataframe tbody tr th {\n",
              "        vertical-align: top;\n",
              "    }\n",
              "\n",
              "    .dataframe thead th {\n",
              "        text-align: right;\n",
              "    }\n",
              "</style>\n",
              "<table border=\"1\" class=\"dataframe\">\n",
              "  <thead>\n",
              "    <tr style=\"text-align: right;\">\n",
              "      <th></th>\n",
              "      <th>total_images</th>\n",
              "      <th>last_price</th>\n",
              "      <th>total_area</th>\n",
              "      <th>rooms</th>\n",
              "      <th>ceiling_height</th>\n",
              "      <th>floors_total</th>\n",
              "      <th>living_area</th>\n",
              "      <th>floor</th>\n",
              "      <th>kitchen_area</th>\n",
              "      <th>balcony</th>\n",
              "      <th>airports_nearest</th>\n",
              "      <th>cityCenters_nearest</th>\n",
              "      <th>parks_around3000</th>\n",
              "      <th>parks_nearest</th>\n",
              "      <th>ponds_around3000</th>\n",
              "      <th>ponds_nearest</th>\n",
              "      <th>days_exposition</th>\n",
              "    </tr>\n",
              "  </thead>\n",
              "  <tbody>\n",
              "    <tr>\n",
              "      <th>count</th>\n",
              "      <td>23699.000000</td>\n",
              "      <td>2.369900e+04</td>\n",
              "      <td>23699.000000</td>\n",
              "      <td>23699.000000</td>\n",
              "      <td>14504.000000</td>\n",
              "      <td>23613.000000</td>\n",
              "      <td>21796.000000</td>\n",
              "      <td>23699.000000</td>\n",
              "      <td>21421.000000</td>\n",
              "      <td>12180.000000</td>\n",
              "      <td>18157.000000</td>\n",
              "      <td>18180.000000</td>\n",
              "      <td>18181.000000</td>\n",
              "      <td>8079.000000</td>\n",
              "      <td>18181.000000</td>\n",
              "      <td>9110.000000</td>\n",
              "      <td>20518.000000</td>\n",
              "    </tr>\n",
              "    <tr>\n",
              "      <th>mean</th>\n",
              "      <td>9.858475</td>\n",
              "      <td>6.541549e+06</td>\n",
              "      <td>60.348651</td>\n",
              "      <td>2.070636</td>\n",
              "      <td>2.771499</td>\n",
              "      <td>10.673824</td>\n",
              "      <td>34.457852</td>\n",
              "      <td>5.892358</td>\n",
              "      <td>10.569807</td>\n",
              "      <td>1.150082</td>\n",
              "      <td>28793.672193</td>\n",
              "      <td>14191.277833</td>\n",
              "      <td>0.611408</td>\n",
              "      <td>490.804555</td>\n",
              "      <td>0.770255</td>\n",
              "      <td>517.980900</td>\n",
              "      <td>180.888634</td>\n",
              "    </tr>\n",
              "    <tr>\n",
              "      <th>std</th>\n",
              "      <td>5.682529</td>\n",
              "      <td>1.088701e+07</td>\n",
              "      <td>35.654083</td>\n",
              "      <td>1.078405</td>\n",
              "      <td>1.261056</td>\n",
              "      <td>6.597173</td>\n",
              "      <td>22.030445</td>\n",
              "      <td>4.885249</td>\n",
              "      <td>5.905438</td>\n",
              "      <td>1.071300</td>\n",
              "      <td>12630.880622</td>\n",
              "      <td>8608.386210</td>\n",
              "      <td>0.802074</td>\n",
              "      <td>342.317995</td>\n",
              "      <td>0.938346</td>\n",
              "      <td>277.720643</td>\n",
              "      <td>219.727988</td>\n",
              "    </tr>\n",
              "    <tr>\n",
              "      <th>min</th>\n",
              "      <td>0.000000</td>\n",
              "      <td>1.219000e+04</td>\n",
              "      <td>12.000000</td>\n",
              "      <td>0.000000</td>\n",
              "      <td>1.000000</td>\n",
              "      <td>1.000000</td>\n",
              "      <td>2.000000</td>\n",
              "      <td>1.000000</td>\n",
              "      <td>1.300000</td>\n",
              "      <td>0.000000</td>\n",
              "      <td>0.000000</td>\n",
              "      <td>181.000000</td>\n",
              "      <td>0.000000</td>\n",
              "      <td>1.000000</td>\n",
              "      <td>0.000000</td>\n",
              "      <td>13.000000</td>\n",
              "      <td>1.000000</td>\n",
              "    </tr>\n",
              "    <tr>\n",
              "      <th>25%</th>\n",
              "      <td>6.000000</td>\n",
              "      <td>3.400000e+06</td>\n",
              "      <td>40.000000</td>\n",
              "      <td>1.000000</td>\n",
              "      <td>2.520000</td>\n",
              "      <td>5.000000</td>\n",
              "      <td>18.600000</td>\n",
              "      <td>2.000000</td>\n",
              "      <td>7.000000</td>\n",
              "      <td>0.000000</td>\n",
              "      <td>18585.000000</td>\n",
              "      <td>9238.000000</td>\n",
              "      <td>0.000000</td>\n",
              "      <td>288.000000</td>\n",
              "      <td>0.000000</td>\n",
              "      <td>294.000000</td>\n",
              "      <td>45.000000</td>\n",
              "    </tr>\n",
              "    <tr>\n",
              "      <th>50%</th>\n",
              "      <td>9.000000</td>\n",
              "      <td>4.650000e+06</td>\n",
              "      <td>52.000000</td>\n",
              "      <td>2.000000</td>\n",
              "      <td>2.650000</td>\n",
              "      <td>9.000000</td>\n",
              "      <td>30.000000</td>\n",
              "      <td>4.000000</td>\n",
              "      <td>9.100000</td>\n",
              "      <td>1.000000</td>\n",
              "      <td>26726.000000</td>\n",
              "      <td>13098.500000</td>\n",
              "      <td>0.000000</td>\n",
              "      <td>455.000000</td>\n",
              "      <td>1.000000</td>\n",
              "      <td>502.000000</td>\n",
              "      <td>95.000000</td>\n",
              "    </tr>\n",
              "    <tr>\n",
              "      <th>75%</th>\n",
              "      <td>14.000000</td>\n",
              "      <td>6.800000e+06</td>\n",
              "      <td>69.900000</td>\n",
              "      <td>3.000000</td>\n",
              "      <td>2.800000</td>\n",
              "      <td>16.000000</td>\n",
              "      <td>42.300000</td>\n",
              "      <td>8.000000</td>\n",
              "      <td>12.000000</td>\n",
              "      <td>2.000000</td>\n",
              "      <td>37273.000000</td>\n",
              "      <td>16293.000000</td>\n",
              "      <td>1.000000</td>\n",
              "      <td>612.000000</td>\n",
              "      <td>1.000000</td>\n",
              "      <td>729.000000</td>\n",
              "      <td>232.000000</td>\n",
              "    </tr>\n",
              "    <tr>\n",
              "      <th>max</th>\n",
              "      <td>50.000000</td>\n",
              "      <td>7.630000e+08</td>\n",
              "      <td>900.000000</td>\n",
              "      <td>19.000000</td>\n",
              "      <td>100.000000</td>\n",
              "      <td>60.000000</td>\n",
              "      <td>409.700000</td>\n",
              "      <td>33.000000</td>\n",
              "      <td>112.000000</td>\n",
              "      <td>5.000000</td>\n",
              "      <td>84869.000000</td>\n",
              "      <td>65968.000000</td>\n",
              "      <td>3.000000</td>\n",
              "      <td>3190.000000</td>\n",
              "      <td>3.000000</td>\n",
              "      <td>1344.000000</td>\n",
              "      <td>1580.000000</td>\n",
              "    </tr>\n",
              "  </tbody>\n",
              "</table>\n",
              "</div>"
            ],
            "text/plain": [
              "       total_images    last_price    total_area         rooms  ceiling_height  \\\n",
              "count  23699.000000  2.369900e+04  23699.000000  23699.000000    14504.000000   \n",
              "mean       9.858475  6.541549e+06     60.348651      2.070636        2.771499   \n",
              "std        5.682529  1.088701e+07     35.654083      1.078405        1.261056   \n",
              "min        0.000000  1.219000e+04     12.000000      0.000000        1.000000   \n",
              "25%        6.000000  3.400000e+06     40.000000      1.000000        2.520000   \n",
              "50%        9.000000  4.650000e+06     52.000000      2.000000        2.650000   \n",
              "75%       14.000000  6.800000e+06     69.900000      3.000000        2.800000   \n",
              "max       50.000000  7.630000e+08    900.000000     19.000000      100.000000   \n",
              "\n",
              "       floors_total   living_area         floor  kitchen_area       balcony  \\\n",
              "count  23613.000000  21796.000000  23699.000000  21421.000000  12180.000000   \n",
              "mean      10.673824     34.457852      5.892358     10.569807      1.150082   \n",
              "std        6.597173     22.030445      4.885249      5.905438      1.071300   \n",
              "min        1.000000      2.000000      1.000000      1.300000      0.000000   \n",
              "25%        5.000000     18.600000      2.000000      7.000000      0.000000   \n",
              "50%        9.000000     30.000000      4.000000      9.100000      1.000000   \n",
              "75%       16.000000     42.300000      8.000000     12.000000      2.000000   \n",
              "max       60.000000    409.700000     33.000000    112.000000      5.000000   \n",
              "\n",
              "       airports_nearest  cityCenters_nearest  parks_around3000  parks_nearest  \\\n",
              "count      18157.000000         18180.000000      18181.000000    8079.000000   \n",
              "mean       28793.672193         14191.277833          0.611408     490.804555   \n",
              "std        12630.880622          8608.386210          0.802074     342.317995   \n",
              "min            0.000000           181.000000          0.000000       1.000000   \n",
              "25%        18585.000000          9238.000000          0.000000     288.000000   \n",
              "50%        26726.000000         13098.500000          0.000000     455.000000   \n",
              "75%        37273.000000         16293.000000          1.000000     612.000000   \n",
              "max        84869.000000         65968.000000          3.000000    3190.000000   \n",
              "\n",
              "       ponds_around3000  ponds_nearest  days_exposition  \n",
              "count      18181.000000    9110.000000     20518.000000  \n",
              "mean           0.770255     517.980900       180.888634  \n",
              "std            0.938346     277.720643       219.727988  \n",
              "min            0.000000      13.000000         1.000000  \n",
              "25%            0.000000     294.000000        45.000000  \n",
              "50%            1.000000     502.000000        95.000000  \n",
              "75%            1.000000     729.000000       232.000000  \n",
              "max            3.000000    1344.000000      1580.000000  "
            ]
          },
          "execution_count": 8,
          "metadata": {},
          "output_type": "execute_result"
        }
      ],
      "source": [
        "data.describe()"
      ]
    },
    {
      "cell_type": "code",
      "execution_count": null,
      "metadata": {
        "id": "7G2kc_X-rrfl",
        "outputId": "cd0c2ce3-645f-4762-b005-1b37802820ea"
      },
      "outputs": [
        {
          "data": {
            "text/plain": [
              "array([[<AxesSubplot:title={'center':'total_images'}>,\n",
              "        <AxesSubplot:title={'center':'last_price'}>,\n",
              "        <AxesSubplot:title={'center':'total_area'}>,\n",
              "        <AxesSubplot:title={'center':'rooms'}>],\n",
              "       [<AxesSubplot:title={'center':'ceiling_height'}>,\n",
              "        <AxesSubplot:title={'center':'floors_total'}>,\n",
              "        <AxesSubplot:title={'center':'living_area'}>,\n",
              "        <AxesSubplot:title={'center':'floor'}>],\n",
              "       [<AxesSubplot:title={'center':'kitchen_area'}>,\n",
              "        <AxesSubplot:title={'center':'balcony'}>,\n",
              "        <AxesSubplot:title={'center':'airports_nearest'}>,\n",
              "        <AxesSubplot:title={'center':'cityCenters_nearest'}>],\n",
              "       [<AxesSubplot:title={'center':'parks_around3000'}>,\n",
              "        <AxesSubplot:title={'center':'parks_nearest'}>,\n",
              "        <AxesSubplot:title={'center':'ponds_around3000'}>,\n",
              "        <AxesSubplot:title={'center':'ponds_nearest'}>],\n",
              "       [<AxesSubplot:title={'center':'days_exposition'}>, <AxesSubplot:>,\n",
              "        <AxesSubplot:>, <AxesSubplot:>]], dtype=object)"
            ]
          },
          "execution_count": 9,
          "metadata": {},
          "output_type": "execute_result"
        },
        {
          "data": {
            "image/png": "[encoded data removed]",
            "text/plain": [
              "<Figure size 1500x2000 with 20 Axes>"
            ]
          },
          "metadata": {},
          "output_type": "display_data"
        }
      ],
      "source": [
        "data.hist(figsize=(15, 20))"
      ]
    },
    {
      "cell_type": "code",
      "execution_count": null,
      "metadata": {
        "id": "qCStw6b8rrfl",
        "outputId": "5e0483c4-14f9-41e2-cb42-890f5f04b3f2"
      },
      "outputs": [
        {
          "data": {
            "text/plain": [
              "0"
            ]
          },
          "execution_count": 10,
          "metadata": {},
          "output_type": "execute_result"
        }
      ],
      "source": [
        "data.duplicated().sum()"
      ]
    },
    {
      "cell_type": "markdown",
      "metadata": {
        "id": "aJGxcDucrrfl"
      },
      "source": [
        "### Предобработка данных"
      ]
    },
    {
      "cell_type": "markdown",
      "metadata": {
        "id": "nEXZbOwerrfm"
      },
      "source": [
        "В столбце \"balcony\" в некоторых строках не указано число балконов — скорее всего, их нет. Такие пропуски правильно заменить на 0. Кроме того, преобразуем столбец к целочисленному типу данных (int)."
      ]
    },
    {
      "cell_type": "code",
      "execution_count": null,
      "metadata": {
        "scrolled": false,
        "id": "5vZdpx7hrrfm",
        "outputId": "07151e2c-f8a1-4f25-8cec-2f6fe1549c5a"
      },
      "outputs": [
        {
          "data": {
            "text/plain": [
              "0    15277\n",
              "1     4195\n",
              "2     3659\n",
              "5      304\n",
              "4      183\n",
              "3       81\n",
              "Name: balcony, dtype: int64"
            ]
          },
          "metadata": {},
          "output_type": "display_data"
        }
      ],
      "source": [
        "data['balcony'] = data['balcony'].fillna(0).astype(int)\n",
        "display(data['balcony'].value_counts())"
      ]
    },
    {
      "cell_type": "markdown",
      "metadata": {
        "id": "ZKUAehzurrfm"
      },
      "source": [
        "Также в столбце \"floors_total\" из 23 699 строк заполнено 23 613, не заполнено – 86. Максимальный этаж – 60, кол-во квартир с этажностью более 30 этажей – 32. Удалим 86 строк, в которых не заполнено количество этажей."
      ]
    },
    {
      "cell_type": "code",
      "execution_count": null,
      "metadata": {
        "id": "gZNJvWrqrrfm"
      },
      "outputs": [],
      "source": [
        "data = data.dropna(subset=['floors_total'])"
      ]
    },
    {
      "cell_type": "markdown",
      "metadata": {
        "id": "Vz3fifQGrrfm"
      },
      "source": [
        "В столбце \"ceiling_height\" из 23 699 строк заполнено 14 504. Кол-во квартир с высотой потолка более 25 м. – 32, это возможные ошибки и ими можно пренебречь из-за незначительности. Также в данных присутствует строка “ nan”, которую надо удалить.\n",
        "\n",
        "Пропуски в столбце \"ceiling_height\" заменим на медианы значений высот потолков по каждому этажу. Для этого напишем цикл перебирающий уникальные значения столбца 'floors_total' и в случае пропуска в столбце 'ceiling_height', заменит на медианное значение высоты потолков по каждому этажу"
      ]
    },
    {
      "cell_type": "code",
      "execution_count": null,
      "metadata": {
        "id": "Z6PSNH25rrfm",
        "outputId": "b853d4bc-e4dd-42d5-dc2e-776d92d8f479"
      },
      "outputs": [
        {
          "name": "stdout",
          "output_type": "stream",
          "text": [
            "0\n"
          ]
        }
      ],
      "source": [
        "# display(data['ceiling_height'].unique())\n",
        "# print(data['ceiling_height'][data['ceiling_height'] > 10].count())\n",
        "\n",
        "median_replace = data.groupby('floors_total')['ceiling_height'].median()\n",
        "for total in data['floors_total'].unique():\n",
        "    data.loc[(data['floors_total'] == total) & (data['ceiling_height'].isna()), 'ceiling_height'] = median_replace[total]\n",
        "\n",
        "# Далее исключим строки с высотой потолков более 10 м, как вероятные ошибки данных\n",
        "data.loc[data['ceiling_height'] > 10,'ceiling_height'] = None\n",
        "data = data.dropna(subset=['ceiling_height'])\n",
        "print(data['ceiling_height'][data['ceiling_height'] > 10].count())\n",
        "# data.info()\n",
        "# display(data['ceiling_height'].unique())"
      ]
    },
    {
      "cell_type": "markdown",
      "metadata": {
        "id": "NE4VUNaWrrfn"
      },
      "source": [
        "Также пропуски в столбце \"kitchen_area\" заменим на медианы значений площади кухни по каждому значению кол-ва комнат столбца \"rooms\". Для этого напишем цикл, перебирающий уникальные значения столбца 'rooms' и в случае пропуска в столбце 'kitchen_area', заменит на медианное значение площади кухни по данному количеству комнат."
      ]
    },
    {
      "cell_type": "code",
      "execution_count": null,
      "metadata": {
        "id": "zxa69sDCrrfn"
      },
      "outputs": [],
      "source": [
        "median_replace_kitchen = data.groupby('rooms')['kitchen_area'].median()\n",
        "for total in data['rooms'].unique():\n",
        "    data.loc[(data['rooms'] == total) & (data['kitchen_area'].isna()), 'kitchen_area'] = median_replace_kitchen[total]\n",
        "# display(data['kitchen_area'].value_counts())\n",
        "\n",
        "# Исключим 193 строки с записью \"  nan\", как вероятные ошибки данных.\n",
        "data.loc[data['kitchen_area'] == '  nan','kitchen_area'] = None\n",
        "data = data.dropna(subset=['kitchen_area'])\n",
        "# display(data['kitchen_area'].unique())"
      ]
    },
    {
      "cell_type": "markdown",
      "metadata": {
        "id": "1gay6gyNrrfn"
      },
      "source": [
        "Пропуски в столбце \"living_area\" заменим на медианы значений жилой площади по каждому значению кол-ва комнат столбца \"rooms\". Для этого напишем цикл, перебирающий уникальные значения столбца 'rooms' и в случае пропуска в столбце 'living_area', заменит на медианное значение жилой площади по данному количеству комнат"
      ]
    },
    {
      "cell_type": "code",
      "execution_count": null,
      "metadata": {
        "id": "MzZyD3hCrrfn"
      },
      "outputs": [],
      "source": [
        "median_replace_rooms = data.groupby('rooms')['living_area'].median()\n",
        "for total in data['rooms'].unique():\n",
        "    data.loc[(data['rooms'] == total) & (data['living_area'].isna()), 'living_area'] = median_replace_rooms[total]"
      ]
    },
    {
      "cell_type": "markdown",
      "metadata": {
        "id": "XlYFdn5Qrrfn"
      },
      "source": [
        "Преобразуем столбец 'floors_total' к целочисленному типу данных (int)."
      ]
    },
    {
      "cell_type": "code",
      "execution_count": null,
      "metadata": {
        "id": "8LGV-LENrrfn"
      },
      "outputs": [],
      "source": [
        "# преобразуем столбец к целочисленному типу данных (int).\n",
        "data['floors_total'] = data['floors_total'].astype(int)\n",
        "#  display(data['floors_total'].value_counts())"
      ]
    },
    {
      "cell_type": "markdown",
      "metadata": {
        "id": "Z0imXEbZrrfn"
      },
      "source": [
        "В столбце \"is_apartment\" в некоторых строках есть пропуски, заменим такие пропуски на False."
      ]
    },
    {
      "cell_type": "code",
      "execution_count": null,
      "metadata": {
        "id": "Nzyjh4p0rrfn"
      },
      "outputs": [],
      "source": [
        "data['is_apartment'] = data['is_apartment'].fillna(False)\n",
        "# display(data['is_apartment'].value_counts())"
      ]
    },
    {
      "cell_type": "markdown",
      "metadata": {
        "id": "L1wPJH9irrfo"
      },
      "source": [
        "Исключим пропуски в столбце \"locality_name\", как вероятные ошибки данных"
      ]
    },
    {
      "cell_type": "code",
      "execution_count": null,
      "metadata": {
        "id": "uFtm45gKrrfo"
      },
      "outputs": [],
      "source": [
        "# исключим пропуски в столбце \"locality_name\"\n",
        "data = data.dropna(subset=['locality_name'])"
      ]
    },
    {
      "cell_type": "code",
      "execution_count": null,
      "metadata": {
        "id": "_2Dw9g-Yrrfo",
        "outputId": "d7ffcdd0-7865-4f95-9185-3c58b3273331"
      },
      "outputs": [
        {
          "name": "stdout",
          "output_type": "stream",
          "text": [
            "Количество уникальных занчений locality_name: 361\n"
          ]
        }
      ],
      "source": [
        "def loc_length():\n",
        "    return print('Количество уникальных занчений locality_name:', data['locality_name'].unique().shape[0])\n",
        "loc_length()"
      ]
    },
    {
      "cell_type": "code",
      "execution_count": null,
      "metadata": {
        "id": "caDQ4HSerrfo",
        "outputId": "c500136e-df2c-4863-9229-8803f7d524de"
      },
      "outputs": [
        {
          "name": "stdout",
          "output_type": "stream",
          "text": [
            "Заменяем все \"ё\" на \"е\"\n",
            "Количество уникальных занчений locality_name: 327\n",
            "\n"
          ]
        }
      ],
      "source": [
        "data['locality_name'] = data['locality_name'].str.replace('ё', 'е')\n",
        "print('Заменяем все \"ё\" на \"е\"')\n",
        "loc_length()\n",
        "print()"
      ]
    },
    {
      "cell_type": "code",
      "execution_count": null,
      "metadata": {
        "id": "D4zYwWYErrfo",
        "outputId": "53836350-aa65-47e3-cc2a-dd820417071a"
      },
      "outputs": [
        {
          "name": "stdout",
          "output_type": "stream",
          "text": [
            "1.0\n"
          ]
        },
        {
          "data": {
            "text/plain": [
              "8.3"
            ]
          },
          "execution_count": 21,
          "metadata": {},
          "output_type": "execute_result"
        }
      ],
      "source": [
        "print(data['ceiling_height'].min())\n",
        "data['ceiling_height'].max()"
      ]
    },
    {
      "cell_type": "code",
      "execution_count": null,
      "metadata": {
        "id": "SUWfzXE3rrfo",
        "outputId": "52415422-07a2-4774-e8ba-7609852a6968"
      },
      "outputs": [
        {
          "name": "stdout",
          "output_type": "stream",
          "text": [
            "total_images               0.000000\n",
            "last_price             12190.000000\n",
            "total_area                12.000000\n",
            "rooms                      1.000000\n",
            "ceiling_height             0.245636\n",
            "floors_total               1.000000\n",
            "living_area                2.000000\n",
            "floor                      1.000000\n",
            "kitchen_area               1.300000\n",
            "balcony                    0.000000\n",
            "airports_nearest           0.000000\n",
            "cityCenters_nearest      181.000000\n",
            "parks_around3000           0.000000\n",
            "parks_nearest              1.000000\n",
            "ponds_around3000           0.000000\n",
            "ponds_nearest             13.000000\n",
            "days_exposition            1.000000\n",
            "dtype: float64\n"
          ]
        },
        {
          "data": {
            "text/plain": [
              "total_images               23345.0\n",
              "last_price             763000000.0\n",
              "total_area                 23345.0\n",
              "rooms                      23345.0\n",
              "ceiling_height             23345.0\n",
              "floors_total               23345.0\n",
              "living_area                23345.0\n",
              "floor                      23345.0\n",
              "kitchen_area               23345.0\n",
              "balcony                    23345.0\n",
              "airports_nearest           84869.0\n",
              "cityCenters_nearest        65968.0\n",
              "parks_around3000           17930.0\n",
              "parks_nearest               7994.0\n",
              "ponds_around3000           17930.0\n",
              "ponds_nearest               8958.0\n",
              "days_exposition            20194.0\n",
              "dtype: float64"
            ]
          },
          "execution_count": 22,
          "metadata": {},
          "output_type": "execute_result"
        }
      ],
      "source": [
        "print(data.describe().min())\n",
        "data.describe().max()\n"
      ]
    },
    {
      "cell_type": "markdown",
      "metadata": {
        "id": "13pkroMorrfo"
      },
      "source": [
        "**Вывод**"
      ]
    },
    {
      "cell_type": "markdown",
      "metadata": {
        "id": "6d_5UJtrrrfp"
      },
      "source": [
        "В первоначальном файле было 23 699 строк, в результате обработки и удаления вероятных ошибок данных осталось в датасете 23 345 строк, по которым заполнены все строки во всех значимых столбцах. В процессе обработки данных произведено следующее:\n",
        "\n",
        "В столбце \"balcony\" пропуски были заменены на 0, также столбец преобразован к целочисленному типу данных.\n",
        "Пропуски в столбце \"ceiling_height\" заменили на медианы значений высот потолков по каждому этажу.\n",
        "Пропуски в столбце \"kitchen_area\" заменили на медианы значений площади кухни по каждому значению кол-ва комнат столбца \"rooms\".\n",
        "Пропуски в столбце \"living_area\" заменили на медианы значений жилой площади по каждому значению кол-ва комнат столбца \"rooms\".\n",
        "В столбце \"is_apartment\" пропуски заменили на False.\n",
        "Исключили пропуски в столбце \"locality_name\", как вероятные ошибки.\n",
        "Значения в остальных столбцах предлагаю не обрабатывать как менее значимые для проведения данного исследования."
      ]
    },
    {
      "cell_type": "markdown",
      "metadata": {
        "id": "tMDQWlq_rrfp"
      },
      "source": [
        "### Посчитайте и добавьте в таблицу новые столбцы"
      ]
    },
    {
      "cell_type": "markdown",
      "metadata": {
        "id": "0_6HALwJrrfp"
      },
      "source": [
        "Посчитаем и добавим в столбец \"price_area\" цену квадратного метра"
      ]
    },
    {
      "cell_type": "code",
      "execution_count": null,
      "metadata": {
        "id": "mRC0tG9Jrrfp"
      },
      "outputs": [],
      "source": [
        "data['price_area'] = data['last_price'] / data['total_area']"
      ]
    },
    {
      "cell_type": "markdown",
      "metadata": {
        "id": "7W34ZQ1arrfp"
      },
      "source": [
        "Добавим в таблицу день недели, месяц и год публикации объявления"
      ]
    },
    {
      "cell_type": "code",
      "execution_count": null,
      "metadata": {
        "id": "TDr_dojxrrfp"
      },
      "outputs": [],
      "source": [
        "# столбец \"first_day_exposition\" приведем к удобному виду, оставим только год, месяц, день\n",
        "data['first_day_exposition'] = pd.to_datetime(data['first_day_exposition'], format='%Y-%m-%dT%H:%M:%S')\n",
        "\n",
        "data['day_weekday'] = data['first_day_exposition'].dt.weekday\n",
        "data['day_month'] = data['first_day_exposition'].dt.month\n",
        "data['day_year'] = data['first_day_exposition'].dt.year\n",
        "# data.head()"
      ]
    },
    {
      "cell_type": "markdown",
      "metadata": {
        "id": "MLBGL6W5rrfp"
      },
      "source": [
        "Добавим в таблицу варианты этажа квартиры (первый, последний, другой)"
      ]
    },
    {
      "cell_type": "code",
      "execution_count": null,
      "metadata": {
        "id": "3NeO53pMrrfp"
      },
      "outputs": [],
      "source": [
        "data['floor_group'] = 'другой'\n",
        "data['floor_group'] = data['floor_group'].where(data['floor'] > 1, 'первый')\n",
        "data['floor_group'] = data['floor_group'].where(data['floor'] < data['floors_total'], 'последний')\n",
        "# data.head()"
      ]
    },
    {
      "cell_type": "markdown",
      "metadata": {
        "id": "4P8kxM_Vrrfw"
      },
      "source": [
        "Также добавим в таблицу столбец \"center_distance\" расстояние до центра города в километрах"
      ]
    },
    {
      "cell_type": "code",
      "execution_count": null,
      "metadata": {
        "id": "YVXKV7Tdrrfw"
      },
      "outputs": [],
      "source": [
        "data['center_distance'] = round(data['cityCenters_nearest'] / 1000)\n",
        "# data.head()"
      ]
    },
    {
      "cell_type": "markdown",
      "metadata": {
        "id": "3mM64N1drrfw"
      },
      "source": [
        "### Проведите исследовательский анализ данных"
      ]
    },
    {
      "cell_type": "code",
      "execution_count": null,
      "metadata": {
        "id": "DngH4jMsrrfw",
        "outputId": "8e38ecd4-7267-4ebe-e0ef-0f8e23abf436"
      },
      "outputs": [
        {
          "data": {
            "image/png": "[encoded data removed]",
            "text/plain": [
              "<Figure size 1000x500 with 1 Axes>"
            ]
          },
          "metadata": {},
          "output_type": "display_data"
        },
        {
          "name": "stdout",
          "output_type": "stream",
          "text": [
            "count    23345.000000\n",
            "mean        60.585056\n",
            "std         35.626497\n",
            "min         12.000000\n",
            "25%         40.200000\n",
            "50%         52.000000\n",
            "75%         70.000000\n",
            "max        900.000000\n",
            "Name: total_area, dtype: float64\n"
          ]
        }
      ],
      "source": [
        "# Гистограмма для столбца площади квартиры\n",
        "data.hist('total_area', bins=100, figsize = (10,5))\n",
        "plt.show()\n",
        "print(data['total_area'].describe())"
      ]
    },
    {
      "cell_type": "markdown",
      "metadata": {
        "id": "onBcjxKjrrfw"
      },
      "source": [
        "Из гистограммы видно, что большим спросом пользуются квартиры до 100 м2, среднее значение площади составляет - 60,5 м2. Квартиры с площадью более 150 м2 являются редкостью."
      ]
    },
    {
      "cell_type": "code",
      "execution_count": null,
      "metadata": {
        "id": "9eqzrU8Lrrfw",
        "outputId": "ca45d500-b044-45db-cd93-981f640acb90"
      },
      "outputs": [
        {
          "data": {
            "image/png": "[encoded data removed]",
            "text/plain": [
              "<Figure size 1000x500 with 1 Axes>"
            ]
          },
          "metadata": {},
          "output_type": "display_data"
        },
        {
          "name": "stdout",
          "output_type": "stream",
          "text": [
            "count    23345.000000\n",
            "mean        34.454251\n",
            "std         21.764343\n",
            "min          2.000000\n",
            "25%         18.500000\n",
            "50%         30.500000\n",
            "75%         42.800000\n",
            "max        409.700000\n",
            "Name: living_area, dtype: float64\n"
          ]
        }
      ],
      "source": [
        "# Гистограмма для столбца жилой площади\n",
        "data.hist('living_area', bins=100, figsize = (10,5))\n",
        "plt.show()\n",
        "print(data['living_area'].describe())"
      ]
    },
    {
      "cell_type": "markdown",
      "metadata": {
        "id": "IKvPYxXPrrfx"
      },
      "source": [
        "Из гистограммы видно, что средняя жилая площадь составляет - 34,4 м2, а квартиры с жил. площадью свыше 50 м2, являются редкостью по убыванию"
      ]
    },
    {
      "cell_type": "code",
      "execution_count": null,
      "metadata": {
        "id": "C5OnCzvYrrfx",
        "outputId": "73f3be7e-722a-46e5-d57a-1f62d1c33832"
      },
      "outputs": [
        {
          "data": {
            "image/png": "[encoded data removed]",
            "text/plain": [
              "<Figure size 1000x500 with 1 Axes>"
            ]
          },
          "metadata": {},
          "output_type": "display_data"
        },
        {
          "name": "stdout",
          "output_type": "stream",
          "text": [
            "count    23345.000000\n",
            "mean        10.455280\n",
            "std          5.667794\n",
            "min          1.300000\n",
            "25%          7.300000\n",
            "50%          9.000000\n",
            "75%         11.500000\n",
            "max        112.000000\n",
            "Name: kitchen_area, dtype: float64\n"
          ]
        }
      ],
      "source": [
        "# Гистограмма для столбца площади кухни\n",
        "data.hist('kitchen_area', bins=100, figsize = (10,5))\n",
        "plt.show()\n",
        "print(data['kitchen_area'].describe())"
      ]
    },
    {
      "cell_type": "markdown",
      "metadata": {
        "id": "EgVJYxLfrrfx"
      },
      "source": [
        "Из гистограммы видно, что средняя площадь кухни составляет - 10,4 м2, а квартиры с площадью кухни свыше 20 м2, являются редкостью по убыванию"
      ]
    },
    {
      "cell_type": "code",
      "execution_count": null,
      "metadata": {
        "id": "BqLsuQFqrrfx",
        "outputId": "c576d2f0-687a-417d-92d1-09dcef24480d"
      },
      "outputs": [
        {
          "data": {
            "image/png": "[encoded data removed]",
            "text/plain": [
              "<Figure size 1000x500 with 1 Axes>"
            ]
          },
          "metadata": {},
          "output_type": "display_data"
        },
        {
          "name": "stdout",
          "output_type": "stream",
          "text": [
            "count    2.334500e+04\n",
            "mean     6.568079e+06\n",
            "std      1.094804e+07\n",
            "min      1.219000e+04\n",
            "25%      3.450000e+06\n",
            "50%      4.650000e+06\n",
            "75%      6.800000e+06\n",
            "max      7.630000e+08\n",
            "Name: last_price, dtype: float64\n"
          ]
        }
      ],
      "source": [
        "# Гистограмма для столбца цена объекта\n",
        "data.hist('last_price', bins=100, figsize = (10,5))\n",
        "plt.show()\n",
        "print(data['last_price'].describe())"
      ]
    },
    {
      "cell_type": "markdown",
      "metadata": {
        "id": "2irgtdETrrfx"
      },
      "source": [
        "Из гистограммы видно, что большинство квартир стоимостью до 15 млн. рублей, максимальная стоимость квартиры составляет 763 млн. рублей."
      ]
    },
    {
      "cell_type": "code",
      "execution_count": null,
      "metadata": {
        "id": "Yz8eEOpKrrfx",
        "outputId": "8eb95ec0-5d02-4865-b669-4c2a567a4b33"
      },
      "outputs": [
        {
          "data": {
            "image/png": "[encoded data removed]",
            "text/plain": [
              "<Figure size 1000x500 with 1 Axes>"
            ]
          },
          "metadata": {},
          "output_type": "display_data"
        },
        {
          "name": "stdout",
          "output_type": "stream",
          "text": [
            "count    23345.000000\n",
            "mean         2.087942\n",
            "std          1.066630\n",
            "min          1.000000\n",
            "25%          1.000000\n",
            "50%          2.000000\n",
            "75%          3.000000\n",
            "max         19.000000\n",
            "Name: rooms, dtype: float64\n"
          ]
        }
      ],
      "source": [
        "# Гистограмма для столбца количество комнат\n",
        "data.hist('rooms', bins=100, figsize = (10,5))\n",
        "plt.show()\n",
        "print(data['rooms'].describe())"
      ]
    },
    {
      "cell_type": "code",
      "execution_count": null,
      "metadata": {
        "id": "oZawTP2Frrfx",
        "outputId": "99823ee0-541e-4aa5-a004-29eaf9026791"
      },
      "outputs": [
        {
          "data": {
            "image/png": "[encoded data removed]",
            "text/plain": [
              "<Figure size 1000x500 with 1 Axes>"
            ]
          },
          "metadata": {},
          "output_type": "display_data"
        },
        {
          "name": "stdout",
          "output_type": "stream",
          "text": [
            "count    23345.000000\n",
            "mean         2.708036\n",
            "std          0.245636\n",
            "min          1.000000\n",
            "25%          2.550000\n",
            "50%          2.650000\n",
            "75%          2.750000\n",
            "max          8.300000\n",
            "Name: ceiling_height, dtype: float64\n"
          ]
        }
      ],
      "source": [
        "# Гистограмма для столбца высота потолков\n",
        "data.hist('ceiling_height', bins=100, figsize = (10,5))\n",
        "plt.show()\n",
        "print(data['ceiling_height'].describe())"
      ]
    },
    {
      "cell_type": "code",
      "execution_count": null,
      "metadata": {
        "id": "63hOKi6Errfy",
        "outputId": "0419ef03-3ea2-4fe1-cc8d-26af3c6ac0a7"
      },
      "outputs": [
        {
          "data": {
            "image/png": "[encoded data removed]",
            "text/plain": [
              "<Figure size 1000x500 with 1 Axes>"
            ]
          },
          "metadata": {},
          "output_type": "display_data"
        },
        {
          "name": "stdout",
          "output_type": "stream",
          "text": [
            "count    23345.000000\n",
            "mean         5.854487\n",
            "std          4.846764\n",
            "min          1.000000\n",
            "25%          2.000000\n",
            "50%          4.000000\n",
            "75%          8.000000\n",
            "max         33.000000\n",
            "Name: floor, dtype: float64\n"
          ]
        }
      ],
      "source": [
        "# Гистограмма для столбца этаж\n",
        "data.hist('floor', bins=100, figsize = (10,5))\n",
        "plt.show()\n",
        "print(data['floor'].describe())"
      ]
    },
    {
      "cell_type": "code",
      "execution_count": null,
      "metadata": {
        "id": "SoKtT3Rdrrfy",
        "outputId": "4421b996-b70d-4370-a692-7e551f375e20"
      },
      "outputs": [
        {
          "data": {
            "image/png": "[encoded data removed]",
            "text/plain": [
              "<Figure size 1000x500 with 1 Axes>"
            ]
          },
          "metadata": {},
          "output_type": "display_data"
        },
        {
          "name": "stdout",
          "output_type": "stream",
          "text": [
            "count    23345.000000\n",
            "mean        10.623859\n",
            "std          6.562545\n",
            "min          1.000000\n",
            "25%          5.000000\n",
            "50%          9.000000\n",
            "75%         16.000000\n",
            "max         60.000000\n",
            "Name: floors_total, dtype: float64\n"
          ]
        }
      ],
      "source": [
        "# Гистограмма для столбца общее число этажей в доме\n",
        "data.hist('floors_total', bins=100, figsize = (10,5))\n",
        "plt.show()\n",
        "print(data['floors_total'].describe())"
      ]
    },
    {
      "cell_type": "code",
      "execution_count": null,
      "metadata": {
        "id": "PK0S1HFIrrfy",
        "outputId": "be9bc227-c0fa-4b82-f58b-d05b75480ea7"
      },
      "outputs": [
        {
          "data": {
            "image/png": "[encoded data removed]",
            "text/plain": [
              "<Figure size 1000x500 with 1 Axes>"
            ]
          },
          "metadata": {},
          "output_type": "display_data"
        },
        {
          "name": "stdout",
          "output_type": "stream",
          "text": [
            "count    17929.000000\n",
            "mean     14197.568353\n",
            "std       8630.032759\n",
            "min        181.000000\n",
            "25%       9238.000000\n",
            "50%      13092.000000\n",
            "75%      16285.000000\n",
            "max      65968.000000\n",
            "Name: cityCenters_nearest, dtype: float64\n"
          ]
        }
      ],
      "source": [
        "# Гистограмма для столбца общее расстояние до центра города\n",
        "data.hist('cityCenters_nearest', bins=100, figsize = (10,5))\n",
        "plt.show()\n",
        "print(data['cityCenters_nearest'].describe())"
      ]
    },
    {
      "cell_type": "code",
      "execution_count": null,
      "metadata": {
        "id": "pynLkniLrrfy",
        "outputId": "ff8f11dd-081d-4b93-e845-cbf6069d0714"
      },
      "outputs": [
        {
          "data": {
            "image/png": "[encoded data removed]",
            "text/plain": [
              "<Figure size 1000x500 with 1 Axes>"
            ]
          },
          "metadata": {},
          "output_type": "display_data"
        },
        {
          "name": "stdout",
          "output_type": "stream",
          "text": [
            "count    17906.000000\n",
            "mean     28826.785658\n",
            "std      12628.003648\n",
            "min          0.000000\n",
            "25%      18582.750000\n",
            "50%      26770.000000\n",
            "75%      37294.000000\n",
            "max      84869.000000\n",
            "Name: airports_nearest, dtype: float64\n"
          ]
        }
      ],
      "source": [
        "# Гистограмма для столбца общее расстояние до аэропорта(в метрах)\n",
        "data.hist('airports_nearest', bins=100, figsize = (10,5))\n",
        "plt.show()\n",
        "print(data['airports_nearest'].describe())"
      ]
    },
    {
      "cell_type": "code",
      "execution_count": null,
      "metadata": {
        "id": "D-B8PLhVrrfy",
        "outputId": "8d3bb028-e0e6-4749-8ffb-bcc4a0bc363a"
      },
      "outputs": [
        {
          "data": {
            "image/png": "[encoded data removed]",
            "text/plain": [
              "<Figure size 1000x500 with 1 Axes>"
            ]
          },
          "metadata": {},
          "output_type": "display_data"
        },
        {
          "name": "stdout",
          "output_type": "stream",
          "text": [
            "count    7994.000000\n",
            "mean      490.242432\n",
            "std       341.766060\n",
            "min         1.000000\n",
            "25%       287.250000\n",
            "50%       454.000000\n",
            "75%       612.000000\n",
            "max      3190.000000\n",
            "Name: parks_nearest, dtype: float64\n"
          ]
        }
      ],
      "source": [
        "# Гистограмма для столбца общее расстояние до ближайшего парка(в метрах)\n",
        "data.hist('parks_nearest', bins=100, figsize = (10,5))\n",
        "plt.show()\n",
        "print(data['parks_nearest'].describe())"
      ]
    },
    {
      "cell_type": "code",
      "execution_count": null,
      "metadata": {
        "id": "rhtNC3tcrrfz",
        "outputId": "156a1925-2692-4454-bfc0-8bd2c2c2c924"
      },
      "outputs": [
        {
          "data": {
            "image/png": "[encoded data removed]",
            "text/plain": [
              "<Figure size 640x480 with 1 Axes>"
            ]
          },
          "metadata": {},
          "output_type": "display_data"
        },
        {
          "name": "stdout",
          "output_type": "stream",
          "text": [
            "count    23345.000000\n",
            "mean         2.566288\n",
            "std          1.789463\n",
            "min          0.000000\n",
            "25%          1.000000\n",
            "50%          3.000000\n",
            "75%          4.000000\n",
            "max          6.000000\n",
            "Name: day_weekday, dtype: float64\n"
          ]
        }
      ],
      "source": [
        "data.hist('day_weekday', bins=7,)\n",
        "plt.show()\n",
        "print(data['day_weekday'].describe())"
      ]
    },
    {
      "cell_type": "code",
      "execution_count": null,
      "metadata": {
        "id": "HHchpjSSrrfz",
        "outputId": "16e3ad86-a8ab-4429-fce3-b5d0bf6f5d20"
      },
      "outputs": [
        {
          "data": {
            "image/png": "[encoded data removed]",
            "text/plain": [
              "<Figure size 640x480 with 1 Axes>"
            ]
          },
          "metadata": {},
          "output_type": "display_data"
        },
        {
          "name": "stdout",
          "output_type": "stream",
          "text": [
            "count    23345.000000\n",
            "mean         6.396787\n",
            "std          3.492020\n",
            "min          1.000000\n",
            "25%          3.000000\n",
            "50%          6.000000\n",
            "75%         10.000000\n",
            "max         12.000000\n",
            "Name: day_month, dtype: float64\n"
          ]
        }
      ],
      "source": [
        "data.hist('day_month', bins=12,)\n",
        "plt.show()\n",
        "print(data['day_month'].describe())"
      ]
    },
    {
      "cell_type": "code",
      "execution_count": null,
      "metadata": {
        "id": "rZBb0-7Arrfz",
        "outputId": "32f00953-a1f5-4f43-a5d9-3783c6af7537"
      },
      "outputs": [
        {
          "data": {
            "text/html": [
              "<div>\n",
              "<style scoped>\n",
              "    .dataframe tbody tr th:only-of-type {\n",
              "        vertical-align: middle;\n",
              "    }\n",
              "\n",
              "    .dataframe tbody tr th {\n",
              "        vertical-align: top;\n",
              "    }\n",
              "\n",
              "    .dataframe thead th {\n",
              "        text-align: right;\n",
              "    }\n",
              "</style>\n",
              "<table border=\"1\" class=\"dataframe\">\n",
              "  <thead>\n",
              "    <tr style=\"text-align: right;\">\n",
              "      <th></th>\n",
              "      <th>total_images</th>\n",
              "      <th>last_price</th>\n",
              "      <th>total_area</th>\n",
              "      <th>first_day_exposition</th>\n",
              "      <th>rooms</th>\n",
              "      <th>ceiling_height</th>\n",
              "      <th>floors_total</th>\n",
              "      <th>living_area</th>\n",
              "      <th>floor</th>\n",
              "      <th>is_apartment</th>\n",
              "      <th>...</th>\n",
              "      <th>parks_nearest</th>\n",
              "      <th>ponds_around3000</th>\n",
              "      <th>ponds_nearest</th>\n",
              "      <th>days_exposition</th>\n",
              "      <th>price_area</th>\n",
              "      <th>day_weekday</th>\n",
              "      <th>day_month</th>\n",
              "      <th>day_year</th>\n",
              "      <th>floor_group</th>\n",
              "      <th>center_distance</th>\n",
              "    </tr>\n",
              "  </thead>\n",
              "  <tbody>\n",
              "    <tr>\n",
              "      <th>0</th>\n",
              "      <td>20</td>\n",
              "      <td>13000000.0</td>\n",
              "      <td>108.00</td>\n",
              "      <td>2019-03-07</td>\n",
              "      <td>3</td>\n",
              "      <td>2.70</td>\n",
              "      <td>16</td>\n",
              "      <td>51.0</td>\n",
              "      <td>8</td>\n",
              "      <td>False</td>\n",
              "      <td>...</td>\n",
              "      <td>482.0</td>\n",
              "      <td>2.0</td>\n",
              "      <td>755.0</td>\n",
              "      <td>NaN</td>\n",
              "      <td>120370.370370</td>\n",
              "      <td>3</td>\n",
              "      <td>3</td>\n",
              "      <td>2019</td>\n",
              "      <td>другой</td>\n",
              "      <td>16.0</td>\n",
              "    </tr>\n",
              "    <tr>\n",
              "      <th>1</th>\n",
              "      <td>7</td>\n",
              "      <td>3350000.0</td>\n",
              "      <td>40.40</td>\n",
              "      <td>2018-12-04</td>\n",
              "      <td>1</td>\n",
              "      <td>2.75</td>\n",
              "      <td>11</td>\n",
              "      <td>18.6</td>\n",
              "      <td>1</td>\n",
              "      <td>False</td>\n",
              "      <td>...</td>\n",
              "      <td>NaN</td>\n",
              "      <td>0.0</td>\n",
              "      <td>NaN</td>\n",
              "      <td>81.0</td>\n",
              "      <td>82920.792079</td>\n",
              "      <td>1</td>\n",
              "      <td>12</td>\n",
              "      <td>2018</td>\n",
              "      <td>первый</td>\n",
              "      <td>19.0</td>\n",
              "    </tr>\n",
              "    <tr>\n",
              "      <th>2</th>\n",
              "      <td>10</td>\n",
              "      <td>5196000.0</td>\n",
              "      <td>56.00</td>\n",
              "      <td>2015-08-20</td>\n",
              "      <td>2</td>\n",
              "      <td>2.55</td>\n",
              "      <td>5</td>\n",
              "      <td>34.3</td>\n",
              "      <td>4</td>\n",
              "      <td>False</td>\n",
              "      <td>...</td>\n",
              "      <td>90.0</td>\n",
              "      <td>2.0</td>\n",
              "      <td>574.0</td>\n",
              "      <td>558.0</td>\n",
              "      <td>92785.714286</td>\n",
              "      <td>3</td>\n",
              "      <td>8</td>\n",
              "      <td>2015</td>\n",
              "      <td>другой</td>\n",
              "      <td>14.0</td>\n",
              "    </tr>\n",
              "    <tr>\n",
              "      <th>3</th>\n",
              "      <td>0</td>\n",
              "      <td>64900000.0</td>\n",
              "      <td>159.00</td>\n",
              "      <td>2015-07-24</td>\n",
              "      <td>3</td>\n",
              "      <td>2.60</td>\n",
              "      <td>14</td>\n",
              "      <td>45.0</td>\n",
              "      <td>9</td>\n",
              "      <td>False</td>\n",
              "      <td>...</td>\n",
              "      <td>84.0</td>\n",
              "      <td>3.0</td>\n",
              "      <td>234.0</td>\n",
              "      <td>424.0</td>\n",
              "      <td>408176.100629</td>\n",
              "      <td>4</td>\n",
              "      <td>7</td>\n",
              "      <td>2015</td>\n",
              "      <td>другой</td>\n",
              "      <td>7.0</td>\n",
              "    </tr>\n",
              "    <tr>\n",
              "      <th>4</th>\n",
              "      <td>2</td>\n",
              "      <td>10000000.0</td>\n",
              "      <td>100.00</td>\n",
              "      <td>2018-06-19</td>\n",
              "      <td>2</td>\n",
              "      <td>3.03</td>\n",
              "      <td>14</td>\n",
              "      <td>32.0</td>\n",
              "      <td>13</td>\n",
              "      <td>False</td>\n",
              "      <td>...</td>\n",
              "      <td>112.0</td>\n",
              "      <td>1.0</td>\n",
              "      <td>48.0</td>\n",
              "      <td>121.0</td>\n",
              "      <td>100000.000000</td>\n",
              "      <td>1</td>\n",
              "      <td>6</td>\n",
              "      <td>2018</td>\n",
              "      <td>другой</td>\n",
              "      <td>8.0</td>\n",
              "    </tr>\n",
              "    <tr>\n",
              "      <th>...</th>\n",
              "      <td>...</td>\n",
              "      <td>...</td>\n",
              "      <td>...</td>\n",
              "      <td>...</td>\n",
              "      <td>...</td>\n",
              "      <td>...</td>\n",
              "      <td>...</td>\n",
              "      <td>...</td>\n",
              "      <td>...</td>\n",
              "      <td>...</td>\n",
              "      <td>...</td>\n",
              "      <td>...</td>\n",
              "      <td>...</td>\n",
              "      <td>...</td>\n",
              "      <td>...</td>\n",
              "      <td>...</td>\n",
              "      <td>...</td>\n",
              "      <td>...</td>\n",
              "      <td>...</td>\n",
              "      <td>...</td>\n",
              "      <td>...</td>\n",
              "    </tr>\n",
              "    <tr>\n",
              "      <th>23694</th>\n",
              "      <td>9</td>\n",
              "      <td>9700000.0</td>\n",
              "      <td>133.81</td>\n",
              "      <td>2017-03-21</td>\n",
              "      <td>3</td>\n",
              "      <td>3.70</td>\n",
              "      <td>5</td>\n",
              "      <td>73.3</td>\n",
              "      <td>3</td>\n",
              "      <td>False</td>\n",
              "      <td>...</td>\n",
              "      <td>796.0</td>\n",
              "      <td>3.0</td>\n",
              "      <td>381.0</td>\n",
              "      <td>NaN</td>\n",
              "      <td>72490.845228</td>\n",
              "      <td>1</td>\n",
              "      <td>3</td>\n",
              "      <td>2017</td>\n",
              "      <td>другой</td>\n",
              "      <td>4.0</td>\n",
              "    </tr>\n",
              "    <tr>\n",
              "      <th>23695</th>\n",
              "      <td>14</td>\n",
              "      <td>3100000.0</td>\n",
              "      <td>59.00</td>\n",
              "      <td>2018-01-15</td>\n",
              "      <td>3</td>\n",
              "      <td>2.55</td>\n",
              "      <td>5</td>\n",
              "      <td>38.0</td>\n",
              "      <td>4</td>\n",
              "      <td>False</td>\n",
              "      <td>...</td>\n",
              "      <td>NaN</td>\n",
              "      <td>NaN</td>\n",
              "      <td>NaN</td>\n",
              "      <td>45.0</td>\n",
              "      <td>52542.372881</td>\n",
              "      <td>0</td>\n",
              "      <td>1</td>\n",
              "      <td>2018</td>\n",
              "      <td>другой</td>\n",
              "      <td>NaN</td>\n",
              "    </tr>\n",
              "    <tr>\n",
              "      <th>23696</th>\n",
              "      <td>18</td>\n",
              "      <td>2500000.0</td>\n",
              "      <td>56.70</td>\n",
              "      <td>2018-02-11</td>\n",
              "      <td>2</td>\n",
              "      <td>2.80</td>\n",
              "      <td>3</td>\n",
              "      <td>29.7</td>\n",
              "      <td>1</td>\n",
              "      <td>False</td>\n",
              "      <td>...</td>\n",
              "      <td>NaN</td>\n",
              "      <td>NaN</td>\n",
              "      <td>NaN</td>\n",
              "      <td>NaN</td>\n",
              "      <td>44091.710758</td>\n",
              "      <td>6</td>\n",
              "      <td>2</td>\n",
              "      <td>2018</td>\n",
              "      <td>первый</td>\n",
              "      <td>NaN</td>\n",
              "    </tr>\n",
              "    <tr>\n",
              "      <th>23697</th>\n",
              "      <td>13</td>\n",
              "      <td>11475000.0</td>\n",
              "      <td>76.75</td>\n",
              "      <td>2017-03-28</td>\n",
              "      <td>2</td>\n",
              "      <td>3.00</td>\n",
              "      <td>17</td>\n",
              "      <td>30.5</td>\n",
              "      <td>12</td>\n",
              "      <td>False</td>\n",
              "      <td>...</td>\n",
              "      <td>173.0</td>\n",
              "      <td>3.0</td>\n",
              "      <td>196.0</td>\n",
              "      <td>602.0</td>\n",
              "      <td>149511.400651</td>\n",
              "      <td>1</td>\n",
              "      <td>3</td>\n",
              "      <td>2017</td>\n",
              "      <td>другой</td>\n",
              "      <td>10.0</td>\n",
              "    </tr>\n",
              "    <tr>\n",
              "      <th>23698</th>\n",
              "      <td>4</td>\n",
              "      <td>1350000.0</td>\n",
              "      <td>32.30</td>\n",
              "      <td>2017-07-21</td>\n",
              "      <td>1</td>\n",
              "      <td>2.50</td>\n",
              "      <td>5</td>\n",
              "      <td>12.3</td>\n",
              "      <td>1</td>\n",
              "      <td>False</td>\n",
              "      <td>...</td>\n",
              "      <td>NaN</td>\n",
              "      <td>NaN</td>\n",
              "      <td>NaN</td>\n",
              "      <td>NaN</td>\n",
              "      <td>41795.665635</td>\n",
              "      <td>4</td>\n",
              "      <td>7</td>\n",
              "      <td>2017</td>\n",
              "      <td>первый</td>\n",
              "      <td>NaN</td>\n",
              "    </tr>\n",
              "  </tbody>\n",
              "</table>\n",
              "<p>23345 rows × 28 columns</p>\n",
              "</div>"
            ],
            "text/plain": [
              "       total_images  last_price  total_area first_day_exposition  rooms  \\\n",
              "0                20  13000000.0      108.00           2019-03-07      3   \n",
              "1                 7   3350000.0       40.40           2018-12-04      1   \n",
              "2                10   5196000.0       56.00           2015-08-20      2   \n",
              "3                 0  64900000.0      159.00           2015-07-24      3   \n",
              "4                 2  10000000.0      100.00           2018-06-19      2   \n",
              "...             ...         ...         ...                  ...    ...   \n",
              "23694             9   9700000.0      133.81           2017-03-21      3   \n",
              "23695            14   3100000.0       59.00           2018-01-15      3   \n",
              "23696            18   2500000.0       56.70           2018-02-11      2   \n",
              "23697            13  11475000.0       76.75           2017-03-28      2   \n",
              "23698             4   1350000.0       32.30           2017-07-21      1   \n",
              "\n",
              "       ceiling_height  floors_total  living_area  floor  is_apartment  ...  \\\n",
              "0                2.70            16         51.0      8         False  ...   \n",
              "1                2.75            11         18.6      1         False  ...   \n",
              "2                2.55             5         34.3      4         False  ...   \n",
              "3                2.60            14         45.0      9         False  ...   \n",
              "4                3.03            14         32.0     13         False  ...   \n",
              "...               ...           ...          ...    ...           ...  ...   \n",
              "23694            3.70             5         73.3      3         False  ...   \n",
              "23695            2.55             5         38.0      4         False  ...   \n",
              "23696            2.80             3         29.7      1         False  ...   \n",
              "23697            3.00            17         30.5     12         False  ...   \n",
              "23698            2.50             5         12.3      1         False  ...   \n",
              "\n",
              "       parks_nearest  ponds_around3000  ponds_nearest  days_exposition  \\\n",
              "0              482.0               2.0          755.0              NaN   \n",
              "1                NaN               0.0            NaN             81.0   \n",
              "2               90.0               2.0          574.0            558.0   \n",
              "3               84.0               3.0          234.0            424.0   \n",
              "4              112.0               1.0           48.0            121.0   \n",
              "...              ...               ...            ...              ...   \n",
              "23694          796.0               3.0          381.0              NaN   \n",
              "23695            NaN               NaN            NaN             45.0   \n",
              "23696            NaN               NaN            NaN              NaN   \n",
              "23697          173.0               3.0          196.0            602.0   \n",
              "23698            NaN               NaN            NaN              NaN   \n",
              "\n",
              "          price_area  day_weekday  day_month  day_year  floor_group  \\\n",
              "0      120370.370370            3          3      2019       другой   \n",
              "1       82920.792079            1         12      2018       первый   \n",
              "2       92785.714286            3          8      2015       другой   \n",
              "3      408176.100629            4          7      2015       другой   \n",
              "4      100000.000000            1          6      2018       другой   \n",
              "...              ...          ...        ...       ...          ...   \n",
              "23694   72490.845228            1          3      2017       другой   \n",
              "23695   52542.372881            0          1      2018       другой   \n",
              "23696   44091.710758            6          2      2018       первый   \n",
              "23697  149511.400651            1          3      2017       другой   \n",
              "23698   41795.665635            4          7      2017       первый   \n",
              "\n",
              "       center_distance  \n",
              "0                 16.0  \n",
              "1                 19.0  \n",
              "2                 14.0  \n",
              "3                  7.0  \n",
              "4                  8.0  \n",
              "...                ...  \n",
              "23694              4.0  \n",
              "23695              NaN  \n",
              "23696              NaN  \n",
              "23697             10.0  \n",
              "23698              NaN  \n",
              "\n",
              "[23345 rows x 28 columns]"
            ]
          },
          "execution_count": 40,
          "metadata": {},
          "output_type": "execute_result"
        }
      ],
      "source": [
        "data"
      ]
    },
    {
      "cell_type": "markdown",
      "metadata": {
        "id": "IT0B4BWmrrfz"
      },
      "source": [
        "Из гистограммы видно, что обычно объявления размещаются на период до 3 месяцев, что можно считать достаточно быстрой продажей, но достаточно много объявлений \"висит\" более 7-8 месяцев (медленная продажа). Среднее время продажи - 181 день, значение медианы составляет 96 дней.\n",
        "\n",
        "Из полученных гистограмм также можно наблюдать редкие и выбивающиеся значения, например максимальная стоимость квартиры - 763 млн. рублей, максимальное время продажи квартиры - 1 580 дней (более 4 лет), также максимальная высота потолка составляет 8,3 м, максимальное количество комнат - 19."
      ]
    },
    {
      "cell_type": "markdown",
      "metadata": {
        "id": "vz4AIUGCrrfz"
      },
      "source": [
        "Рассмотрим, какие факторы больше всего влияют на стоимость квартиры, построим коэффициент корреляции."
      ]
    },
    {
      "cell_type": "code",
      "execution_count": null,
      "metadata": {
        "id": "dl0Gizn9rrfz",
        "outputId": "25d72026-c46d-4ad1-afd3-6e2359cf309a"
      },
      "outputs": [
        {
          "name": "stdout",
          "output_type": "stream",
          "text": [
            "                     last_price  price_area\n",
            "total_images           0.104758    0.134869\n",
            "last_price             1.000000    0.739730\n",
            "total_area             0.653165    0.306426\n",
            "rooms                  0.364728    0.060354\n",
            "ceiling_height         0.285972    0.294393\n",
            "floors_total          -0.004160    0.148599\n",
            "living_area            0.556303    0.215609\n",
            "floor                  0.028473    0.128933\n",
            "is_apartment           0.027467    0.037563\n",
            "studio                -0.007491    0.000767\n",
            "open_plan              0.007274    0.008625\n",
            "kitchen_area           0.454231    0.369070\n",
            "balcony                0.009939    0.021175\n",
            "airports_nearest      -0.026942   -0.038316\n",
            "cityCenters_nearest   -0.206613   -0.317692\n",
            "parks_around3000       0.151098    0.186318\n",
            "parks_nearest         -0.016636    0.006319\n",
            "ponds_around3000       0.161474    0.192092\n",
            "ponds_nearest         -0.086509   -0.106252\n",
            "days_exposition        0.080378    0.048323\n",
            "price_area             0.739730    1.000000\n",
            "day_weekday            0.001493   -0.007362\n",
            "day_month              0.003212   -0.002319\n",
            "day_year              -0.042864    0.008030\n",
            "center_distance       -0.206887   -0.318425\n"
          ]
        }
      ],
      "source": [
        "print(data.corr()[['last_price', 'price_area']])"
      ]
    },
    {
      "cell_type": "code",
      "execution_count": null,
      "metadata": {
        "id": "DjFe06fUrrfz",
        "outputId": "eb2f321e-d298-4b7b-d541-c7e07a9b1bfb"
      },
      "outputs": [
        {
          "data": {
            "text/plain": [
              "<AxesSubplot:xlabel='total_area'>"
            ]
          },
          "execution_count": 42,
          "metadata": {},
          "output_type": "execute_result"
        },
        {
          "data": {
            "image/png": "[encoded data removed]",
            "text/plain": [
              "<Figure size 640x480 with 1 Axes>"
            ]
          },
          "metadata": {},
          "output_type": "display_data"
        }
      ],
      "source": [
        "#Оценим зависимость цены м2 от площади квартиры\n",
        "data.query('total_area<200').pivot_table(index='total_area', values='price_area', aggfunc='median').plot(style='o')"
      ]
    },
    {
      "cell_type": "markdown",
      "metadata": {
        "id": "rl-GPYTsrrf0"
      },
      "source": [
        "В целом можно выделить незначительное соответствие, чем больше площадь квартиры, тем меньше цена квадратного метра и квартиры в целом."
      ]
    },
    {
      "cell_type": "code",
      "execution_count": null,
      "metadata": {
        "id": "jl8zvns2rrf0",
        "outputId": "977fea43-ba08-4dde-8993-ef79ee09bd60"
      },
      "outputs": [
        {
          "data": {
            "text/plain": [
              "<AxesSubplot:xlabel='kitchen_area'>"
            ]
          },
          "execution_count": 43,
          "metadata": {},
          "output_type": "execute_result"
        },
        {
          "data": {
            "image/png": "[encoded data removed]",
            "text/plain": [
              "<Figure size 640x480 with 1 Axes>"
            ]
          },
          "metadata": {},
          "output_type": "display_data"
        }
      ],
      "source": [
        "#Оценим зависимость цены м2 от площади кухни\n",
        "data.pivot_table(index='kitchen_area', values='price_area', aggfunc='median').plot(style='o')"
      ]
    },
    {
      "cell_type": "code",
      "execution_count": null,
      "metadata": {
        "id": "mzlK4rbOrrf0",
        "outputId": "feed17a9-5961-4c43-ba5a-98a448d64ae5"
      },
      "outputs": [
        {
          "data": {
            "text/plain": [
              "<AxesSubplot:xlabel='living_area'>"
            ]
          },
          "execution_count": 44,
          "metadata": {},
          "output_type": "execute_result"
        },
        {
          "data": {
            "image/png": "[encoded data removed]",
            "text/plain": [
              "<Figure size 640x480 with 1 Axes>"
            ]
          },
          "metadata": {},
          "output_type": "display_data"
        }
      ],
      "source": [
        "#Оценим зависимость цены м2 от общей площади\n",
        "data.pivot_table(index='living_area', values='price_area', aggfunc='median').plot(style='o')"
      ]
    },
    {
      "cell_type": "code",
      "execution_count": null,
      "metadata": {
        "id": "5eS7ztzcrrf0",
        "outputId": "c2209090-00c5-4905-bb0e-acb9f0d4759c"
      },
      "outputs": [
        {
          "data": {
            "text/html": [
              "<div>\n",
              "<style scoped>\n",
              "    .dataframe tbody tr th:only-of-type {\n",
              "        vertical-align: middle;\n",
              "    }\n",
              "\n",
              "    .dataframe tbody tr th {\n",
              "        vertical-align: top;\n",
              "    }\n",
              "\n",
              "    .dataframe thead th {\n",
              "        text-align: right;\n",
              "    }\n",
              "</style>\n",
              "<table border=\"1\" class=\"dataframe\">\n",
              "  <thead>\n",
              "    <tr style=\"text-align: right;\">\n",
              "      <th></th>\n",
              "      <th>total_images</th>\n",
              "      <th>last_price</th>\n",
              "      <th>total_area</th>\n",
              "      <th>first_day_exposition</th>\n",
              "      <th>rooms</th>\n",
              "      <th>ceiling_height</th>\n",
              "      <th>floors_total</th>\n",
              "      <th>living_area</th>\n",
              "      <th>floor</th>\n",
              "      <th>is_apartment</th>\n",
              "      <th>...</th>\n",
              "      <th>parks_nearest</th>\n",
              "      <th>ponds_around3000</th>\n",
              "      <th>ponds_nearest</th>\n",
              "      <th>days_exposition</th>\n",
              "      <th>price_area</th>\n",
              "      <th>day_weekday</th>\n",
              "      <th>day_month</th>\n",
              "      <th>day_year</th>\n",
              "      <th>floor_group</th>\n",
              "      <th>center_distance</th>\n",
              "    </tr>\n",
              "  </thead>\n",
              "  <tbody>\n",
              "    <tr>\n",
              "      <th>0</th>\n",
              "      <td>20</td>\n",
              "      <td>13000000.0</td>\n",
              "      <td>108.00</td>\n",
              "      <td>2019-03-07</td>\n",
              "      <td>3</td>\n",
              "      <td>2.70</td>\n",
              "      <td>16</td>\n",
              "      <td>51.0</td>\n",
              "      <td>8</td>\n",
              "      <td>False</td>\n",
              "      <td>...</td>\n",
              "      <td>482.0</td>\n",
              "      <td>2.0</td>\n",
              "      <td>755.0</td>\n",
              "      <td>NaN</td>\n",
              "      <td>120370.370370</td>\n",
              "      <td>3</td>\n",
              "      <td>3</td>\n",
              "      <td>2019</td>\n",
              "      <td>другой</td>\n",
              "      <td>16.0</td>\n",
              "    </tr>\n",
              "    <tr>\n",
              "      <th>1</th>\n",
              "      <td>7</td>\n",
              "      <td>3350000.0</td>\n",
              "      <td>40.40</td>\n",
              "      <td>2018-12-04</td>\n",
              "      <td>1</td>\n",
              "      <td>2.75</td>\n",
              "      <td>11</td>\n",
              "      <td>18.6</td>\n",
              "      <td>1</td>\n",
              "      <td>False</td>\n",
              "      <td>...</td>\n",
              "      <td>NaN</td>\n",
              "      <td>0.0</td>\n",
              "      <td>NaN</td>\n",
              "      <td>81.0</td>\n",
              "      <td>82920.792079</td>\n",
              "      <td>1</td>\n",
              "      <td>12</td>\n",
              "      <td>2018</td>\n",
              "      <td>первый</td>\n",
              "      <td>19.0</td>\n",
              "    </tr>\n",
              "    <tr>\n",
              "      <th>2</th>\n",
              "      <td>10</td>\n",
              "      <td>5196000.0</td>\n",
              "      <td>56.00</td>\n",
              "      <td>2015-08-20</td>\n",
              "      <td>2</td>\n",
              "      <td>2.55</td>\n",
              "      <td>5</td>\n",
              "      <td>34.3</td>\n",
              "      <td>4</td>\n",
              "      <td>False</td>\n",
              "      <td>...</td>\n",
              "      <td>90.0</td>\n",
              "      <td>2.0</td>\n",
              "      <td>574.0</td>\n",
              "      <td>558.0</td>\n",
              "      <td>92785.714286</td>\n",
              "      <td>3</td>\n",
              "      <td>8</td>\n",
              "      <td>2015</td>\n",
              "      <td>другой</td>\n",
              "      <td>14.0</td>\n",
              "    </tr>\n",
              "    <tr>\n",
              "      <th>3</th>\n",
              "      <td>0</td>\n",
              "      <td>64900000.0</td>\n",
              "      <td>159.00</td>\n",
              "      <td>2015-07-24</td>\n",
              "      <td>3</td>\n",
              "      <td>2.60</td>\n",
              "      <td>14</td>\n",
              "      <td>45.0</td>\n",
              "      <td>9</td>\n",
              "      <td>False</td>\n",
              "      <td>...</td>\n",
              "      <td>84.0</td>\n",
              "      <td>3.0</td>\n",
              "      <td>234.0</td>\n",
              "      <td>424.0</td>\n",
              "      <td>408176.100629</td>\n",
              "      <td>4</td>\n",
              "      <td>7</td>\n",
              "      <td>2015</td>\n",
              "      <td>другой</td>\n",
              "      <td>7.0</td>\n",
              "    </tr>\n",
              "    <tr>\n",
              "      <th>4</th>\n",
              "      <td>2</td>\n",
              "      <td>10000000.0</td>\n",
              "      <td>100.00</td>\n",
              "      <td>2018-06-19</td>\n",
              "      <td>2</td>\n",
              "      <td>3.03</td>\n",
              "      <td>14</td>\n",
              "      <td>32.0</td>\n",
              "      <td>13</td>\n",
              "      <td>False</td>\n",
              "      <td>...</td>\n",
              "      <td>112.0</td>\n",
              "      <td>1.0</td>\n",
              "      <td>48.0</td>\n",
              "      <td>121.0</td>\n",
              "      <td>100000.000000</td>\n",
              "      <td>1</td>\n",
              "      <td>6</td>\n",
              "      <td>2018</td>\n",
              "      <td>другой</td>\n",
              "      <td>8.0</td>\n",
              "    </tr>\n",
              "    <tr>\n",
              "      <th>...</th>\n",
              "      <td>...</td>\n",
              "      <td>...</td>\n",
              "      <td>...</td>\n",
              "      <td>...</td>\n",
              "      <td>...</td>\n",
              "      <td>...</td>\n",
              "      <td>...</td>\n",
              "      <td>...</td>\n",
              "      <td>...</td>\n",
              "      <td>...</td>\n",
              "      <td>...</td>\n",
              "      <td>...</td>\n",
              "      <td>...</td>\n",
              "      <td>...</td>\n",
              "      <td>...</td>\n",
              "      <td>...</td>\n",
              "      <td>...</td>\n",
              "      <td>...</td>\n",
              "      <td>...</td>\n",
              "      <td>...</td>\n",
              "      <td>...</td>\n",
              "    </tr>\n",
              "    <tr>\n",
              "      <th>23694</th>\n",
              "      <td>9</td>\n",
              "      <td>9700000.0</td>\n",
              "      <td>133.81</td>\n",
              "      <td>2017-03-21</td>\n",
              "      <td>3</td>\n",
              "      <td>3.70</td>\n",
              "      <td>5</td>\n",
              "      <td>73.3</td>\n",
              "      <td>3</td>\n",
              "      <td>False</td>\n",
              "      <td>...</td>\n",
              "      <td>796.0</td>\n",
              "      <td>3.0</td>\n",
              "      <td>381.0</td>\n",
              "      <td>NaN</td>\n",
              "      <td>72490.845228</td>\n",
              "      <td>1</td>\n",
              "      <td>3</td>\n",
              "      <td>2017</td>\n",
              "      <td>другой</td>\n",
              "      <td>4.0</td>\n",
              "    </tr>\n",
              "    <tr>\n",
              "      <th>23695</th>\n",
              "      <td>14</td>\n",
              "      <td>3100000.0</td>\n",
              "      <td>59.00</td>\n",
              "      <td>2018-01-15</td>\n",
              "      <td>3</td>\n",
              "      <td>2.55</td>\n",
              "      <td>5</td>\n",
              "      <td>38.0</td>\n",
              "      <td>4</td>\n",
              "      <td>False</td>\n",
              "      <td>...</td>\n",
              "      <td>NaN</td>\n",
              "      <td>NaN</td>\n",
              "      <td>NaN</td>\n",
              "      <td>45.0</td>\n",
              "      <td>52542.372881</td>\n",
              "      <td>0</td>\n",
              "      <td>1</td>\n",
              "      <td>2018</td>\n",
              "      <td>другой</td>\n",
              "      <td>NaN</td>\n",
              "    </tr>\n",
              "    <tr>\n",
              "      <th>23696</th>\n",
              "      <td>18</td>\n",
              "      <td>2500000.0</td>\n",
              "      <td>56.70</td>\n",
              "      <td>2018-02-11</td>\n",
              "      <td>2</td>\n",
              "      <td>2.80</td>\n",
              "      <td>3</td>\n",
              "      <td>29.7</td>\n",
              "      <td>1</td>\n",
              "      <td>False</td>\n",
              "      <td>...</td>\n",
              "      <td>NaN</td>\n",
              "      <td>NaN</td>\n",
              "      <td>NaN</td>\n",
              "      <td>NaN</td>\n",
              "      <td>44091.710758</td>\n",
              "      <td>6</td>\n",
              "      <td>2</td>\n",
              "      <td>2018</td>\n",
              "      <td>первый</td>\n",
              "      <td>NaN</td>\n",
              "    </tr>\n",
              "    <tr>\n",
              "      <th>23697</th>\n",
              "      <td>13</td>\n",
              "      <td>11475000.0</td>\n",
              "      <td>76.75</td>\n",
              "      <td>2017-03-28</td>\n",
              "      <td>2</td>\n",
              "      <td>3.00</td>\n",
              "      <td>17</td>\n",
              "      <td>30.5</td>\n",
              "      <td>12</td>\n",
              "      <td>False</td>\n",
              "      <td>...</td>\n",
              "      <td>173.0</td>\n",
              "      <td>3.0</td>\n",
              "      <td>196.0</td>\n",
              "      <td>602.0</td>\n",
              "      <td>149511.400651</td>\n",
              "      <td>1</td>\n",
              "      <td>3</td>\n",
              "      <td>2017</td>\n",
              "      <td>другой</td>\n",
              "      <td>10.0</td>\n",
              "    </tr>\n",
              "    <tr>\n",
              "      <th>23698</th>\n",
              "      <td>4</td>\n",
              "      <td>1350000.0</td>\n",
              "      <td>32.30</td>\n",
              "      <td>2017-07-21</td>\n",
              "      <td>1</td>\n",
              "      <td>2.50</td>\n",
              "      <td>5</td>\n",
              "      <td>12.3</td>\n",
              "      <td>1</td>\n",
              "      <td>False</td>\n",
              "      <td>...</td>\n",
              "      <td>NaN</td>\n",
              "      <td>NaN</td>\n",
              "      <td>NaN</td>\n",
              "      <td>NaN</td>\n",
              "      <td>41795.665635</td>\n",
              "      <td>4</td>\n",
              "      <td>7</td>\n",
              "      <td>2017</td>\n",
              "      <td>первый</td>\n",
              "      <td>NaN</td>\n",
              "    </tr>\n",
              "  </tbody>\n",
              "</table>\n",
              "<p>23345 rows × 28 columns</p>\n",
              "</div>"
            ],
            "text/plain": [
              "       total_images  last_price  total_area first_day_exposition  rooms  \\\n",
              "0                20  13000000.0      108.00           2019-03-07      3   \n",
              "1                 7   3350000.0       40.40           2018-12-04      1   \n",
              "2                10   5196000.0       56.00           2015-08-20      2   \n",
              "3                 0  64900000.0      159.00           2015-07-24      3   \n",
              "4                 2  10000000.0      100.00           2018-06-19      2   \n",
              "...             ...         ...         ...                  ...    ...   \n",
              "23694             9   9700000.0      133.81           2017-03-21      3   \n",
              "23695            14   3100000.0       59.00           2018-01-15      3   \n",
              "23696            18   2500000.0       56.70           2018-02-11      2   \n",
              "23697            13  11475000.0       76.75           2017-03-28      2   \n",
              "23698             4   1350000.0       32.30           2017-07-21      1   \n",
              "\n",
              "       ceiling_height  floors_total  living_area  floor  is_apartment  ...  \\\n",
              "0                2.70            16         51.0      8         False  ...   \n",
              "1                2.75            11         18.6      1         False  ...   \n",
              "2                2.55             5         34.3      4         False  ...   \n",
              "3                2.60            14         45.0      9         False  ...   \n",
              "4                3.03            14         32.0     13         False  ...   \n",
              "...               ...           ...          ...    ...           ...  ...   \n",
              "23694            3.70             5         73.3      3         False  ...   \n",
              "23695            2.55             5         38.0      4         False  ...   \n",
              "23696            2.80             3         29.7      1         False  ...   \n",
              "23697            3.00            17         30.5     12         False  ...   \n",
              "23698            2.50             5         12.3      1         False  ...   \n",
              "\n",
              "       parks_nearest  ponds_around3000  ponds_nearest  days_exposition  \\\n",
              "0              482.0               2.0          755.0              NaN   \n",
              "1                NaN               0.0            NaN             81.0   \n",
              "2               90.0               2.0          574.0            558.0   \n",
              "3               84.0               3.0          234.0            424.0   \n",
              "4              112.0               1.0           48.0            121.0   \n",
              "...              ...               ...            ...              ...   \n",
              "23694          796.0               3.0          381.0              NaN   \n",
              "23695            NaN               NaN            NaN             45.0   \n",
              "23696            NaN               NaN            NaN              NaN   \n",
              "23697          173.0               3.0          196.0            602.0   \n",
              "23698            NaN               NaN            NaN              NaN   \n",
              "\n",
              "          price_area  day_weekday  day_month  day_year  floor_group  \\\n",
              "0      120370.370370            3          3      2019       другой   \n",
              "1       82920.792079            1         12      2018       первый   \n",
              "2       92785.714286            3          8      2015       другой   \n",
              "3      408176.100629            4          7      2015       другой   \n",
              "4      100000.000000            1          6      2018       другой   \n",
              "...              ...          ...        ...       ...          ...   \n",
              "23694   72490.845228            1          3      2017       другой   \n",
              "23695   52542.372881            0          1      2018       другой   \n",
              "23696   44091.710758            6          2      2018       первый   \n",
              "23697  149511.400651            1          3      2017       другой   \n",
              "23698   41795.665635            4          7      2017       первый   \n",
              "\n",
              "       center_distance  \n",
              "0                 16.0  \n",
              "1                 19.0  \n",
              "2                 14.0  \n",
              "3                  7.0  \n",
              "4                  8.0  \n",
              "...                ...  \n",
              "23694              4.0  \n",
              "23695              NaN  \n",
              "23696              NaN  \n",
              "23697             10.0  \n",
              "23698              NaN  \n",
              "\n",
              "[23345 rows x 28 columns]"
            ]
          },
          "execution_count": 45,
          "metadata": {},
          "output_type": "execute_result"
        }
      ],
      "source": [
        "data"
      ]
    },
    {
      "cell_type": "code",
      "execution_count": null,
      "metadata": {
        "id": "U47jTkrnrrf0",
        "outputId": "62d4641f-8037-47c4-da7f-85c0a35c0d92"
      },
      "outputs": [
        {
          "data": {
            "text/plain": [
              "<AxesSubplot:xlabel='rooms'>"
            ]
          },
          "execution_count": 46,
          "metadata": {},
          "output_type": "execute_result"
        },
        {
          "data": {
            "image/png": "[encoded data removed]",
            "text/plain": [
              "<Figure size 640x480 with 1 Axes>"
            ]
          },
          "metadata": {},
          "output_type": "display_data"
        }
      ],
      "source": [
        "# Оценим зависимость цены м2 от числа комнат\n",
        "data.query('last_price<80000000').pivot_table(index='rooms', values='price_area', aggfunc='median').plot(style='o-', xlim=(0,10))"
      ]
    },
    {
      "cell_type": "code",
      "execution_count": null,
      "metadata": {
        "id": "_XwQ1VMWrrf0",
        "outputId": "d8f18822-1947-44f0-a1a4-fea8f806f68b"
      },
      "outputs": [
        {
          "data": {
            "text/plain": [
              "<AxesSubplot:xlabel='floor_group'>"
            ]
          },
          "execution_count": 47,
          "metadata": {},
          "output_type": "execute_result"
        },
        {
          "data": {
            "image/png": "[encoded data removed]",
            "text/plain": [
              "<Figure size 640x480 with 1 Axes>"
            ]
          },
          "metadata": {},
          "output_type": "display_data"
        }
      ],
      "source": [
        "# Оценим зависимость цены м2 от актегории этажа\n",
        "data.query('last_price<80000000').pivot_table(index='floor_group', values='price_area', aggfunc='median').plot(style='o-', xlim=(0,10))"
      ]
    },
    {
      "cell_type": "code",
      "execution_count": null,
      "metadata": {
        "id": "oosFcQT8rrf1",
        "outputId": "9f202a99-9ec7-4ff8-a204-d6effa0a6253"
      },
      "outputs": [
        {
          "data": {
            "text/plain": [
              "<AxesSubplot:xlabel='first_day_exposition'>"
            ]
          },
          "execution_count": 48,
          "metadata": {},
          "output_type": "execute_result"
        },
        {
          "data": {
            "image/png": "[encoded data removed]",
            "text/plain": [
              "<Figure size 640x480 with 1 Axes>"
            ]
          },
          "metadata": {},
          "output_type": "display_data"
        }
      ],
      "source": [
        "# Оценим зависимость цены м2 от временных рамок\n",
        "data.query('last_price<80000000').pivot_table(index='first_day_exposition', values='price_area', aggfunc='median').plot(style='o-', xlim=(0,10))"
      ]
    },
    {
      "cell_type": "markdown",
      "metadata": {
        "id": "5p8rENG1rrf1"
      },
      "source": [
        "Цена за квадратный метр уменьшается при увеличении числа комнат до 3, начиная с 4 комнат, цена м2 увеличивается."
      ]
    },
    {
      "cell_type": "code",
      "execution_count": null,
      "metadata": {
        "id": "KWYDcf7-rrf1",
        "outputId": "5745f609-d477-402e-f9eb-e71e001a3098"
      },
      "outputs": [
        {
          "data": {
            "text/plain": [
              "Санкт-Петербург      15525\n",
              "поселок Мурино         525\n",
              "поселок Шушары         435\n",
              "Всеволожск             392\n",
              "Пушкин                 369\n",
              "Колпино                338\n",
              "поселок Парголово      323\n",
              "Гатчина                306\n",
              "деревня Кудрово        283\n",
              "Выборг                 237\n",
              "Name: locality_name, dtype: int64"
            ]
          },
          "metadata": {},
          "output_type": "display_data"
        }
      ],
      "source": [
        "# Выберем 10 населённых пунктов с наибольшим числом объявлений\n",
        "locality=data['locality_name'].value_counts().sort_values(ascending=False).head(10)\n",
        "display(locality)"
      ]
    },
    {
      "cell_type": "code",
      "execution_count": null,
      "metadata": {
        "id": "tL3Ip4Dgrrf1",
        "outputId": "dd7af752-b618-4fbd-ea6a-aec23b781fbf"
      },
      "outputs": [
        {
          "data": {
            "text/plain": [
              "<AxesSubplot:xlabel='locality_name'>"
            ]
          },
          "execution_count": 50,
          "metadata": {},
          "output_type": "execute_result"
        },
        {
          "data": {
            "image/png": "[encoded data removed]",
            "text/plain": [
              "<Figure size 640x480 with 1 Axes>"
            ]
          },
          "metadata": {},
          "output_type": "display_data"
        }
      ],
      "source": [
        "# Посчитаем среднюю цену м2 в этих населённых пунктах, выделим пункты с самой высокой и низкой стоимостью жилья.\n",
        "data.query('locality_name in @locality.index').pivot_table(index='locality_name', values='price_area', aggfunc='median').sort_values('price_area').plot(kind='bar')"
      ]
    },
    {
      "cell_type": "markdown",
      "metadata": {
        "id": "Q7Pu-OLgrrf1"
      },
      "source": [
        "Из графика видно, что населённые пункты с самой высокой стоимостью жилья - это Санкт-Петербург и Пушкин, с самой низкой стоимостью - Выборг и Всеволожск."
      ]
    },
    {
      "cell_type": "markdown",
      "metadata": {
        "id": "Tp1VhIpNrrf1"
      },
      "source": [
        "**Cредняя цена одного квадратного метра в топ-10 населенных пунктах**"
      ]
    },
    {
      "cell_type": "code",
      "execution_count": null,
      "metadata": {
        "id": "MDNWrGmurrf1",
        "outputId": "7d058147-3a93-494d-e744-99df442dbe35"
      },
      "outputs": [
        {
          "data": {
            "text/plain": [
              "<AxesSubplot:ylabel='locality_name'>"
            ]
          },
          "execution_count": 51,
          "metadata": {},
          "output_type": "execute_result"
        },
        {
          "data": {
            "image/png": "[encoded data removed]",
            "text/plain": [
              "<Figure size 640x480 with 1 Axes>"
            ]
          },
          "metadata": {},
          "output_type": "display_data"
        }
      ],
      "source": [
        "top_10 = data.pivot_table(index='locality_name', values=['last_price','total_area'] ,aggfunc=['sum','count'])\n",
        "top_10.columns=['last_price_sum','total_area_sum','last_price_count','total_area_count']\n",
        "top_10.pop('total_area_count')\n",
        "top_10.sort_values(by=['last_price_count'],ascending=False, inplace=True)\n",
        "top_10 = top_10.iloc[:10]\n",
        "top_10['price_per_sq_m'] = top_10['last_price_sum']/top_10['total_area_sum']\n",
        "top_10.sort_values(by=['price_per_sq_m'],ascending=True, inplace=True)\n",
        "top_10['price_per_sq_m'].plot(kind='barh')\n"
      ]
    },
    {
      "cell_type": "code",
      "execution_count": null,
      "metadata": {
        "id": "ri1tAVH6rrf2",
        "outputId": "ca2b8d18-e1b1-452f-b32a-41b2d2b18b66"
      },
      "outputs": [
        {
          "data": {
            "text/html": [
              "<div>\n",
              "<style scoped>\n",
              "    .dataframe tbody tr th:only-of-type {\n",
              "        vertical-align: middle;\n",
              "    }\n",
              "\n",
              "    .dataframe tbody tr th {\n",
              "        vertical-align: top;\n",
              "    }\n",
              "\n",
              "    .dataframe thead th {\n",
              "        text-align: right;\n",
              "    }\n",
              "</style>\n",
              "<table border=\"1\" class=\"dataframe\">\n",
              "  <thead>\n",
              "    <tr style=\"text-align: right;\">\n",
              "      <th></th>\n",
              "      <th>total_images</th>\n",
              "      <th>last_price</th>\n",
              "      <th>total_area</th>\n",
              "      <th>first_day_exposition</th>\n",
              "      <th>rooms</th>\n",
              "      <th>ceiling_height</th>\n",
              "      <th>floors_total</th>\n",
              "      <th>living_area</th>\n",
              "      <th>floor</th>\n",
              "      <th>is_apartment</th>\n",
              "      <th>...</th>\n",
              "      <th>parks_nearest</th>\n",
              "      <th>ponds_around3000</th>\n",
              "      <th>ponds_nearest</th>\n",
              "      <th>days_exposition</th>\n",
              "      <th>price_area</th>\n",
              "      <th>day_weekday</th>\n",
              "      <th>day_month</th>\n",
              "      <th>day_year</th>\n",
              "      <th>floor_group</th>\n",
              "      <th>center_distance</th>\n",
              "    </tr>\n",
              "  </thead>\n",
              "  <tbody>\n",
              "    <tr>\n",
              "      <th>0</th>\n",
              "      <td>20</td>\n",
              "      <td>13000000.0</td>\n",
              "      <td>108.0</td>\n",
              "      <td>2019-03-07</td>\n",
              "      <td>3</td>\n",
              "      <td>2.70</td>\n",
              "      <td>16</td>\n",
              "      <td>51.0</td>\n",
              "      <td>8</td>\n",
              "      <td>False</td>\n",
              "      <td>...</td>\n",
              "      <td>482.0</td>\n",
              "      <td>2.0</td>\n",
              "      <td>755.0</td>\n",
              "      <td>NaN</td>\n",
              "      <td>120370.370370</td>\n",
              "      <td>3</td>\n",
              "      <td>3</td>\n",
              "      <td>2019</td>\n",
              "      <td>другой</td>\n",
              "      <td>16.0</td>\n",
              "    </tr>\n",
              "    <tr>\n",
              "      <th>1</th>\n",
              "      <td>7</td>\n",
              "      <td>3350000.0</td>\n",
              "      <td>40.4</td>\n",
              "      <td>2018-12-04</td>\n",
              "      <td>1</td>\n",
              "      <td>2.75</td>\n",
              "      <td>11</td>\n",
              "      <td>18.6</td>\n",
              "      <td>1</td>\n",
              "      <td>False</td>\n",
              "      <td>...</td>\n",
              "      <td>NaN</td>\n",
              "      <td>0.0</td>\n",
              "      <td>NaN</td>\n",
              "      <td>81.0</td>\n",
              "      <td>82920.792079</td>\n",
              "      <td>1</td>\n",
              "      <td>12</td>\n",
              "      <td>2018</td>\n",
              "      <td>первый</td>\n",
              "      <td>19.0</td>\n",
              "    </tr>\n",
              "    <tr>\n",
              "      <th>2</th>\n",
              "      <td>10</td>\n",
              "      <td>5196000.0</td>\n",
              "      <td>56.0</td>\n",
              "      <td>2015-08-20</td>\n",
              "      <td>2</td>\n",
              "      <td>2.55</td>\n",
              "      <td>5</td>\n",
              "      <td>34.3</td>\n",
              "      <td>4</td>\n",
              "      <td>False</td>\n",
              "      <td>...</td>\n",
              "      <td>90.0</td>\n",
              "      <td>2.0</td>\n",
              "      <td>574.0</td>\n",
              "      <td>558.0</td>\n",
              "      <td>92785.714286</td>\n",
              "      <td>3</td>\n",
              "      <td>8</td>\n",
              "      <td>2015</td>\n",
              "      <td>другой</td>\n",
              "      <td>14.0</td>\n",
              "    </tr>\n",
              "    <tr>\n",
              "      <th>3</th>\n",
              "      <td>0</td>\n",
              "      <td>64900000.0</td>\n",
              "      <td>159.0</td>\n",
              "      <td>2015-07-24</td>\n",
              "      <td>3</td>\n",
              "      <td>2.60</td>\n",
              "      <td>14</td>\n",
              "      <td>45.0</td>\n",
              "      <td>9</td>\n",
              "      <td>False</td>\n",
              "      <td>...</td>\n",
              "      <td>84.0</td>\n",
              "      <td>3.0</td>\n",
              "      <td>234.0</td>\n",
              "      <td>424.0</td>\n",
              "      <td>408176.100629</td>\n",
              "      <td>4</td>\n",
              "      <td>7</td>\n",
              "      <td>2015</td>\n",
              "      <td>другой</td>\n",
              "      <td>7.0</td>\n",
              "    </tr>\n",
              "    <tr>\n",
              "      <th>4</th>\n",
              "      <td>2</td>\n",
              "      <td>10000000.0</td>\n",
              "      <td>100.0</td>\n",
              "      <td>2018-06-19</td>\n",
              "      <td>2</td>\n",
              "      <td>3.03</td>\n",
              "      <td>14</td>\n",
              "      <td>32.0</td>\n",
              "      <td>13</td>\n",
              "      <td>False</td>\n",
              "      <td>...</td>\n",
              "      <td>112.0</td>\n",
              "      <td>1.0</td>\n",
              "      <td>48.0</td>\n",
              "      <td>121.0</td>\n",
              "      <td>100000.000000</td>\n",
              "      <td>1</td>\n",
              "      <td>6</td>\n",
              "      <td>2018</td>\n",
              "      <td>другой</td>\n",
              "      <td>8.0</td>\n",
              "    </tr>\n",
              "  </tbody>\n",
              "</table>\n",
              "<p>5 rows × 28 columns</p>\n",
              "</div>"
            ],
            "text/plain": [
              "   total_images  last_price  total_area first_day_exposition  rooms  \\\n",
              "0            20  13000000.0       108.0           2019-03-07      3   \n",
              "1             7   3350000.0        40.4           2018-12-04      1   \n",
              "2            10   5196000.0        56.0           2015-08-20      2   \n",
              "3             0  64900000.0       159.0           2015-07-24      3   \n",
              "4             2  10000000.0       100.0           2018-06-19      2   \n",
              "\n",
              "   ceiling_height  floors_total  living_area  floor  is_apartment  ...  \\\n",
              "0            2.70            16         51.0      8         False  ...   \n",
              "1            2.75            11         18.6      1         False  ...   \n",
              "2            2.55             5         34.3      4         False  ...   \n",
              "3            2.60            14         45.0      9         False  ...   \n",
              "4            3.03            14         32.0     13         False  ...   \n",
              "\n",
              "   parks_nearest  ponds_around3000  ponds_nearest  days_exposition  \\\n",
              "0          482.0               2.0          755.0              NaN   \n",
              "1            NaN               0.0            NaN             81.0   \n",
              "2           90.0               2.0          574.0            558.0   \n",
              "3           84.0               3.0          234.0            424.0   \n",
              "4          112.0               1.0           48.0            121.0   \n",
              "\n",
              "      price_area  day_weekday  day_month  day_year  floor_group  \\\n",
              "0  120370.370370            3          3      2019       другой   \n",
              "1   82920.792079            1         12      2018       первый   \n",
              "2   92785.714286            3          8      2015       другой   \n",
              "3  408176.100629            4          7      2015       другой   \n",
              "4  100000.000000            1          6      2018       другой   \n",
              "\n",
              "   center_distance  \n",
              "0             16.0  \n",
              "1             19.0  \n",
              "2             14.0  \n",
              "3              7.0  \n",
              "4              8.0  \n",
              "\n",
              "[5 rows x 28 columns]"
            ]
          },
          "execution_count": 52,
          "metadata": {},
          "output_type": "execute_result"
        }
      ],
      "source": [
        "data.head()"
      ]
    },
    {
      "cell_type": "code",
      "execution_count": null,
      "metadata": {
        "id": "is-Y_0WArrf2",
        "outputId": "d4bfa562-1ba1-4b7e-9670-d804d0ad4527"
      },
      "outputs": [
        {
          "data": {
            "text/plain": [
              "1     7997\n",
              "2     7884\n",
              "3     5774\n",
              "4     1171\n",
              "5      325\n",
              "6      104\n",
              "7       59\n",
              "8       12\n",
              "9        8\n",
              "10       3\n",
              "11       2\n",
              "14       2\n",
              "15       1\n",
              "19       1\n",
              "16       1\n",
              "12       1\n",
              "Name: rooms, dtype: int64"
            ]
          },
          "execution_count": 53,
          "metadata": {},
          "output_type": "execute_result"
        }
      ],
      "source": [
        "data['rooms'].value_counts()"
      ]
    },
    {
      "cell_type": "code",
      "execution_count": null,
      "metadata": {
        "id": "3ibhv9iLrrf2",
        "outputId": "58551b59-dc11-4ec8-c0c5-41c3a4e6ae8c"
      },
      "outputs": [
        {
          "data": {
            "text/plain": [
              "rooms\n",
              "1     7997\n",
              "2     7884\n",
              "3     5774\n",
              "4     1171\n",
              "5      325\n",
              "6      104\n",
              "7       59\n",
              "8       12\n",
              "9        8\n",
              "10       3\n",
              "11       2\n",
              "14       2\n",
              "12       1\n",
              "15       1\n",
              "16       1\n",
              "19       1\n",
              "Name: rooms, dtype: int64"
            ]
          },
          "execution_count": 54,
          "metadata": {},
          "output_type": "execute_result"
        }
      ],
      "source": [
        "data.groupby(by='rooms')['rooms'].count().sort_values(ascending=False)"
      ]
    },
    {
      "cell_type": "markdown",
      "metadata": {
        "id": "A8EyWDYyrrf2"
      },
      "source": [
        "Ожидаемо самая дорогая недвижимость в Санкт-Петербурге.\n",
        "В ТОП-10 входят ближайшие к Санкт-Петербургу города."
      ]
    },
    {
      "cell_type": "markdown",
      "metadata": {
        "id": "LPJghayJrrf2"
      },
      "source": [
        "**Расстояние до центра города**"
      ]
    },
    {
      "cell_type": "code",
      "execution_count": null,
      "metadata": {
        "id": "5GyCQAaUrrf2",
        "outputId": "3c3b0570-f55f-4e5d-ff3f-b7a65d8082b5"
      },
      "outputs": [
        {
          "data": {
            "text/plain": [
              "<AxesSubplot:xlabel='center_distance'>"
            ]
          },
          "execution_count": 55,
          "metadata": {},
          "output_type": "execute_result"
        },
        {
          "data": {
            "image/png": "[encoded data removed]",
            "text/plain": [
              "<Figure size 1400x500 with 1 Axes>"
            ]
          },
          "metadata": {},
          "output_type": "display_data"
        }
      ],
      "source": [
        "spb_data = data.query ('locality_name == \"Санкт-Петербург\"').reset_index(drop=True)\n",
        "spb_data.pivot_table(index='center_distance', values='last_price').plot(grid=True, figsize=(14, 5))"
      ]
    },
    {
      "cell_type": "markdown",
      "metadata": {
        "id": "0FVeL9FXrrf2"
      },
      "source": [
        "Выводы по данной категории:"
      ]
    },
    {
      "cell_type": "markdown",
      "metadata": {
        "id": "CizC2F5Nrrf2"
      },
      "source": [
        "Подтверждается незначительное соответствие, чем больше площадь квартиры, тем меньше цена квадратного метра и квартиры в целом. Средняя площадь квартиры - 60м2.\n",
        "\n",
        "Цена квартир возрастает от 1 до 3 комнат, затем с увеличением кол-ва комнат от 4 - стоимость м2 снижается.\n",
        "Высота потолков является одним из основных факторов цены: высота от 2.7 до 3 м сильно влияет на цену, квартиры с высотой менее 2,7м стоят значительно ниже.\n",
        "\n",
        "Расстояние до центра напрямую влияет на стоимость квартиры, чем ближе к центру тем дороже. Средняя расстояние до центра - 13,7 км.\n",
        "\n",
        "Стоимость м2 постепенно расте до 7-8 этажа, после стоимость м2 снижается. Квартиры на первом и последнем этаже дешевле чем на других этажах. Также на первом этаже цена существенно ниже чем на последнем.\n",
        "\n",
        "Наибольшее значение цены м2 у объявлений, выставленных в середине недели, наименьшая - у объявлений выставленных в конце недели.\n",
        "\n",
        "Высокие цены у квартир, выставленных в апреле, августе и декабре, наименьшая - в мае\n",
        "\n",
        "Средняя цена растет с 2014 до 2017г"
      ]
    },
    {
      "cell_type": "markdown",
      "metadata": {
        "id": "BitlZZ2Jrrf3"
      },
      "source": [
        "**Общий вывод**"
      ]
    },
    {
      "cell_type": "markdown",
      "metadata": {
        "id": "G0F39yyZrrf3"
      },
      "source": [
        "Проведя исследовательскую работу по объявлениям о продаже квартир в Санкт-Петербурге и соседних населённых пунктах за несколько лет можно сделать следующие выводы:"
      ]
    },
    {
      "cell_type": "markdown",
      "metadata": {
        "id": "BDTx_VJjrrf3"
      },
      "source": [
        "1) Расстояние до центра напрямую влияет на стоимость квартиры, чем ближе к центру тем дороже. Средняя расстояние до центра - 13,7 км.\n",
        "2) Высота потолков является одним из самых сильным фактором цены: высота от 2.7 до 3.0 прямо влияет на цену кв. метра. При высоте потолков ниже 2.7м цена кв. метра значительно уменьшается.\n",
        "3) Первые и последние этажи во всех домах в среднем дешевле остальных этажей. Кроме того, цена квартиры на первом этаже существенно ниже чем на последнем.\n",
        "При прочих равных цена квартир возрастает от 1 до 3 комнат, затем с увеличением кол-ва комнат от 4 - стоимость кв. метра снижается.\n",
        "В целом можно выделить незначительное соответствие, чем больше площадь квартиры, тем меньше цена кв. метра и квартиры в целом. Средняя площадь квартиры - 60м2.\n",
        "Стоимость кв. метра постепенно растет до 7-8 этажа, после чего стоимость кв. метра снижается.\n",
        "Парки и водоемы поблизости незначительно увеличивают стоимость кв. метра.\n",
        "Самые высокие цены на квартиры, выставленных в апреле и августе, наименьшая - у объявлений выставленных в мае и июне.\n",
        "Наибольшая средняя цена квартир выставленных на продажу в начале недели (понедельник, вторниа), наименьшая - у объявлений выставленных в конце недели (суббота, воскресенье). Средняя цена кв. метра растет до 2014, снижается до 2017г, а затем постепенно увеличивается до 2019г.\n",
        "Обычно объявления размещаются на период до 3 месяцев, что можно считать достаточно быстрой продажей, но достаточно много объявлений \"висит\" более 7-8 месяцев. Среднее время продажи - 181 день.\n"
      ]
    }
  ],
  "metadata": {
    "ExecuteTimeLog": [
      {
        "duration": 113,
        "start_time": "2022-12-07T18:26:23.715Z"
      },
      {
        "duration": 573,
        "start_time": "2022-12-07T18:26:37.159Z"
      },
      {
        "duration": 136,
        "start_time": "2022-12-07T18:28:32.677Z"
      },
      {
        "duration": 101,
        "start_time": "2022-12-07T18:28:43.889Z"
      },
      {
        "duration": 161,
        "start_time": "2022-12-07T18:30:01.457Z"
      },
      {
        "duration": 2793,
        "start_time": "2022-12-07T18:30:17.419Z"
      },
      {
        "duration": 1701,
        "start_time": "2022-12-07T18:37:14.449Z"
      },
      {
        "duration": 2028,
        "start_time": "2022-12-07T18:37:21.568Z"
      },
      {
        "duration": 191,
        "start_time": "2022-12-07T18:37:31.085Z"
      },
      {
        "duration": 104,
        "start_time": "2022-12-07T18:38:43.126Z"
      },
      {
        "duration": 121,
        "start_time": "2022-12-07T18:38:55.613Z"
      },
      {
        "duration": 104,
        "start_time": "2022-12-07T18:39:31.573Z"
      },
      {
        "duration": 2136,
        "start_time": "2022-12-07T18:39:34.747Z"
      },
      {
        "duration": 3,
        "start_time": "2022-12-07T18:42:59.985Z"
      },
      {
        "duration": 112,
        "start_time": "2022-12-07T18:43:12.723Z"
      },
      {
        "duration": 125,
        "start_time": "2022-12-07T18:43:17.473Z"
      },
      {
        "duration": 31,
        "start_time": "2022-12-07T18:43:22.484Z"
      },
      {
        "duration": 23,
        "start_time": "2022-12-07T18:43:59.166Z"
      },
      {
        "duration": 83,
        "start_time": "2022-12-07T18:45:08.979Z"
      },
      {
        "duration": 1293,
        "start_time": "2022-12-07T18:46:01.565Z"
      },
      {
        "duration": 10,
        "start_time": "2022-12-07T18:46:18.557Z"
      },
      {
        "duration": 2409,
        "start_time": "2022-12-07T18:46:29.815Z"
      },
      {
        "duration": 12,
        "start_time": "2022-12-07T18:53:12.842Z"
      },
      {
        "duration": 23,
        "start_time": "2022-12-07T18:53:30.956Z"
      },
      {
        "duration": 30,
        "start_time": "2022-12-07T19:00:24.109Z"
      },
      {
        "duration": 10,
        "start_time": "2022-12-07T19:00:43.600Z"
      },
      {
        "duration": 26,
        "start_time": "2022-12-07T19:00:51.216Z"
      },
      {
        "duration": 9,
        "start_time": "2022-12-07T19:10:35.082Z"
      },
      {
        "duration": 41,
        "start_time": "2022-12-07T19:10:54.807Z"
      },
      {
        "duration": 7,
        "start_time": "2022-12-07T19:10:59.175Z"
      },
      {
        "duration": 44,
        "start_time": "2022-12-07T19:12:01.832Z"
      },
      {
        "duration": 38,
        "start_time": "2022-12-07T19:12:17.791Z"
      },
      {
        "duration": 4,
        "start_time": "2022-12-07T19:12:35.154Z"
      },
      {
        "duration": 9,
        "start_time": "2022-12-07T19:12:38.773Z"
      },
      {
        "duration": 44,
        "start_time": "2022-12-07T19:17:12.078Z"
      },
      {
        "duration": 39,
        "start_time": "2022-12-07T19:17:27.738Z"
      },
      {
        "duration": 85,
        "start_time": "2022-12-07T19:17:39.734Z"
      },
      {
        "duration": 75,
        "start_time": "2022-12-07T19:17:58.107Z"
      },
      {
        "duration": 13,
        "start_time": "2022-12-07T19:32:29.383Z"
      },
      {
        "duration": 48,
        "start_time": "2022-12-08T09:56:19.566Z"
      },
      {
        "duration": 821,
        "start_time": "2022-12-08T09:56:25.086Z"
      },
      {
        "duration": 151,
        "start_time": "2022-12-08T09:56:25.909Z"
      },
      {
        "duration": 31,
        "start_time": "2022-12-08T09:56:26.767Z"
      },
      {
        "duration": 15,
        "start_time": "2022-12-08T09:56:27.566Z"
      },
      {
        "duration": 77,
        "start_time": "2022-12-08T09:56:30.032Z"
      },
      {
        "duration": 2079,
        "start_time": "2022-12-08T09:56:30.138Z"
      },
      {
        "duration": 24,
        "start_time": "2022-12-08T09:56:32.219Z"
      },
      {
        "duration": 8,
        "start_time": "2022-12-08T09:56:33.167Z"
      },
      {
        "duration": 11,
        "start_time": "2022-12-08T09:56:35.570Z"
      },
      {
        "duration": 5,
        "start_time": "2022-12-08T09:56:57.956Z"
      },
      {
        "duration": 10,
        "start_time": "2022-12-08T09:57:02.317Z"
      },
      {
        "duration": 4,
        "start_time": "2022-12-08T10:07:23.154Z"
      },
      {
        "duration": 7,
        "start_time": "2022-12-08T10:07:38.423Z"
      },
      {
        "duration": 6,
        "start_time": "2022-12-08T10:09:54.408Z"
      },
      {
        "duration": 4,
        "start_time": "2022-12-08T10:10:37.356Z"
      },
      {
        "duration": 5,
        "start_time": "2022-12-08T10:10:58.081Z"
      },
      {
        "duration": 5,
        "start_time": "2022-12-08T10:11:08.215Z"
      },
      {
        "duration": 4,
        "start_time": "2022-12-08T10:11:18.470Z"
      },
      {
        "duration": 5,
        "start_time": "2022-12-08T10:11:44.363Z"
      },
      {
        "duration": 38,
        "start_time": "2022-12-08T10:12:10.508Z"
      },
      {
        "duration": 5,
        "start_time": "2022-12-08T10:12:15.880Z"
      },
      {
        "duration": 28,
        "start_time": "2022-12-08T10:21:57.106Z"
      },
      {
        "duration": 6,
        "start_time": "2022-12-08T10:22:03.608Z"
      },
      {
        "duration": 7,
        "start_time": "2022-12-08T10:22:20.271Z"
      },
      {
        "duration": 4,
        "start_time": "2022-12-08T10:22:53.628Z"
      },
      {
        "duration": 7,
        "start_time": "2022-12-08T10:23:22.263Z"
      },
      {
        "duration": 8,
        "start_time": "2022-12-08T10:23:38.101Z"
      },
      {
        "duration": 11,
        "start_time": "2022-12-08T10:23:52.078Z"
      },
      {
        "duration": 20,
        "start_time": "2022-12-08T10:24:49.247Z"
      },
      {
        "duration": 20,
        "start_time": "2022-12-08T10:25:13.378Z"
      },
      {
        "duration": 19,
        "start_time": "2022-12-08T10:25:18.826Z"
      },
      {
        "duration": 14,
        "start_time": "2022-12-08T10:27:01.927Z"
      },
      {
        "duration": 11,
        "start_time": "2022-12-08T10:27:45.465Z"
      },
      {
        "duration": 5,
        "start_time": "2022-12-08T10:27:54.029Z"
      },
      {
        "duration": 23,
        "start_time": "2022-12-08T10:28:07.767Z"
      },
      {
        "duration": 12,
        "start_time": "2022-12-08T10:28:10.201Z"
      },
      {
        "duration": 10,
        "start_time": "2022-12-08T10:28:17.183Z"
      },
      {
        "duration": 860,
        "start_time": "2022-12-18T16:04:25.592Z"
      },
      {
        "duration": 356,
        "start_time": "2022-12-18T16:04:26.455Z"
      },
      {
        "duration": 34,
        "start_time": "2022-12-18T16:04:27.112Z"
      },
      {
        "duration": 16,
        "start_time": "2022-12-18T16:04:28.036Z"
      },
      {
        "duration": 83,
        "start_time": "2022-12-18T16:04:29.284Z"
      },
      {
        "duration": 2131,
        "start_time": "2022-12-18T16:04:30.880Z"
      },
      {
        "duration": 25,
        "start_time": "2022-12-18T16:04:38.473Z"
      },
      {
        "duration": 8,
        "start_time": "2022-12-18T16:05:33.016Z"
      },
      {
        "duration": 6,
        "start_time": "2022-12-18T16:08:21.912Z"
      },
      {
        "duration": 8,
        "start_time": "2022-12-18T16:08:53.232Z"
      },
      {
        "duration": 48,
        "start_time": "2022-12-18T16:09:33.593Z"
      },
      {
        "duration": 33,
        "start_time": "2022-12-18T16:09:56.545Z"
      },
      {
        "duration": 21,
        "start_time": "2022-12-18T16:10:16.313Z"
      },
      {
        "duration": 5,
        "start_time": "2022-12-18T16:10:38.111Z"
      },
      {
        "duration": 6,
        "start_time": "2022-12-18T16:11:13.868Z"
      },
      {
        "duration": 8,
        "start_time": "2022-12-18T16:11:31.512Z"
      },
      {
        "duration": 43,
        "start_time": "2022-12-18T16:11:50.896Z"
      },
      {
        "duration": 27,
        "start_time": "2022-12-18T16:12:10.291Z"
      },
      {
        "duration": 43,
        "start_time": "2022-12-18T16:16:30.382Z"
      },
      {
        "duration": 39,
        "start_time": "2022-12-18T16:16:42.720Z"
      },
      {
        "duration": 45,
        "start_time": "2022-12-18T19:40:32.646Z"
      },
      {
        "duration": 761,
        "start_time": "2022-12-18T19:40:39.717Z"
      },
      {
        "duration": 159,
        "start_time": "2022-12-18T19:40:40.480Z"
      },
      {
        "duration": 28,
        "start_time": "2022-12-18T19:40:40.641Z"
      },
      {
        "duration": 14,
        "start_time": "2022-12-18T19:40:40.671Z"
      },
      {
        "duration": 68,
        "start_time": "2022-12-18T19:40:40.686Z"
      },
      {
        "duration": 1925,
        "start_time": "2022-12-18T19:40:40.756Z"
      },
      {
        "duration": 22,
        "start_time": "2022-12-18T19:40:42.683Z"
      },
      {
        "duration": 7,
        "start_time": "2022-12-18T19:40:42.706Z"
      },
      {
        "duration": 7,
        "start_time": "2022-12-18T19:40:42.714Z"
      },
      {
        "duration": 41,
        "start_time": "2022-12-18T19:40:42.723Z"
      },
      {
        "duration": 23,
        "start_time": "2022-12-18T19:40:42.766Z"
      },
      {
        "duration": 18,
        "start_time": "2022-12-18T19:40:42.790Z"
      },
      {
        "duration": 16,
        "start_time": "2022-12-18T19:40:42.810Z"
      },
      {
        "duration": 9,
        "start_time": "2022-12-18T19:40:42.828Z"
      },
      {
        "duration": 9,
        "start_time": "2022-12-18T19:40:42.839Z"
      },
      {
        "duration": 23,
        "start_time": "2022-12-18T19:40:45.717Z"
      },
      {
        "duration": 4,
        "start_time": "2022-12-18T19:41:06.925Z"
      },
      {
        "duration": 38,
        "start_time": "2022-12-18T19:42:15.250Z"
      },
      {
        "duration": 3,
        "start_time": "2022-12-18T19:42:27.425Z"
      },
      {
        "duration": 35,
        "start_time": "2022-12-18T19:44:38.556Z"
      },
      {
        "duration": 19,
        "start_time": "2022-12-18T19:45:26.162Z"
      },
      {
        "duration": 7,
        "start_time": "2022-12-18T19:45:29.993Z"
      },
      {
        "duration": 29,
        "start_time": "2022-12-18T19:45:35.576Z"
      },
      {
        "duration": 7,
        "start_time": "2022-12-18T19:45:44.781Z"
      },
      {
        "duration": 4,
        "start_time": "2022-12-18T19:46:23.874Z"
      },
      {
        "duration": 26,
        "start_time": "2022-12-18T19:48:32.022Z"
      },
      {
        "duration": 3,
        "start_time": "2022-12-18T19:50:41.379Z"
      },
      {
        "duration": 89,
        "start_time": "2022-12-18T19:50:41.834Z"
      },
      {
        "duration": 26,
        "start_time": "2022-12-18T19:50:41.997Z"
      },
      {
        "duration": 21,
        "start_time": "2022-12-18T19:50:42.195Z"
      },
      {
        "duration": 69,
        "start_time": "2022-12-18T19:50:42.344Z"
      },
      {
        "duration": 1836,
        "start_time": "2022-12-18T19:50:42.582Z"
      },
      {
        "duration": 24,
        "start_time": "2022-12-18T19:50:44.420Z"
      },
      {
        "duration": 7,
        "start_time": "2022-12-18T19:50:44.446Z"
      },
      {
        "duration": 7,
        "start_time": "2022-12-18T19:50:44.454Z"
      },
      {
        "duration": 64,
        "start_time": "2022-12-18T19:50:44.464Z"
      },
      {
        "duration": 25,
        "start_time": "2022-12-18T19:50:44.545Z"
      },
      {
        "duration": 20,
        "start_time": "2022-12-18T19:50:46.314Z"
      },
      {
        "duration": 4,
        "start_time": "2022-12-18T19:50:46.774Z"
      },
      {
        "duration": 5,
        "start_time": "2022-12-18T19:50:47.414Z"
      },
      {
        "duration": 11,
        "start_time": "2022-12-18T19:50:47.814Z"
      },
      {
        "duration": 25,
        "start_time": "2022-12-18T19:50:48.941Z"
      },
      {
        "duration": 5,
        "start_time": "2022-12-18T19:50:52.722Z"
      },
      {
        "duration": 24,
        "start_time": "2022-12-18T19:50:53.601Z"
      },
      {
        "duration": 28,
        "start_time": "2022-12-18T19:50:54.645Z"
      },
      {
        "duration": 5,
        "start_time": "2022-12-18T19:52:58.510Z"
      },
      {
        "duration": 23,
        "start_time": "2022-12-18T19:53:12.874Z"
      },
      {
        "duration": 34,
        "start_time": "2022-12-18T19:54:13.266Z"
      },
      {
        "duration": 24,
        "start_time": "2022-12-18T19:54:35.374Z"
      },
      {
        "duration": 9,
        "start_time": "2022-12-18T19:54:58.042Z"
      },
      {
        "duration": 24,
        "start_time": "2022-12-18T19:55:01.503Z"
      },
      {
        "duration": 24,
        "start_time": "2022-12-18T19:55:05.615Z"
      },
      {
        "duration": 5,
        "start_time": "2022-12-18T19:56:16.141Z"
      },
      {
        "duration": 7,
        "start_time": "2022-12-18T19:56:20.322Z"
      },
      {
        "duration": 2,
        "start_time": "2022-12-18T19:56:33.222Z"
      },
      {
        "duration": 239,
        "start_time": "2022-12-18T19:57:29.794Z"
      },
      {
        "duration": 262,
        "start_time": "2022-12-18T20:00:46.767Z"
      },
      {
        "duration": 249,
        "start_time": "2022-12-18T20:02:38.920Z"
      },
      {
        "duration": 326,
        "start_time": "2022-12-18T20:09:22.040Z"
      },
      {
        "duration": 229,
        "start_time": "2022-12-18T20:10:06.342Z"
      },
      {
        "duration": 239,
        "start_time": "2022-12-18T20:11:27.471Z"
      },
      {
        "duration": 51,
        "start_time": "2022-12-20T08:03:42.673Z"
      },
      {
        "duration": 777,
        "start_time": "2022-12-20T08:03:48.332Z"
      },
      {
        "duration": 156,
        "start_time": "2022-12-20T08:03:49.111Z"
      },
      {
        "duration": 39,
        "start_time": "2022-12-20T08:03:49.268Z"
      },
      {
        "duration": 14,
        "start_time": "2022-12-20T08:03:49.309Z"
      },
      {
        "duration": 82,
        "start_time": "2022-12-20T08:03:49.324Z"
      },
      {
        "duration": 1894,
        "start_time": "2022-12-20T08:03:49.408Z"
      },
      {
        "duration": 24,
        "start_time": "2022-12-20T08:03:51.304Z"
      },
      {
        "duration": 7,
        "start_time": "2022-12-20T08:03:51.329Z"
      },
      {
        "duration": 8,
        "start_time": "2022-12-20T08:03:51.337Z"
      },
      {
        "duration": 59,
        "start_time": "2022-12-20T08:03:51.347Z"
      },
      {
        "duration": 22,
        "start_time": "2022-12-20T08:03:51.408Z"
      },
      {
        "duration": 18,
        "start_time": "2022-12-20T08:03:51.432Z"
      },
      {
        "duration": 4,
        "start_time": "2022-12-20T08:03:51.680Z"
      },
      {
        "duration": 5,
        "start_time": "2022-12-20T08:03:52.020Z"
      },
      {
        "duration": 9,
        "start_time": "2022-12-20T08:03:52.332Z"
      },
      {
        "duration": 3,
        "start_time": "2022-12-20T08:03:52.480Z"
      },
      {
        "duration": 4,
        "start_time": "2022-12-20T08:03:53.071Z"
      },
      {
        "duration": 23,
        "start_time": "2022-12-20T08:03:53.384Z"
      },
      {
        "duration": 7,
        "start_time": "2022-12-20T08:03:53.700Z"
      },
      {
        "duration": 4,
        "start_time": "2022-12-20T08:03:54.002Z"
      },
      {
        "duration": 212,
        "start_time": "2022-12-20T08:03:54.340Z"
      },
      {
        "duration": 233,
        "start_time": "2022-12-20T08:03:54.662Z"
      },
      {
        "duration": 240,
        "start_time": "2022-12-20T08:03:54.974Z"
      },
      {
        "duration": 325,
        "start_time": "2022-12-20T08:03:55.301Z"
      },
      {
        "duration": 247,
        "start_time": "2022-12-20T08:03:55.649Z"
      },
      {
        "duration": 283,
        "start_time": "2022-12-20T08:05:24.586Z"
      },
      {
        "duration": 237,
        "start_time": "2022-12-20T08:06:06.578Z"
      },
      {
        "duration": 224,
        "start_time": "2022-12-20T08:08:17.200Z"
      },
      {
        "duration": 351,
        "start_time": "2022-12-20T08:09:14.879Z"
      },
      {
        "duration": 232,
        "start_time": "2022-12-20T08:11:38.112Z"
      },
      {
        "duration": 254,
        "start_time": "2022-12-20T08:12:06.112Z"
      },
      {
        "duration": 248,
        "start_time": "2022-12-20T08:12:47.358Z"
      },
      {
        "duration": 424,
        "start_time": "2022-12-20T08:13:48.397Z"
      },
      {
        "duration": 399,
        "start_time": "2022-12-20T08:14:12.598Z"
      },
      {
        "duration": 51,
        "start_time": "2022-12-20T08:31:33.288Z"
      },
      {
        "duration": 152,
        "start_time": "2022-12-20T08:35:04.377Z"
      },
      {
        "duration": 126,
        "start_time": "2022-12-20T08:41:26.799Z"
      },
      {
        "duration": 160,
        "start_time": "2022-12-20T08:41:52.751Z"
      },
      {
        "duration": 121,
        "start_time": "2022-12-20T08:44:32.036Z"
      },
      {
        "duration": 47,
        "start_time": "2022-12-26T10:07:52.659Z"
      },
      {
        "duration": 732,
        "start_time": "2022-12-26T10:07:58.150Z"
      },
      {
        "duration": 642,
        "start_time": "2022-12-26T10:07:58.884Z"
      },
      {
        "duration": 31,
        "start_time": "2022-12-26T10:07:59.527Z"
      },
      {
        "duration": 15,
        "start_time": "2022-12-26T10:07:59.560Z"
      },
      {
        "duration": 80,
        "start_time": "2022-12-26T10:07:59.577Z"
      },
      {
        "duration": 2111,
        "start_time": "2022-12-26T10:07:59.659Z"
      },
      {
        "duration": 24,
        "start_time": "2022-12-26T10:08:01.772Z"
      },
      {
        "duration": 40,
        "start_time": "2022-12-26T10:08:01.798Z"
      },
      {
        "duration": 8,
        "start_time": "2022-12-26T10:08:01.840Z"
      },
      {
        "duration": 68,
        "start_time": "2022-12-26T10:08:01.850Z"
      },
      {
        "duration": 26,
        "start_time": "2022-12-26T10:08:01.920Z"
      },
      {
        "duration": 26,
        "start_time": "2022-12-26T10:08:01.949Z"
      },
      {
        "duration": 45,
        "start_time": "2022-12-26T10:08:01.976Z"
      },
      {
        "duration": 6,
        "start_time": "2022-12-26T10:08:02.119Z"
      },
      {
        "duration": 9,
        "start_time": "2022-12-26T10:08:02.455Z"
      },
      {
        "duration": 3,
        "start_time": "2022-12-26T10:08:02.606Z"
      },
      {
        "duration": 4,
        "start_time": "2022-12-26T10:08:03.105Z"
      },
      {
        "duration": 18,
        "start_time": "2022-12-26T10:08:03.454Z"
      },
      {
        "duration": 7,
        "start_time": "2022-12-26T10:08:03.789Z"
      },
      {
        "duration": 4,
        "start_time": "2022-12-26T10:08:04.122Z"
      },
      {
        "duration": 261,
        "start_time": "2022-12-26T10:08:04.449Z"
      },
      {
        "duration": 280,
        "start_time": "2022-12-26T10:08:04.797Z"
      },
      {
        "duration": 268,
        "start_time": "2022-12-26T10:08:05.120Z"
      },
      {
        "duration": 367,
        "start_time": "2022-12-26T10:08:05.462Z"
      },
      {
        "duration": 357,
        "start_time": "2022-12-26T10:08:05.831Z"
      },
      {
        "duration": 307,
        "start_time": "2022-12-26T10:08:06.197Z"
      },
      {
        "duration": 293,
        "start_time": "2022-12-26T10:08:06.506Z"
      },
      {
        "duration": 278,
        "start_time": "2022-12-26T10:08:06.802Z"
      },
      {
        "duration": 366,
        "start_time": "2022-12-26T10:08:07.081Z"
      },
      {
        "duration": 259,
        "start_time": "2022-12-26T10:08:07.449Z"
      },
      {
        "duration": 266,
        "start_time": "2022-12-26T10:08:07.710Z"
      },
      {
        "duration": 301,
        "start_time": "2022-12-26T10:08:07.979Z"
      },
      {
        "duration": 56,
        "start_time": "2022-12-26T10:08:08.282Z"
      },
      {
        "duration": 164,
        "start_time": "2022-12-26T10:08:08.340Z"
      },
      {
        "duration": 160,
        "start_time": "2022-12-26T10:08:08.506Z"
      },
      {
        "duration": 139,
        "start_time": "2022-12-26T10:08:08.668Z"
      },
      {
        "duration": 7,
        "start_time": "2022-12-26T10:08:15.640Z"
      },
      {
        "duration": 188,
        "start_time": "2022-12-26T10:08:51.101Z"
      },
      {
        "duration": 8,
        "start_time": "2022-12-26T10:09:24.963Z"
      },
      {
        "duration": 5,
        "start_time": "2022-12-26T10:09:28.225Z"
      },
      {
        "duration": 32,
        "start_time": "2022-12-26T10:09:33.874Z"
      },
      {
        "duration": 736,
        "start_time": "2022-12-26T10:09:42.005Z"
      },
      {
        "duration": 1385,
        "start_time": "2022-12-26T10:10:16.223Z"
      },
      {
        "duration": 61,
        "start_time": "2022-12-26T10:10:45.642Z"
      },
      {
        "duration": 46,
        "start_time": "2022-12-26T14:44:41.825Z"
      },
      {
        "duration": 741,
        "start_time": "2022-12-26T14:44:50.540Z"
      },
      {
        "duration": 136,
        "start_time": "2022-12-26T14:44:51.283Z"
      },
      {
        "duration": 29,
        "start_time": "2022-12-26T14:44:51.421Z"
      },
      {
        "duration": 14,
        "start_time": "2022-12-26T14:44:51.452Z"
      },
      {
        "duration": 76,
        "start_time": "2022-12-26T14:44:51.468Z"
      },
      {
        "duration": 1889,
        "start_time": "2022-12-26T14:44:51.545Z"
      },
      {
        "duration": 25,
        "start_time": "2022-12-26T14:44:53.436Z"
      },
      {
        "duration": 7,
        "start_time": "2022-12-26T14:44:53.463Z"
      },
      {
        "duration": 16,
        "start_time": "2022-12-26T14:44:53.471Z"
      },
      {
        "duration": 42,
        "start_time": "2022-12-26T14:44:53.633Z"
      },
      {
        "duration": 24,
        "start_time": "2022-12-26T14:44:53.677Z"
      },
      {
        "duration": 19,
        "start_time": "2022-12-26T14:44:53.925Z"
      },
      {
        "duration": 5,
        "start_time": "2022-12-26T14:44:54.080Z"
      },
      {
        "duration": 6,
        "start_time": "2022-12-26T14:44:54.369Z"
      },
      {
        "duration": 8,
        "start_time": "2022-12-26T14:44:54.505Z"
      },
      {
        "duration": 3,
        "start_time": "2022-12-26T14:44:54.679Z"
      },
      {
        "duration": 5,
        "start_time": "2022-12-26T14:44:55.018Z"
      },
      {
        "duration": 17,
        "start_time": "2022-12-26T14:44:55.161Z"
      },
      {
        "duration": 7,
        "start_time": "2022-12-26T14:44:55.331Z"
      },
      {
        "duration": 3,
        "start_time": "2022-12-26T14:44:55.918Z"
      },
      {
        "duration": 223,
        "start_time": "2022-12-26T14:44:56.645Z"
      },
      {
        "duration": 243,
        "start_time": "2022-12-26T14:44:56.889Z"
      },
      {
        "duration": 235,
        "start_time": "2022-12-26T14:44:57.174Z"
      },
      {
        "duration": 354,
        "start_time": "2022-12-26T14:44:58.157Z"
      },
      {
        "duration": 236,
        "start_time": "2022-12-26T14:44:58.690Z"
      },
      {
        "duration": 265,
        "start_time": "2022-12-26T14:44:58.927Z"
      },
      {
        "duration": 249,
        "start_time": "2022-12-26T14:44:59.193Z"
      },
      {
        "duration": 268,
        "start_time": "2022-12-26T14:44:59.444Z"
      },
      {
        "duration": 344,
        "start_time": "2022-12-26T14:44:59.714Z"
      },
      {
        "duration": 270,
        "start_time": "2022-12-26T14:45:00.061Z"
      },
      {
        "duration": 262,
        "start_time": "2022-12-26T14:45:00.332Z"
      },
      {
        "duration": 249,
        "start_time": "2022-12-26T14:45:00.595Z"
      },
      {
        "duration": 52,
        "start_time": "2022-12-26T14:45:02.023Z"
      },
      {
        "duration": 142,
        "start_time": "2022-12-26T14:45:02.221Z"
      },
      {
        "duration": 153,
        "start_time": "2022-12-26T14:45:02.818Z"
      },
      {
        "duration": 146,
        "start_time": "2022-12-26T14:45:03.029Z"
      },
      {
        "duration": 113,
        "start_time": "2022-12-26T14:45:52.285Z"
      },
      {
        "duration": 73,
        "start_time": "2022-12-26T14:49:36.253Z"
      },
      {
        "duration": 47,
        "start_time": "2022-12-26T19:17:08.353Z"
      },
      {
        "duration": 771,
        "start_time": "2022-12-26T19:17:27.636Z"
      },
      {
        "duration": 315,
        "start_time": "2022-12-26T19:17:28.409Z"
      },
      {
        "duration": 30,
        "start_time": "2022-12-26T19:17:28.725Z"
      },
      {
        "duration": 17,
        "start_time": "2022-12-26T19:17:28.757Z"
      },
      {
        "duration": 100,
        "start_time": "2022-12-26T19:17:28.776Z"
      },
      {
        "duration": 1926,
        "start_time": "2022-12-26T19:17:28.878Z"
      },
      {
        "duration": 24,
        "start_time": "2022-12-26T19:17:30.806Z"
      },
      {
        "duration": 7,
        "start_time": "2022-12-26T19:17:30.832Z"
      },
      {
        "duration": 22,
        "start_time": "2022-12-26T19:17:30.841Z"
      },
      {
        "duration": 43,
        "start_time": "2022-12-26T19:17:31.637Z"
      },
      {
        "duration": 26,
        "start_time": "2022-12-26T19:17:31.952Z"
      },
      {
        "duration": 19,
        "start_time": "2022-12-26T19:17:32.474Z"
      },
      {
        "duration": 5,
        "start_time": "2022-12-26T19:17:32.998Z"
      },
      {
        "duration": 8,
        "start_time": "2022-12-26T19:17:33.342Z"
      },
      {
        "duration": 8,
        "start_time": "2022-12-26T19:17:34.002Z"
      },
      {
        "duration": 41,
        "start_time": "2022-12-26T19:17:34.536Z"
      },
      {
        "duration": 716,
        "start_time": "2022-12-26T19:18:26.262Z"
      },
      {
        "duration": 956,
        "start_time": "2022-12-26T19:19:37.396Z"
      },
      {
        "duration": 4,
        "start_time": "2022-12-26T19:21:36.892Z"
      },
      {
        "duration": 6,
        "start_time": "2022-12-26T19:22:01.173Z"
      },
      {
        "duration": 6,
        "start_time": "2022-12-26T19:22:23.182Z"
      },
      {
        "duration": 7,
        "start_time": "2022-12-26T19:22:34.933Z"
      },
      {
        "duration": 11,
        "start_time": "2022-12-26T19:23:11.463Z"
      },
      {
        "duration": 23,
        "start_time": "2022-12-26T19:24:06.440Z"
      },
      {
        "duration": 38,
        "start_time": "2022-12-26T19:30:00.414Z"
      },
      {
        "duration": 56,
        "start_time": "2022-12-26T19:31:11.180Z"
      },
      {
        "duration": 102,
        "start_time": "2022-12-26T19:31:33.674Z"
      },
      {
        "duration": 14,
        "start_time": "2022-12-26T19:33:03.129Z"
      },
      {
        "duration": 20,
        "start_time": "2022-12-26T19:33:35.090Z"
      },
      {
        "duration": 38,
        "start_time": "2022-12-26T19:35:15.161Z"
      },
      {
        "duration": 46,
        "start_time": "2022-12-26T19:35:27.001Z"
      },
      {
        "duration": 83,
        "start_time": "2022-12-26T19:35:33.422Z"
      },
      {
        "duration": 13,
        "start_time": "2022-12-26T19:35:50.602Z"
      },
      {
        "duration": 720,
        "start_time": "2022-12-30T10:08:08.856Z"
      },
      {
        "duration": 294,
        "start_time": "2022-12-30T10:08:09.578Z"
      },
      {
        "duration": 28,
        "start_time": "2022-12-30T10:08:09.874Z"
      },
      {
        "duration": 17,
        "start_time": "2022-12-30T10:08:09.905Z"
      },
      {
        "duration": 66,
        "start_time": "2022-12-30T10:08:09.924Z"
      },
      {
        "duration": 1852,
        "start_time": "2022-12-30T10:08:09.992Z"
      },
      {
        "duration": 23,
        "start_time": "2022-12-30T10:08:11.845Z"
      },
      {
        "duration": 7,
        "start_time": "2022-12-30T10:08:11.870Z"
      },
      {
        "duration": 13,
        "start_time": "2022-12-30T10:08:11.878Z"
      },
      {
        "duration": 40,
        "start_time": "2022-12-30T10:08:11.893Z"
      },
      {
        "duration": 22,
        "start_time": "2022-12-30T10:08:11.935Z"
      },
      {
        "duration": 19,
        "start_time": "2022-12-30T10:08:12.754Z"
      },
      {
        "duration": 5,
        "start_time": "2022-12-30T10:08:12.878Z"
      },
      {
        "duration": 6,
        "start_time": "2022-12-30T10:08:13.054Z"
      },
      {
        "duration": 8,
        "start_time": "2022-12-30T10:08:13.314Z"
      },
      {
        "duration": 6,
        "start_time": "2022-12-30T10:08:13.462Z"
      },
      {
        "duration": 101,
        "start_time": "2022-12-30T10:08:13.551Z"
      },
      {
        "duration": 4,
        "start_time": "2022-12-30T10:08:14.163Z"
      },
      {
        "duration": 16,
        "start_time": "2022-12-30T10:08:14.305Z"
      },
      {
        "duration": 8,
        "start_time": "2022-12-30T10:08:14.473Z"
      },
      {
        "duration": 4,
        "start_time": "2022-12-30T10:08:15.002Z"
      },
      {
        "duration": 228,
        "start_time": "2022-12-30T10:08:15.740Z"
      },
      {
        "duration": 253,
        "start_time": "2022-12-30T10:08:15.973Z"
      },
      {
        "duration": 216,
        "start_time": "2022-12-30T10:08:16.248Z"
      },
      {
        "duration": 343,
        "start_time": "2022-12-30T10:08:16.511Z"
      },
      {
        "duration": 254,
        "start_time": "2022-12-30T10:08:16.856Z"
      },
      {
        "duration": 301,
        "start_time": "2022-12-30T10:08:17.120Z"
      },
      {
        "duration": 240,
        "start_time": "2022-12-30T10:08:17.423Z"
      },
      {
        "duration": 242,
        "start_time": "2022-12-30T10:08:17.664Z"
      },
      {
        "duration": 335,
        "start_time": "2022-12-30T10:08:17.908Z"
      },
      {
        "duration": 229,
        "start_time": "2022-12-30T10:08:18.244Z"
      },
      {
        "duration": 266,
        "start_time": "2022-12-30T10:08:18.475Z"
      },
      {
        "duration": 265,
        "start_time": "2022-12-30T10:08:18.743Z"
      },
      {
        "duration": 50,
        "start_time": "2022-12-30T10:08:19.009Z"
      },
      {
        "duration": 43,
        "start_time": "2022-12-30T10:08:19.060Z"
      },
      {
        "duration": 160,
        "start_time": "2022-12-30T10:08:19.121Z"
      },
      {
        "duration": 162,
        "start_time": "2022-12-30T10:08:19.283Z"
      },
      {
        "duration": 134,
        "start_time": "2022-12-30T10:08:19.446Z"
      },
      {
        "duration": 8,
        "start_time": "2022-12-30T10:08:19.685Z"
      },
      {
        "duration": 167,
        "start_time": "2022-12-30T10:08:19.865Z"
      },
      {
        "duration": 6,
        "start_time": "2022-12-30T10:08:20.937Z"
      },
      {
        "duration": 29,
        "start_time": "2022-12-30T10:08:21.152Z"
      },
      {
        "duration": 679,
        "start_time": "2022-12-30T10:08:21.279Z"
      },
      {
        "duration": 1235,
        "start_time": "2022-12-30T10:08:27.456Z"
      },
      {
        "duration": 1145,
        "start_time": "2022-12-30T10:08:33.764Z"
      },
      {
        "duration": 3,
        "start_time": "2022-12-30T10:20:19.753Z"
      },
      {
        "duration": 91,
        "start_time": "2022-12-30T10:20:20.301Z"
      },
      {
        "duration": 28,
        "start_time": "2022-12-30T10:20:20.394Z"
      },
      {
        "duration": 13,
        "start_time": "2022-12-30T10:20:20.451Z"
      },
      {
        "duration": 76,
        "start_time": "2022-12-30T10:20:20.533Z"
      },
      {
        "duration": 1902,
        "start_time": "2022-12-30T10:20:20.619Z"
      },
      {
        "duration": 20,
        "start_time": "2022-12-30T10:20:22.523Z"
      },
      {
        "duration": 6,
        "start_time": "2022-12-30T10:20:22.545Z"
      },
      {
        "duration": 7,
        "start_time": "2022-12-30T10:20:22.553Z"
      },
      {
        "duration": 69,
        "start_time": "2022-12-30T10:20:22.562Z"
      },
      {
        "duration": 24,
        "start_time": "2022-12-30T10:20:22.633Z"
      },
      {
        "duration": 20,
        "start_time": "2022-12-30T10:20:22.659Z"
      },
      {
        "duration": 4,
        "start_time": "2022-12-30T10:20:22.681Z"
      },
      {
        "duration": 10,
        "start_time": "2022-12-30T10:20:22.686Z"
      },
      {
        "duration": 28,
        "start_time": "2022-12-30T10:20:22.698Z"
      },
      {
        "duration": 7,
        "start_time": "2022-12-30T10:20:22.776Z"
      },
      {
        "duration": 110,
        "start_time": "2022-12-30T10:20:22.852Z"
      },
      {
        "duration": 6,
        "start_time": "2022-12-30T10:20:23.436Z"
      },
      {
        "duration": 16,
        "start_time": "2022-12-30T10:20:23.596Z"
      },
      {
        "duration": 8,
        "start_time": "2022-12-30T10:20:23.789Z"
      },
      {
        "duration": 4,
        "start_time": "2022-12-30T10:20:23.940Z"
      },
      {
        "duration": 227,
        "start_time": "2022-12-30T10:20:24.197Z"
      },
      {
        "duration": 264,
        "start_time": "2022-12-30T10:20:24.428Z"
      },
      {
        "duration": 260,
        "start_time": "2022-12-30T10:20:24.694Z"
      },
      {
        "duration": 439,
        "start_time": "2022-12-30T10:20:24.957Z"
      },
      {
        "duration": 297,
        "start_time": "2022-12-30T10:20:25.399Z"
      },
      {
        "duration": 276,
        "start_time": "2022-12-30T10:20:25.698Z"
      },
      {
        "duration": 255,
        "start_time": "2022-12-30T10:20:25.976Z"
      },
      {
        "duration": 279,
        "start_time": "2022-12-30T10:20:26.234Z"
      },
      {
        "duration": 377,
        "start_time": "2022-12-30T10:20:26.514Z"
      },
      {
        "duration": 250,
        "start_time": "2022-12-30T10:20:26.893Z"
      },
      {
        "duration": 245,
        "start_time": "2022-12-30T10:20:27.144Z"
      },
      {
        "duration": 275,
        "start_time": "2022-12-30T10:20:27.392Z"
      },
      {
        "duration": 37,
        "start_time": "2022-12-30T10:20:27.669Z"
      },
      {
        "duration": 57,
        "start_time": "2022-12-30T10:20:27.707Z"
      },
      {
        "duration": 159,
        "start_time": "2022-12-30T10:20:27.766Z"
      },
      {
        "duration": 160,
        "start_time": "2022-12-30T10:20:27.927Z"
      },
      {
        "duration": 156,
        "start_time": "2022-12-30T10:20:28.089Z"
      },
      {
        "duration": 8,
        "start_time": "2022-12-30T10:20:28.246Z"
      },
      {
        "duration": 188,
        "start_time": "2022-12-30T10:20:28.256Z"
      },
      {
        "duration": 7,
        "start_time": "2022-12-30T10:20:28.446Z"
      },
      {
        "duration": 43,
        "start_time": "2022-12-30T10:20:28.455Z"
      },
      {
        "duration": 733,
        "start_time": "2022-12-30T10:20:28.500Z"
      },
      {
        "duration": 1198,
        "start_time": "2022-12-30T10:20:29.234Z"
      },
      {
        "duration": 74,
        "start_time": "2022-12-30T10:20:53.062Z"
      },
      {
        "duration": 5,
        "start_time": "2022-12-30T10:33:04.185Z"
      },
      {
        "duration": 13,
        "start_time": "2022-12-30T10:33:17.525Z"
      },
      {
        "duration": 24,
        "start_time": "2022-12-30T10:36:42.428Z"
      },
      {
        "duration": 255,
        "start_time": "2022-12-30T10:37:44.762Z"
      },
      {
        "duration": 134,
        "start_time": "2022-12-30T10:38:10.980Z"
      },
      {
        "duration": 137,
        "start_time": "2022-12-30T10:38:32.334Z"
      },
      {
        "duration": 133,
        "start_time": "2022-12-30T10:38:45.925Z"
      },
      {
        "duration": 41,
        "start_time": "2022-12-30T10:39:10.047Z"
      },
      {
        "duration": 165,
        "start_time": "2022-12-30T10:44:08.398Z"
      },
      {
        "duration": 6,
        "start_time": "2022-12-30T10:44:20.857Z"
      },
      {
        "duration": 6,
        "start_time": "2022-12-30T10:44:24.137Z"
      },
      {
        "duration": 7,
        "start_time": "2022-12-30T10:44:32.958Z"
      },
      {
        "duration": 3,
        "start_time": "2022-12-30T10:56:43.689Z"
      },
      {
        "duration": 83,
        "start_time": "2022-12-30T10:56:44.189Z"
      },
      {
        "duration": 25,
        "start_time": "2022-12-30T10:56:44.274Z"
      },
      {
        "duration": 14,
        "start_time": "2022-12-30T10:56:44.346Z"
      },
      {
        "duration": 69,
        "start_time": "2022-12-30T10:56:44.412Z"
      },
      {
        "duration": 1972,
        "start_time": "2022-12-30T10:56:44.488Z"
      },
      {
        "duration": 21,
        "start_time": "2022-12-30T10:56:46.462Z"
      },
      {
        "duration": 7,
        "start_time": "2022-12-30T10:56:46.484Z"
      },
      {
        "duration": 13,
        "start_time": "2022-12-30T10:56:46.492Z"
      },
      {
        "duration": 41,
        "start_time": "2022-12-30T10:56:48.177Z"
      },
      {
        "duration": 24,
        "start_time": "2022-12-30T10:56:48.337Z"
      },
      {
        "duration": 18,
        "start_time": "2022-12-30T10:56:48.606Z"
      },
      {
        "duration": 4,
        "start_time": "2022-12-30T10:56:48.756Z"
      },
      {
        "duration": 5,
        "start_time": "2022-12-30T10:56:48.917Z"
      },
      {
        "duration": 10,
        "start_time": "2022-12-30T10:56:49.177Z"
      },
      {
        "duration": 6,
        "start_time": "2022-12-30T10:56:49.337Z"
      },
      {
        "duration": 13,
        "start_time": "2022-12-30T10:56:49.438Z"
      },
      {
        "duration": 6,
        "start_time": "2022-12-30T10:56:49.488Z"
      },
      {
        "duration": 108,
        "start_time": "2022-12-30T10:56:49.597Z"
      },
      {
        "duration": 4,
        "start_time": "2022-12-30T10:56:51.069Z"
      },
      {
        "duration": 16,
        "start_time": "2022-12-30T10:56:51.457Z"
      },
      {
        "duration": 9,
        "start_time": "2022-12-30T10:56:51.786Z"
      },
      {
        "duration": 4,
        "start_time": "2022-12-30T10:56:52.137Z"
      },
      {
        "duration": 236,
        "start_time": "2022-12-30T10:56:52.711Z"
      },
      {
        "duration": 234,
        "start_time": "2022-12-30T10:56:53.309Z"
      },
      {
        "duration": 384,
        "start_time": "2022-12-30T10:56:53.996Z"
      },
      {
        "duration": 263,
        "start_time": "2022-12-30T10:56:54.382Z"
      },
      {
        "duration": 248,
        "start_time": "2022-12-30T10:56:54.646Z"
      },
      {
        "duration": 246,
        "start_time": "2022-12-30T10:56:54.895Z"
      },
      {
        "duration": 301,
        "start_time": "2022-12-30T10:56:55.143Z"
      },
      {
        "duration": 247,
        "start_time": "2022-12-30T10:56:55.446Z"
      },
      {
        "duration": 246,
        "start_time": "2022-12-30T10:56:55.695Z"
      },
      {
        "duration": 237,
        "start_time": "2022-12-30T10:56:55.942Z"
      },
      {
        "duration": 411,
        "start_time": "2022-12-30T10:56:56.180Z"
      },
      {
        "duration": 143,
        "start_time": "2022-12-30T10:56:56.593Z"
      },
      {
        "duration": 139,
        "start_time": "2022-12-30T10:56:56.738Z"
      },
      {
        "duration": 44,
        "start_time": "2022-12-30T10:56:56.879Z"
      },
      {
        "duration": 44,
        "start_time": "2022-12-30T10:57:00.211Z"
      },
      {
        "duration": 139,
        "start_time": "2022-12-30T10:57:00.365Z"
      },
      {
        "duration": 149,
        "start_time": "2022-12-30T10:57:01.018Z"
      },
      {
        "duration": 138,
        "start_time": "2022-12-30T10:57:01.325Z"
      },
      {
        "duration": 8,
        "start_time": "2022-12-30T10:57:01.890Z"
      },
      {
        "duration": 168,
        "start_time": "2022-12-30T10:57:02.057Z"
      },
      {
        "duration": 164,
        "start_time": "2022-12-30T10:57:04.048Z"
      },
      {
        "duration": 24,
        "start_time": "2022-12-30T10:57:04.921Z"
      },
      {
        "duration": 5,
        "start_time": "2022-12-30T10:57:05.673Z"
      },
      {
        "duration": 7,
        "start_time": "2022-12-30T10:57:06.233Z"
      },
      {
        "duration": 54,
        "start_time": "2022-12-30T10:58:00.155Z"
      },
      {
        "duration": 16,
        "start_time": "2022-12-30T10:58:35.012Z"
      },
      {
        "duration": 73,
        "start_time": "2022-12-30T10:59:00.016Z"
      },
      {
        "duration": 15,
        "start_time": "2022-12-30T10:59:26.292Z"
      },
      {
        "duration": 17,
        "start_time": "2022-12-30T11:00:22.735Z"
      },
      {
        "duration": 97,
        "start_time": "2022-12-30T11:05:02.627Z"
      },
      {
        "duration": 56,
        "start_time": "2022-12-30T11:05:20.282Z"
      },
      {
        "duration": 33,
        "start_time": "2022-12-30T11:05:28.352Z"
      },
      {
        "duration": 18,
        "start_time": "2022-12-30T11:05:40.382Z"
      },
      {
        "duration": 16,
        "start_time": "2022-12-30T11:06:00.372Z"
      },
      {
        "duration": 17,
        "start_time": "2022-12-30T11:06:26.752Z"
      },
      {
        "duration": 25,
        "start_time": "2022-12-30T11:07:58.753Z"
      },
      {
        "duration": 55,
        "start_time": "2022-12-30T11:11:43.785Z"
      },
      {
        "duration": 937,
        "start_time": "2022-12-31T08:57:30.035Z"
      },
      {
        "duration": 162,
        "start_time": "2022-12-31T08:57:30.975Z"
      },
      {
        "duration": 38,
        "start_time": "2022-12-31T08:57:31.139Z"
      },
      {
        "duration": 25,
        "start_time": "2022-12-31T08:57:31.179Z"
      },
      {
        "duration": 93,
        "start_time": "2022-12-31T08:57:31.206Z"
      },
      {
        "duration": 2371,
        "start_time": "2022-12-31T08:57:31.301Z"
      },
      {
        "duration": 34,
        "start_time": "2022-12-31T08:57:33.675Z"
      },
      {
        "duration": 9,
        "start_time": "2022-12-31T08:57:33.711Z"
      },
      {
        "duration": 11,
        "start_time": "2022-12-31T08:57:33.722Z"
      },
      {
        "duration": 55,
        "start_time": "2022-12-31T08:57:33.736Z"
      },
      {
        "duration": 26,
        "start_time": "2022-12-31T08:57:33.793Z"
      },
      {
        "duration": 38,
        "start_time": "2022-12-31T08:57:33.821Z"
      },
      {
        "duration": 5,
        "start_time": "2022-12-31T08:57:33.868Z"
      },
      {
        "duration": 11,
        "start_time": "2022-12-31T08:57:33.875Z"
      },
      {
        "duration": 21,
        "start_time": "2022-12-31T08:57:33.888Z"
      },
      {
        "duration": 7,
        "start_time": "2022-12-31T08:57:33.911Z"
      },
      {
        "duration": 18,
        "start_time": "2022-12-31T08:57:33.920Z"
      },
      {
        "duration": 20,
        "start_time": "2022-12-31T08:57:33.940Z"
      },
      {
        "duration": 130,
        "start_time": "2022-12-31T08:57:33.962Z"
      },
      {
        "duration": 4,
        "start_time": "2022-12-31T08:57:34.093Z"
      },
      {
        "duration": 21,
        "start_time": "2022-12-31T08:57:34.099Z"
      },
      {
        "duration": 7,
        "start_time": "2022-12-31T08:57:34.122Z"
      },
      {
        "duration": 29,
        "start_time": "2022-12-31T08:57:34.130Z"
      },
      {
        "duration": 282,
        "start_time": "2022-12-31T08:57:34.161Z"
      },
      {
        "duration": 296,
        "start_time": "2022-12-31T08:57:34.445Z"
      },
      {
        "duration": 281,
        "start_time": "2022-12-31T08:57:34.743Z"
      },
      {
        "duration": 409,
        "start_time": "2022-12-31T08:57:35.026Z"
      },
      {
        "duration": 371,
        "start_time": "2022-12-31T08:57:35.438Z"
      },
      {
        "duration": 326,
        "start_time": "2022-12-31T08:57:35.812Z"
      },
      {
        "duration": 326,
        "start_time": "2022-12-31T08:57:36.140Z"
      },
      {
        "duration": 321,
        "start_time": "2022-12-31T08:57:36.468Z"
      },
      {
        "duration": 443,
        "start_time": "2022-12-31T08:57:36.791Z"
      },
      {
        "duration": 304,
        "start_time": "2022-12-31T08:57:37.236Z"
      },
      {
        "duration": 325,
        "start_time": "2022-12-31T08:57:37.542Z"
      },
      {
        "duration": 188,
        "start_time": "2022-12-31T08:57:37.872Z"
      },
      {
        "duration": 176,
        "start_time": "2022-12-31T08:57:38.062Z"
      },
      {
        "duration": 64,
        "start_time": "2022-12-31T08:57:38.240Z"
      },
      {
        "duration": 75,
        "start_time": "2022-12-31T08:57:38.306Z"
      },
      {
        "duration": 197,
        "start_time": "2022-12-31T08:57:38.383Z"
      },
      {
        "duration": 224,
        "start_time": "2022-12-31T08:57:38.583Z"
      },
      {
        "duration": 191,
        "start_time": "2022-12-31T08:57:38.809Z"
      },
      {
        "duration": 9,
        "start_time": "2022-12-31T08:57:39.002Z"
      },
      {
        "duration": 259,
        "start_time": "2022-12-31T08:57:39.013Z"
      },
      {
        "duration": 300,
        "start_time": "2022-12-31T08:57:39.274Z"
      },
      {
        "duration": 35,
        "start_time": "2022-12-31T08:57:39.578Z"
      },
      {
        "duration": 10,
        "start_time": "2022-12-31T08:57:39.615Z"
      },
      {
        "duration": 62,
        "start_time": "2022-12-31T08:57:39.627Z"
      },
      {
        "duration": 132,
        "start_time": "2022-12-31T08:57:39.691Z"
      },
      {
        "duration": 5,
        "start_time": "2022-12-31T08:57:58.317Z"
      },
      {
        "duration": 203,
        "start_time": "2022-12-31T08:58:08.787Z"
      },
      {
        "duration": 23,
        "start_time": "2022-12-31T08:58:15.686Z"
      },
      {
        "duration": 44,
        "start_time": "2022-12-31T11:57:47.557Z"
      },
      {
        "duration": 714,
        "start_time": "2022-12-31T11:57:57.090Z"
      },
      {
        "duration": 284,
        "start_time": "2022-12-31T11:57:57.806Z"
      },
      {
        "duration": 28,
        "start_time": "2022-12-31T11:57:58.092Z"
      },
      {
        "duration": 14,
        "start_time": "2022-12-31T11:57:58.121Z"
      },
      {
        "duration": 65,
        "start_time": "2022-12-31T11:57:58.137Z"
      },
      {
        "duration": 1805,
        "start_time": "2022-12-31T11:57:58.203Z"
      },
      {
        "duration": 23,
        "start_time": "2022-12-31T11:58:00.010Z"
      },
      {
        "duration": 7,
        "start_time": "2022-12-31T11:58:01.710Z"
      },
      {
        "duration": 8,
        "start_time": "2022-12-31T11:58:02.170Z"
      },
      {
        "duration": 42,
        "start_time": "2022-12-31T11:58:02.805Z"
      },
      {
        "duration": 23,
        "start_time": "2022-12-31T11:58:03.118Z"
      },
      {
        "duration": 20,
        "start_time": "2022-12-31T11:58:03.590Z"
      },
      {
        "duration": 4,
        "start_time": "2022-12-31T11:58:03.870Z"
      },
      {
        "duration": 5,
        "start_time": "2022-12-31T11:58:04.471Z"
      },
      {
        "duration": 8,
        "start_time": "2022-12-31T11:58:04.718Z"
      },
      {
        "duration": 4,
        "start_time": "2022-12-31T11:58:04.864Z"
      },
      {
        "duration": 13,
        "start_time": "2022-12-31T11:58:04.953Z"
      },
      {
        "duration": 6,
        "start_time": "2022-12-31T11:58:05.036Z"
      },
      {
        "duration": 133,
        "start_time": "2022-12-31T11:58:05.123Z"
      },
      {
        "duration": 4,
        "start_time": "2022-12-31T11:58:05.809Z"
      },
      {
        "duration": 16,
        "start_time": "2022-12-31T11:58:06.018Z"
      },
      {
        "duration": 7,
        "start_time": "2022-12-31T11:58:06.130Z"
      },
      {
        "duration": 4,
        "start_time": "2022-12-31T11:58:06.318Z"
      },
      {
        "duration": 223,
        "start_time": "2022-12-31T11:58:06.558Z"
      },
      {
        "duration": 233,
        "start_time": "2022-12-31T11:58:06.795Z"
      },
      {
        "duration": 219,
        "start_time": "2022-12-31T11:58:07.065Z"
      },
      {
        "duration": 333,
        "start_time": "2022-12-31T11:58:07.290Z"
      },
      {
        "duration": 269,
        "start_time": "2022-12-31T11:58:07.625Z"
      },
      {
        "duration": 252,
        "start_time": "2022-12-31T11:58:07.895Z"
      },
      {
        "duration": 233,
        "start_time": "2022-12-31T11:58:08.149Z"
      },
      {
        "duration": 252,
        "start_time": "2022-12-31T11:58:08.383Z"
      },
      {
        "duration": 316,
        "start_time": "2022-12-31T11:58:08.636Z"
      },
      {
        "duration": 226,
        "start_time": "2022-12-31T11:58:08.954Z"
      },
      {
        "duration": 241,
        "start_time": "2022-12-31T11:58:09.182Z"
      },
      {
        "duration": 138,
        "start_time": "2022-12-31T11:58:09.425Z"
      },
      {
        "duration": 132,
        "start_time": "2022-12-31T11:58:09.564Z"
      },
      {
        "duration": 46,
        "start_time": "2022-12-31T11:58:09.697Z"
      },
      {
        "duration": 41,
        "start_time": "2022-12-31T11:58:09.745Z"
      },
      {
        "duration": 153,
        "start_time": "2022-12-31T11:58:09.788Z"
      },
      {
        "duration": 136,
        "start_time": "2022-12-31T11:58:10.144Z"
      },
      {
        "duration": 117,
        "start_time": "2022-12-31T11:58:10.857Z"
      },
      {
        "duration": 8,
        "start_time": "2022-12-31T11:58:12.938Z"
      },
      {
        "duration": 158,
        "start_time": "2022-12-31T11:58:13.352Z"
      },
      {
        "duration": 246,
        "start_time": "2022-12-31T11:58:14.048Z"
      },
      {
        "duration": 29,
        "start_time": "2022-12-31T11:58:14.296Z"
      },
      {
        "duration": 6,
        "start_time": "2022-12-31T11:58:14.357Z"
      },
      {
        "duration": 8,
        "start_time": "2022-12-31T11:58:14.536Z"
      },
      {
        "duration": 147,
        "start_time": "2022-12-31T11:58:16.258Z"
      },
      {
        "duration": 43,
        "start_time": "2023-01-02T09:09:34.055Z"
      },
      {
        "duration": 731,
        "start_time": "2023-01-02T09:09:40.624Z"
      },
      {
        "duration": 690,
        "start_time": "2023-01-02T09:09:41.357Z"
      },
      {
        "duration": 28,
        "start_time": "2023-01-02T09:09:42.049Z"
      },
      {
        "duration": 13,
        "start_time": "2023-01-02T09:09:42.079Z"
      },
      {
        "duration": 75,
        "start_time": "2023-01-02T09:09:42.094Z"
      },
      {
        "duration": 1860,
        "start_time": "2023-01-02T09:09:42.171Z"
      },
      {
        "duration": 21,
        "start_time": "2023-01-02T09:09:44.033Z"
      },
      {
        "duration": 23,
        "start_time": "2023-01-02T09:09:44.056Z"
      },
      {
        "duration": 8,
        "start_time": "2023-01-02T09:09:44.081Z"
      },
      {
        "duration": 52,
        "start_time": "2023-01-02T09:09:44.091Z"
      },
      {
        "duration": 22,
        "start_time": "2023-01-02T09:09:44.145Z"
      },
      {
        "duration": 22,
        "start_time": "2023-01-02T09:09:44.169Z"
      },
      {
        "duration": 19,
        "start_time": "2023-01-02T09:09:44.192Z"
      },
      {
        "duration": 33,
        "start_time": "2023-01-02T09:09:44.213Z"
      },
      {
        "duration": 7,
        "start_time": "2023-01-02T09:09:46.344Z"
      },
      {
        "duration": 5,
        "start_time": "2023-01-02T09:09:46.512Z"
      },
      {
        "duration": 14,
        "start_time": "2023-01-02T09:09:46.576Z"
      },
      {
        "duration": 6,
        "start_time": "2023-01-02T09:09:46.664Z"
      },
      {
        "duration": 107,
        "start_time": "2023-01-02T09:09:46.743Z"
      },
      {
        "duration": 4,
        "start_time": "2023-01-02T09:09:47.452Z"
      },
      {
        "duration": 16,
        "start_time": "2023-01-02T09:09:47.592Z"
      },
      {
        "duration": 7,
        "start_time": "2023-01-02T09:09:47.780Z"
      },
      {
        "duration": 4,
        "start_time": "2023-01-02T09:09:47.939Z"
      },
      {
        "duration": 226,
        "start_time": "2023-01-02T09:09:48.215Z"
      },
      {
        "duration": 241,
        "start_time": "2023-01-02T09:09:48.443Z"
      },
      {
        "duration": 226,
        "start_time": "2023-01-02T09:09:48.686Z"
      },
      {
        "duration": 309,
        "start_time": "2023-01-02T09:09:48.935Z"
      },
      {
        "duration": 310,
        "start_time": "2023-01-02T09:09:49.246Z"
      },
      {
        "duration": 254,
        "start_time": "2023-01-02T09:09:49.558Z"
      },
      {
        "duration": 250,
        "start_time": "2023-01-02T09:09:49.813Z"
      },
      {
        "duration": 277,
        "start_time": "2023-01-02T09:09:50.065Z"
      },
      {
        "duration": 340,
        "start_time": "2023-01-02T09:09:50.344Z"
      },
      {
        "duration": 237,
        "start_time": "2023-01-02T09:09:50.685Z"
      },
      {
        "duration": 249,
        "start_time": "2023-01-02T09:09:50.924Z"
      },
      {
        "duration": 141,
        "start_time": "2023-01-02T09:09:51.175Z"
      },
      {
        "duration": 134,
        "start_time": "2023-01-02T09:09:51.318Z"
      },
      {
        "duration": 39,
        "start_time": "2023-01-02T09:09:51.454Z"
      },
      {
        "duration": 44,
        "start_time": "2023-01-02T09:09:51.691Z"
      },
      {
        "duration": 136,
        "start_time": "2023-01-02T09:09:51.756Z"
      },
      {
        "duration": 143,
        "start_time": "2023-01-02T09:09:52.804Z"
      },
      {
        "duration": 144,
        "start_time": "2023-01-02T09:09:53.140Z"
      },
      {
        "duration": 147,
        "start_time": "2023-01-02T09:10:12.744Z"
      },
      {
        "duration": 36,
        "start_time": "2023-01-02T10:12:19.915Z"
      },
      {
        "duration": 209,
        "start_time": "2023-01-02T10:12:35.746Z"
      },
      {
        "duration": 118,
        "start_time": "2023-01-02T10:13:10.239Z"
      },
      {
        "duration": 110,
        "start_time": "2023-01-02T10:13:33.587Z"
      },
      {
        "duration": 120,
        "start_time": "2023-01-02T10:13:39.839Z"
      },
      {
        "duration": 239,
        "start_time": "2023-01-02T10:15:13.599Z"
      },
      {
        "duration": 225,
        "start_time": "2023-01-02T10:15:31.179Z"
      },
      {
        "duration": 173,
        "start_time": "2023-01-02T10:15:36.887Z"
      },
      {
        "duration": 63,
        "start_time": "2023-01-04T16:28:47.002Z"
      },
      {
        "duration": 777,
        "start_time": "2023-01-04T16:28:53.018Z"
      },
      {
        "duration": 142,
        "start_time": "2023-01-04T16:28:53.797Z"
      },
      {
        "duration": 30,
        "start_time": "2023-01-04T16:28:53.941Z"
      },
      {
        "duration": 17,
        "start_time": "2023-01-04T16:28:53.973Z"
      },
      {
        "duration": 82,
        "start_time": "2023-01-04T16:28:53.992Z"
      },
      {
        "duration": 1873,
        "start_time": "2023-01-04T16:28:54.076Z"
      },
      {
        "duration": 23,
        "start_time": "2023-01-04T16:28:55.951Z"
      },
      {
        "duration": 7,
        "start_time": "2023-01-04T16:28:55.976Z"
      },
      {
        "duration": 8,
        "start_time": "2023-01-04T16:28:55.985Z"
      },
      {
        "duration": 43,
        "start_time": "2023-01-04T16:28:55.994Z"
      },
      {
        "duration": 24,
        "start_time": "2023-01-04T16:28:56.038Z"
      },
      {
        "duration": 41,
        "start_time": "2023-01-04T16:28:56.064Z"
      },
      {
        "duration": 5,
        "start_time": "2023-01-04T16:28:56.106Z"
      },
      {
        "duration": 9,
        "start_time": "2023-01-04T16:28:56.112Z"
      },
      {
        "duration": 9,
        "start_time": "2023-01-04T16:28:56.123Z"
      },
      {
        "duration": 5,
        "start_time": "2023-01-04T16:28:56.134Z"
      },
      {
        "duration": 17,
        "start_time": "2023-01-04T16:28:56.141Z"
      },
      {
        "duration": 13,
        "start_time": "2023-01-04T16:28:56.160Z"
      },
      {
        "duration": 145,
        "start_time": "2023-01-04T16:28:56.174Z"
      },
      {
        "duration": 4,
        "start_time": "2023-01-04T16:28:56.492Z"
      },
      {
        "duration": 16,
        "start_time": "2023-01-04T16:28:57.883Z"
      },
      {
        "duration": 8,
        "start_time": "2023-01-04T16:28:58.044Z"
      },
      {
        "duration": 4,
        "start_time": "2023-01-04T16:28:58.210Z"
      },
      {
        "duration": 226,
        "start_time": "2023-01-04T16:28:58.479Z"
      },
      {
        "duration": 236,
        "start_time": "2023-01-04T16:28:58.707Z"
      },
      {
        "duration": 279,
        "start_time": "2023-01-04T16:28:58.970Z"
      },
      {
        "duration": 337,
        "start_time": "2023-01-04T16:28:59.251Z"
      },
      {
        "duration": 259,
        "start_time": "2023-01-04T16:28:59.590Z"
      },
      {
        "duration": 266,
        "start_time": "2023-01-04T16:28:59.850Z"
      },
      {
        "duration": 253,
        "start_time": "2023-01-04T16:29:00.119Z"
      },
      {
        "duration": 258,
        "start_time": "2023-01-04T16:29:00.374Z"
      },
      {
        "duration": 335,
        "start_time": "2023-01-04T16:29:00.634Z"
      },
      {
        "duration": 238,
        "start_time": "2023-01-04T16:29:00.970Z"
      },
      {
        "duration": 246,
        "start_time": "2023-01-04T16:29:01.210Z"
      },
      {
        "duration": 160,
        "start_time": "2023-01-04T16:29:01.458Z"
      },
      {
        "duration": 147,
        "start_time": "2023-01-04T16:29:01.620Z"
      },
      {
        "duration": 47,
        "start_time": "2023-01-04T16:29:01.769Z"
      },
      {
        "duration": 42,
        "start_time": "2023-01-04T16:29:01.818Z"
      },
      {
        "duration": 166,
        "start_time": "2023-01-04T16:29:01.861Z"
      },
      {
        "duration": 130,
        "start_time": "2023-01-04T16:29:02.476Z"
      },
      {
        "duration": 166,
        "start_time": "2023-01-04T16:29:02.608Z"
      },
      {
        "duration": 46,
        "start_time": "2023-01-04T16:29:02.776Z"
      },
      {
        "duration": 133,
        "start_time": "2023-01-04T16:29:03.608Z"
      },
      {
        "duration": 206,
        "start_time": "2023-01-04T16:29:03.828Z"
      },
      {
        "duration": 259,
        "start_time": "2023-01-04T16:29:04.845Z"
      },
      {
        "duration": 122,
        "start_time": "2023-01-04T16:29:41.579Z"
      },
      {
        "duration": 139,
        "start_time": "2023-01-04T16:29:47.509Z"
      },
      {
        "duration": 121,
        "start_time": "2023-01-04T16:29:55.119Z"
      },
      {
        "duration": 200,
        "start_time": "2023-01-04T16:30:37.278Z"
      },
      {
        "duration": 104,
        "start_time": "2023-01-04T16:31:31.838Z"
      }
    ],
    "kernelspec": {
      "display_name": "Python 3 (ipykernel)",
      "language": "python",
      "name": "python3"
    },
    "language_info": {
      "codemirror_mode": {
        "name": "ipython",
        "version": 3
      },
      "file_extension": ".py",
      "mimetype": "text/x-python",
      "name": "python",
      "nbconvert_exporter": "python",
      "pygments_lexer": "ipython3",
      "version": "3.9.13"
    },
    "toc": {
      "base_numbering": 1,
      "nav_menu": {},
      "number_sections": true,
      "sideBar": true,
      "skip_h1_title": true,
      "title_cell": "Table of Contents",
      "title_sidebar": "Contents",
      "toc_cell": false,
      "toc_position": {},
      "toc_section_display": true,
      "toc_window_display": false
    },
    "colab": {
      "provenance": []
    }
  },
  "nbformat": 4,
  "nbformat_minor": 0
}