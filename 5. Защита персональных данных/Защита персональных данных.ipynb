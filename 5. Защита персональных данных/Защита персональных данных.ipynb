{
 "cells": [
  {
   "cell_type": "markdown",
   "metadata": {
    "toc": true
   },
   "source": [
    "<h1>Содержание<span class=\"tocSkip\"></span></h1>\n",
    "<div class=\"toc\"><ul class=\"toc-item\"><li><span><a href=\"#Загрузка-данных\" data-toc-modified-id=\"Загрузка-данных-1\"><span class=\"toc-item-num\">1&nbsp;&nbsp;</span>Загрузка данных</a></span><ul class=\"toc-item\"><li><span><a href=\"#Импортируем-библиотеки\" data-toc-modified-id=\"Импортируем-библиотеки-1.1\"><span class=\"toc-item-num\">1.1&nbsp;&nbsp;</span>Импортируем библиотеки</a></span></li><li><span><a href=\"#Импортируем-данные-в-датафрейм\" data-toc-modified-id=\"Импортируем-данные-в-датафрейм-1.2\"><span class=\"toc-item-num\">1.2&nbsp;&nbsp;</span>Импортируем данные в датафрейм</a></span></li></ul></li><li><span><a href=\"#Умножение-матриц\" data-toc-modified-id=\"Умножение-матриц-2\"><span class=\"toc-item-num\">2&nbsp;&nbsp;</span>Умножение матриц</a></span></li><li><span><a href=\"#Алгоритм-преобразования\" data-toc-modified-id=\"Алгоритм-преобразования-3\"><span class=\"toc-item-num\">3&nbsp;&nbsp;</span>Алгоритм преобразования</a></span></li><li><span><a href=\"#Проверка-алгоритма\" data-toc-modified-id=\"Проверка-алгоритма-4\"><span class=\"toc-item-num\">4&nbsp;&nbsp;</span>Проверка алгоритма</a></span></li><li><span><a href=\"#Общий-вывод:\" data-toc-modified-id=\"Общий-вывод:-5\"><span class=\"toc-item-num\">5&nbsp;&nbsp;</span>Общий вывод:</a></span></li><li><span><a href=\"#Чек-лист-проверки\" data-toc-modified-id=\"Чек-лист-проверки-6\"><span class=\"toc-item-num\">6&nbsp;&nbsp;</span>Чек-лист проверки</a></span></li></ul></div>"
   ]
  },
  {
   "cell_type": "markdown",
   "metadata": {},
   "source": [
    "# Защита персональных данных клиентов"
   ]
  },
  {
   "cell_type": "markdown",
   "metadata": {},
   "source": [
    "## Загрузка данных"
   ]
  },
  {
   "cell_type": "markdown",
   "metadata": {},
   "source": [
    "### Импортируем библиотеки "
   ]
  },
  {
   "cell_type": "code",
   "execution_count": 5,
   "metadata": {},
   "outputs": [],
   "source": [
    "import pandas as pd\n",
    "import numpy as np\n",
    "import matplotlib.pyplot as plt\n",
    "import seaborn as sns\n",
    "from sklearn.metrics import r2_score\n",
    "from sklearn.preprocessing import StandardScaler\n",
    "from sklearn.linear_model import LinearRegression"
   ]
  },
  {
   "cell_type": "markdown",
   "metadata": {},
   "source": [
    "### Импортируем данные в датафрейм"
   ]
  },
  {
   "cell_type": "code",
   "execution_count": 6,
   "metadata": {},
   "outputs": [],
   "source": [
    "df = pd.read_csv('/Users/artemvishanov/Desktop/yandex_practicum_project/10. Защита персональных данных клиентов/insurance.csv')"
   ]
  },
  {
   "cell_type": "code",
   "execution_count": 7,
   "metadata": {},
   "outputs": [],
   "source": [
    "# функция \n",
    "def information_about_df(data):\n",
    "    print(data.info())\n",
    "    return data.head(5)"
   ]
  },
  {
   "cell_type": "code",
   "execution_count": 8,
   "metadata": {},
   "outputs": [
    {
     "name": "stdout",
     "output_type": "stream",
     "text": [
      "<class 'pandas.core.frame.DataFrame'>\n",
      "RangeIndex: 5000 entries, 0 to 4999\n",
      "Data columns (total 5 columns):\n",
      " #   Column             Non-Null Count  Dtype  \n",
      "---  ------             --------------  -----  \n",
      " 0   Пол                5000 non-null   int64  \n",
      " 1   Возраст            5000 non-null   float64\n",
      " 2   Зарплата           5000 non-null   float64\n",
      " 3   Члены семьи        5000 non-null   int64  \n",
      " 4   Страховые выплаты  5000 non-null   int64  \n",
      "dtypes: float64(2), int64(3)\n",
      "memory usage: 195.4 KB\n",
      "None\n"
     ]
    },
    {
     "data": {
      "text/html": [
       "<div>\n",
       "<style scoped>\n",
       "    .dataframe tbody tr th:only-of-type {\n",
       "        vertical-align: middle;\n",
       "    }\n",
       "\n",
       "    .dataframe tbody tr th {\n",
       "        vertical-align: top;\n",
       "    }\n",
       "\n",
       "    .dataframe thead th {\n",
       "        text-align: right;\n",
       "    }\n",
       "</style>\n",
       "<table border=\"1\" class=\"dataframe\">\n",
       "  <thead>\n",
       "    <tr style=\"text-align: right;\">\n",
       "      <th></th>\n",
       "      <th>Пол</th>\n",
       "      <th>Возраст</th>\n",
       "      <th>Зарплата</th>\n",
       "      <th>Члены семьи</th>\n",
       "      <th>Страховые выплаты</th>\n",
       "    </tr>\n",
       "  </thead>\n",
       "  <tbody>\n",
       "    <tr>\n",
       "      <th>0</th>\n",
       "      <td>1</td>\n",
       "      <td>41.0</td>\n",
       "      <td>49600.0</td>\n",
       "      <td>1</td>\n",
       "      <td>0</td>\n",
       "    </tr>\n",
       "    <tr>\n",
       "      <th>1</th>\n",
       "      <td>0</td>\n",
       "      <td>46.0</td>\n",
       "      <td>38000.0</td>\n",
       "      <td>1</td>\n",
       "      <td>1</td>\n",
       "    </tr>\n",
       "    <tr>\n",
       "      <th>2</th>\n",
       "      <td>0</td>\n",
       "      <td>29.0</td>\n",
       "      <td>21000.0</td>\n",
       "      <td>0</td>\n",
       "      <td>0</td>\n",
       "    </tr>\n",
       "    <tr>\n",
       "      <th>3</th>\n",
       "      <td>0</td>\n",
       "      <td>21.0</td>\n",
       "      <td>41700.0</td>\n",
       "      <td>2</td>\n",
       "      <td>0</td>\n",
       "    </tr>\n",
       "    <tr>\n",
       "      <th>4</th>\n",
       "      <td>1</td>\n",
       "      <td>28.0</td>\n",
       "      <td>26100.0</td>\n",
       "      <td>0</td>\n",
       "      <td>0</td>\n",
       "    </tr>\n",
       "  </tbody>\n",
       "</table>\n",
       "</div>"
      ],
      "text/plain": [
       "   Пол  Возраст  Зарплата  Члены семьи  Страховые выплаты\n",
       "0    1     41.0   49600.0            1                  0\n",
       "1    0     46.0   38000.0            1                  1\n",
       "2    0     29.0   21000.0            0                  0\n",
       "3    0     21.0   41700.0            2                  0\n",
       "4    1     28.0   26100.0            0                  0"
      ]
     },
     "execution_count": 8,
     "metadata": {},
     "output_type": "execute_result"
    }
   ],
   "source": [
    "information_about_df(df)"
   ]
  },
  {
   "cell_type": "code",
   "execution_count": 9,
   "metadata": {},
   "outputs": [
    {
     "data": {
      "text/plain": [
       "Пол                  0\n",
       "Возраст              0\n",
       "Зарплата             0\n",
       "Члены семьи          0\n",
       "Страховые выплаты    0\n",
       "dtype: int64"
      ]
     },
     "execution_count": 9,
     "metadata": {},
     "output_type": "execute_result"
    }
   ],
   "source": [
    "# проверим, есть ли пропуски в df\n",
    "df.isnull().sum()"
   ]
  },
  {
   "cell_type": "markdown",
   "metadata": {},
   "source": [
    "Пропусков нет"
   ]
  },
  {
   "cell_type": "markdown",
   "metadata": {},
   "source": [
    "**Построим гистограммы, чтобы увидеть распределения по признакам.**"
   ]
  },
  {
   "cell_type": "code",
   "execution_count": 10,
   "metadata": {},
   "outputs": [
    {
     "data": {
      "image/png": "[encoded data removed]",
      "text/plain": [
       "<Figure size 1200x500 with 1 Axes>"
      ]
     },
     "metadata": {},
     "output_type": "display_data"
    }
   ],
   "source": [
    "sns.set()\n",
    "fig, ax = plt.subplots(figsize=(12, 5))\n",
    "sns.countplot(x='Члены семьи', data = df, palette='coolwarm')\n",
    "ax.set_title('Распределение по количеству семьи')\n",
    "plt.ylabel('Количество');"
   ]
  },
  {
   "cell_type": "code",
   "execution_count": 11,
   "metadata": {},
   "outputs": [
    {
     "data": {
      "image/png": "[encoded data removed]",
      "text/plain": [
       "<Figure size 1200x300 with 1 Axes>"
      ]
     },
     "metadata": {},
     "output_type": "display_data"
    }
   ],
   "source": [
    "fig, ax = plt.subplots(figsize=(12, 3))\n",
    "sns.countplot(y='Пол', data = df)\n",
    "ax.set_title('Распределение по полу')\n",
    "plt.xlabel('Количество');"
   ]
  },
  {
   "cell_type": "code",
   "execution_count": 12,
   "metadata": {},
   "outputs": [
    {
     "data": {
      "image/png": "[encoded data removed]",
      "text/plain": [
       "<Figure size 1200x500 with 1 Axes>"
      ]
     },
     "metadata": {},
     "output_type": "display_data"
    }
   ],
   "source": [
    "fig, ax = plt.subplots(figsize=(12, 5))\n",
    "sns.countplot(y='Страховые выплаты', data = df)\n",
    "ax.set_title('Распределение по кол-ву страховых выплат')\n",
    "plt.xlabel('Количество');"
   ]
  },
  {
   "cell_type": "code",
   "execution_count": 13,
   "metadata": {},
   "outputs": [
    {
     "name": "stderr",
     "output_type": "stream",
     "text": [
      "/Users/artemvishanov/opt/anaconda3/lib/python3.9/site-packages/seaborn/distributions.py:2619: FutureWarning: `distplot` is a deprecated function and will be removed in a future version. Please adapt your code to use either `displot` (a figure-level function with similar flexibility) or `histplot` (an axes-level function for histograms).\n",
      "  warnings.warn(msg, FutureWarning)\n"
     ]
    },
    {
     "data": {
      "image/png": "[encoded data removed]",
      "text/plain": [
       "<Figure size 1200x500 with 1 Axes>"
      ]
     },
     "metadata": {},
     "output_type": "display_data"
    }
   ],
   "source": [
    "sns.set()\n",
    "fig, ax = plt.subplots(figsize=(12, 5))\n",
    "sns.distplot(df['Возраст'], bins = len(df['Возраст'].unique()))\n",
    "ax.set_title('Распределение по возрасту')\n",
    "plt.ylabel('Полность частоты');"
   ]
  },
  {
   "cell_type": "code",
   "execution_count": 14,
   "metadata": {},
   "outputs": [
    {
     "name": "stderr",
     "output_type": "stream",
     "text": [
      "/Users/artemvishanov/opt/anaconda3/lib/python3.9/site-packages/seaborn/distributions.py:2619: FutureWarning: `distplot` is a deprecated function and will be removed in a future version. Please adapt your code to use either `displot` (a figure-level function with similar flexibility) or `histplot` (an axes-level function for histograms).\n",
      "  warnings.warn(msg, FutureWarning)\n"
     ]
    },
    {
     "data": {
      "image/png": "[encoded data removed]",
      "text/plain": [
       "<Figure size 1200x500 with 1 Axes>"
      ]
     },
     "metadata": {},
     "output_type": "display_data"
    }
   ],
   "source": [
    "fig, ax = plt.subplots(figsize=(12, 5))\n",
    "sns.distplot(df['Зарплата'])\n",
    "ax.set_title('Распределение по зарплате')\n",
    "plt.ylabel('Полность частоты');"
   ]
  },
  {
   "cell_type": "markdown",
   "metadata": {},
   "source": [
    "**Вывод:**\n",
    "\n",
    "1. Данные предоставлены в предобработанном виде\n",
    "2. Признаки распределены без аномалий\n",
    "\n",
    ">Данные готовы для дальнейших исследований"
   ]
  },
  {
   "cell_type": "markdown",
   "metadata": {},
   "source": [
    "## Умножение матриц"
   ]
  },
  {
   "cell_type": "markdown",
   "metadata": {},
   "source": [
    "**Вопрос:** признаки умножают на обратимую матрицу. Изменится ли качество линейной регрессии?"
   ]
  },
  {
   "cell_type": "markdown",
   "metadata": {},
   "source": [
    "В этом задании вы можете записывать формулы в *Jupyter Notebook.*\n",
    "\n",
    "Чтобы записать формулу внутри текста, окружите её символами доллара \\\\$; если снаружи —  двойными символами \\\\$\\\\$. Эти формулы записываются на языке вёрстки *LaTeX.* \n",
    "\n",
    "Для примера мы записали формулы линейной регрессии. Можете их скопировать и отредактировать, чтобы решить задачу.\n",
    "\n",
    "Работать в *LaTeX* необязательно."
   ]
  },
  {
   "cell_type": "markdown",
   "metadata": {},
   "source": [
    "Обозначения:\n",
    "\n",
    "- $X$ — матрица признаков (нулевой столбец состоит из единиц)\n",
    "\n",
    "- $y$ — вектор целевого признака\n",
    "\n",
    "- $P$ — матрица, на которую умножаются признаки\n",
    "\n",
    "- $w$ — вектор весов линейной регрессии (нулевой элемент равен сдвигу)"
   ]
  },
  {
   "cell_type": "markdown",
   "metadata": {},
   "source": [
    "Предсказания:\n",
    "\n",
    "$$\n",
    "a = Xw\n",
    "$$\n",
    "\n",
    "Задача обучения:\n",
    "\n",
    "$$\n",
    "w = \\arg\\min_w MSE(Xw, y)\n",
    "$$\n",
    "\n",
    "Формула обучения:\n",
    "\n",
    "$$\n",
    "w = (X^T X)^{-1} X^T y\n",
    "$$"
   ]
  },
  {
   "cell_type": "markdown",
   "metadata": {},
   "source": [
    "**Ответ:** \n",
    ">Качество линейной регрессии не изменится, изменится лишь вектор весов линейной регрессии для новых признаков."
   ]
  },
  {
   "cell_type": "markdown",
   "metadata": {},
   "source": [
    "**Обоснование:**"
   ]
  },
  {
   "cell_type": "markdown",
   "metadata": {},
   "source": [
    "Представим нашу новую матрицу признаков как результат умножения исходной матрицы признаков на некую обратимую матрицу:"
   ]
  },
  {
   "cell_type": "markdown",
   "metadata": {},
   "source": [
    "$$\n",
    "X_1 = XP\n",
    "$$"
   ]
  },
  {
   "cell_type": "markdown",
   "metadata": {},
   "source": [
    "Тогда наша формула обучения примет вид: $w_1 = (X_1^{T}X_1)^{-1}X_1^{T}y$"
   ]
  },
  {
   "cell_type": "markdown",
   "metadata": {},
   "source": [
    "Подставив в нее значения $X_1$, получим:"
   ]
  },
  {
   "cell_type": "markdown",
   "metadata": {},
   "source": [
    "$w_1 = ((XP)^{T}XP)^{-1}(XP)^{T}y$"
   ]
  },
  {
   "cell_type": "markdown",
   "metadata": {},
   "source": [
    "Воспользуемся следующими свойствами матриц, а именно:"
   ]
  },
  {
   "cell_type": "markdown",
   "metadata": {},
   "source": [
    "$$A(BC) = (AB)C$$\n",
    "\n",
    "$$(AB)^{-1} = A^{-1}B^{-1}$$\n",
    "\n",
    "$$(AB)^{T} = A^{T}B^{T}$$\n",
    "\n",
    "$$(A^{T})^{-1}= (A^{-1})^{T}$$\n",
    "\n",
    "$$(ABC)^{-1} = C^{-1}B^{-1}A^{-1}$$\n",
    "\n",
    "$$AA^{-1} = E$$\n",
    "\n",
    "$$AE = EA = A$$"
   ]
  },
  {
   "cell_type": "markdown",
   "metadata": {},
   "source": [
    "Тогда нашу формулу для расчета вектора весов можно переписать:"
   ]
  },
  {
   "cell_type": "markdown",
   "metadata": {},
   "source": [
    "$$w_1 = ((XP)^{T}XP)^{-1}(XP)^{T}y$$\n",
    "\n",
    "$$w_1 = (P^{T}(x^{T}X)P)^{-1}(XP)^{T}y$$\n",
    "\n",
    "$$w_1 = (P^{T}(x^{T}X)P)^{-1}P^{T}X^{T}y$$\n",
    "\n",
    "$$w_1 = P^{-1}(X^{T}X)^{-1}(P^{T})^{-1}P^{T}X^{T}y$$\n",
    "\n",
    "$$w_1 = P^{-1}(X^{T}X)^{-1}EX^{T}y$$\n",
    "\n",
    "$$w_1 = P^{-1}w$$"
   ]
  },
  {
   "cell_type": "markdown",
   "metadata": {},
   "source": [
    "Тоже самое, для формулы предсказаний: $a_1 = X_1w_1$, подставив получившиеся значения $X_1 = XP$ и $w_1 = P^{-1}w$, получим:"
   ]
  },
  {
   "cell_type": "markdown",
   "metadata": {},
   "source": [
    "$$a_1 = XPP^{-1}w$$"
   ]
  },
  {
   "cell_type": "markdown",
   "metadata": {},
   "source": [
    "$$то$$"
   ]
  },
  {
   "cell_type": "markdown",
   "metadata": {},
   "source": [
    "$$a_1 = Xw$$"
   ]
  },
  {
   "cell_type": "markdown",
   "metadata": {},
   "source": [
    "**Тем самым получаем, что наши предсказания никоем образом не изменятся.**"
   ]
  },
  {
   "cell_type": "markdown",
   "metadata": {},
   "source": [
    "## Алгоритм преобразования"
   ]
  },
  {
   "cell_type": "markdown",
   "metadata": {},
   "source": [
    "**Алгоритм:**"
   ]
  },
  {
   "cell_type": "markdown",
   "metadata": {},
   "source": [
    "Нам необходимо будет:\n",
    "\n",
    "сгенерировать обратимую матрицу, соответственно квадратную, размерностью соответствующую количеству столбцов признаков, а это 4х4.\n",
    "\n",
    "умножить матрицу исходных признаков на сгенерированную матрицу.\n",
    "\n",
    "посчитать качество модели на полученной матрице и сравнить с качеством модели на матрице исходных данных."
   ]
  },
  {
   "cell_type": "markdown",
   "metadata": {},
   "source": [
    "**Обоснование:**"
   ]
  },
  {
   "cell_type": "markdown",
   "metadata": {},
   "source": [
    "В предыдущем пункте мы выяснили, что предсказания на измененной и изначальной матрице не должны отличаться, поэтому результаты метрики R2 должны оказаться равны. Тем самым мы докажем, что правильно защитили наши данные."
   ]
  },
  {
   "cell_type": "markdown",
   "metadata": {},
   "source": [
    "## Проверка алгоритма"
   ]
  },
  {
   "cell_type": "markdown",
   "metadata": {},
   "source": [
    "Разделим данные на признаки и целевой признак **features** и **target**:"
   ]
  },
  {
   "cell_type": "code",
   "execution_count": 15,
   "metadata": {},
   "outputs": [],
   "source": [
    "features = df.drop('Страховые выплаты', axis=1)\n",
    "target = df['Страховые выплаты']"
   ]
  },
  {
   "cell_type": "markdown",
   "metadata": {},
   "source": [
    "Создадим класс **LinReg** и напишем 2 метода **fit** и **predict**.\n",
    "\n",
    "Первый находит веса w, второй делает предскказания:"
   ]
  },
  {
   "cell_type": "code",
   "execution_count": 16,
   "metadata": {},
   "outputs": [],
   "source": [
    "class LinReg:\n",
    "    def fit(self, train_features, train_target):\n",
    "        X = np.concatenate((np.ones((train_features.shape[0], 1)), train_features), axis=1)\n",
    "        y = train_target\n",
    "        w = np.linalg.inv((X.T @ X)).dot(X.T).dot(y)\n",
    "        self.w = w[1:]\n",
    "        self.w0 = w[0]\n",
    "        print(w)\n",
    "        \n",
    "    def predict(self, test_features):\n",
    "        return test_features.dot(self.w) + self.w0        "
   ]
  },
  {
   "cell_type": "markdown",
   "metadata": {},
   "source": [
    "Создадим модель, сохраним ее в переменной **model** и обучим. Найдем ее предсказания на обучающей выборке и сохраним их впеременной **predictions**.\n",
    "\n",
    "Напечатаем на экране веса и значения метрик R2. Она вычисляется по MSE."
   ]
  },
  {
   "cell_type": "code",
   "execution_count": 17,
   "metadata": {},
   "outputs": [
    {
     "name": "stdout",
     "output_type": "stream",
     "text": [
      "[-9.38235504e-01  7.92580543e-03  3.57083050e-02 -1.70080492e-07\n",
      " -1.35676623e-02]\n"
     ]
    },
    {
     "data": {
      "text/plain": [
       "0.4249455028666801"
      ]
     },
     "execution_count": 17,
     "metadata": {},
     "output_type": "execute_result"
    }
   ],
   "source": [
    "model = LinReg()\n",
    "model.fit(features, target)\n",
    "predictions = model.predict(features)\n",
    "r2_score(target, predictions)"
   ]
  },
  {
   "cell_type": "markdown",
   "metadata": {},
   "source": [
    "Создадим случайную квадратную матрицу, размером по кол-ву столбцов **features**"
   ]
  },
  {
   "cell_type": "code",
   "execution_count": 18,
   "metadata": {},
   "outputs": [
    {
     "data": {
      "text/plain": [
       "array([[-1.8861681 , -1.41808645, -0.39936862,  1.9470792 ],\n",
       "       [-0.8747684 ,  0.12459563, -0.45108426,  0.48593555],\n",
       "       [ 0.50244456, -0.24922257, -0.20546855,  0.29507511],\n",
       "       [ 0.25139702, -0.82978477, -0.16889118, -1.67762561]])"
      ]
     },
     "execution_count": 18,
     "metadata": {},
     "output_type": "execute_result"
    }
   ],
   "source": [
    "random_matrix = np.random.normal(0, 1, (features.shape[1], features.shape[1]))\n",
    "random_matrix"
   ]
  },
  {
   "cell_type": "markdown",
   "metadata": {},
   "source": [
    "Проверим на обратимость, вызвав **np.linalg.inv()**"
   ]
  },
  {
   "cell_type": "code",
   "execution_count": 19,
   "metadata": {},
   "outputs": [
    {
     "data": {
      "text/plain": [
       "array([[-0.14876455, -0.28353641,  0.97945089, -0.08251257],\n",
       "       [-0.40336431,  0.61162882, -0.27919542, -0.34009596],\n",
       "       [ 0.33198477, -1.68682103, -1.50628848, -0.36823109],\n",
       "       [ 0.14379686, -0.17519481,  0.43651097, -0.40315669]])"
      ]
     },
     "execution_count": 19,
     "metadata": {},
     "output_type": "execute_result"
    }
   ],
   "source": [
    "np.linalg.inv(random_matrix)"
   ]
  },
  {
   "cell_type": "code",
   "execution_count": 20,
   "metadata": {},
   "outputs": [
    {
     "data": {
      "text/plain": [
       "array([[ 1.00000000e+00,  0.00000000e+00,  1.11022302e-16,\n",
       "         0.00000000e+00],\n",
       "       [ 1.38777878e-17,  1.00000000e+00,  8.32667268e-17,\n",
       "        -5.55111512e-17],\n",
       "       [ 3.46944695e-17, -8.32667268e-17,  1.00000000e+00,\n",
       "        -1.38777878e-17],\n",
       "       [-2.77555756e-17,  1.11022302e-16,  0.00000000e+00,\n",
       "         1.00000000e+00]])"
      ]
     },
     "execution_count": 20,
     "metadata": {},
     "output_type": "execute_result"
    }
   ],
   "source": [
    "random_matrix @ np.linalg.inv(random_matrix)"
   ]
  },
  {
   "cell_type": "markdown",
   "metadata": {},
   "source": [
    "Признаки датафрейма умножим на обратимую матрицу **random_matrix** "
   ]
  },
  {
   "cell_type": "code",
   "execution_count": 21,
   "metadata": {},
   "outputs": [
    {
     "data": {
      "text/html": [
       "<div>\n",
       "<style scoped>\n",
       "    .dataframe tbody tr th:only-of-type {\n",
       "        vertical-align: middle;\n",
       "    }\n",
       "\n",
       "    .dataframe tbody tr th {\n",
       "        vertical-align: top;\n",
       "    }\n",
       "\n",
       "    .dataframe thead th {\n",
       "        text-align: right;\n",
       "    }\n",
       "</style>\n",
       "<table border=\"1\" class=\"dataframe\">\n",
       "  <thead>\n",
       "    <tr style=\"text-align: right;\">\n",
       "      <th></th>\n",
       "      <th>0</th>\n",
       "      <th>1</th>\n",
       "      <th>2</th>\n",
       "      <th>3</th>\n",
       "    </tr>\n",
       "  </thead>\n",
       "  <tbody>\n",
       "    <tr>\n",
       "      <th>0</th>\n",
       "      <td>24883.749797</td>\n",
       "      <td>-12358.579006</td>\n",
       "      <td>-10210.302616</td>\n",
       "      <td>14655.918334</td>\n",
       "    </tr>\n",
       "    <tr>\n",
       "      <th>1</th>\n",
       "      <td>19052.905251</td>\n",
       "      <td>-9465.556110</td>\n",
       "      <td>-7828.723530</td>\n",
       "      <td>11233.529641</td>\n",
       "    </tr>\n",
       "    <tr>\n",
       "      <th>2</th>\n",
       "      <td>10525.967432</td>\n",
       "      <td>-5230.060732</td>\n",
       "      <td>-4327.920918</td>\n",
       "      <td>6210.669469</td>\n",
       "    </tr>\n",
       "    <tr>\n",
       "      <th>3</th>\n",
       "      <td>20934.070722</td>\n",
       "      <td>-10391.624301</td>\n",
       "      <td>-8577.848937</td>\n",
       "      <td>12311.481538</td>\n",
       "    </tr>\n",
       "    <tr>\n",
       "      <th>4</th>\n",
       "      <td>13087.423278</td>\n",
       "      <td>-6502.638530</td>\n",
       "      <td>-5375.758789</td>\n",
       "      <td>7717.013681</td>\n",
       "    </tr>\n",
       "    <tr>\n",
       "      <th>...</th>\n",
       "      <td>...</td>\n",
       "      <td>...</td>\n",
       "      <td>...</td>\n",
       "      <td>...</td>\n",
       "    </tr>\n",
       "    <tr>\n",
       "      <th>4995</th>\n",
       "      <td>17913.279996</td>\n",
       "      <td>-8895.416701</td>\n",
       "      <td>-7348.195248</td>\n",
       "      <td>10544.432419</td>\n",
       "    </tr>\n",
       "    <tr>\n",
       "      <th>4996</th>\n",
       "      <td>26298.604106</td>\n",
       "      <td>-13055.856290</td>\n",
       "      <td>-10782.057587</td>\n",
       "      <td>15476.780018</td>\n",
       "    </tr>\n",
       "    <tr>\n",
       "      <th>4997</th>\n",
       "      <td>17015.877939</td>\n",
       "      <td>-8447.812837</td>\n",
       "      <td>-6974.743190</td>\n",
       "      <td>10009.409734</td>\n",
       "    </tr>\n",
       "    <tr>\n",
       "      <th>4998</th>\n",
       "      <td>16409.560162</td>\n",
       "      <td>-8150.744431</td>\n",
       "      <td>-6729.651363</td>\n",
       "      <td>9656.560925</td>\n",
       "    </tr>\n",
       "    <tr>\n",
       "      <th>4999</th>\n",
       "      <td>20373.120765</td>\n",
       "      <td>-10117.195604</td>\n",
       "      <td>-8355.221603</td>\n",
       "      <td>11993.925170</td>\n",
       "    </tr>\n",
       "  </tbody>\n",
       "</table>\n",
       "<p>5000 rows × 4 columns</p>\n",
       "</div>"
      ],
      "text/plain": [
       "                 0             1             2             3\n",
       "0     24883.749797 -12358.579006 -10210.302616  14655.918334\n",
       "1     19052.905251  -9465.556110  -7828.723530  11233.529641\n",
       "2     10525.967432  -5230.060732  -4327.920918   6210.669469\n",
       "3     20934.070722 -10391.624301  -8577.848937  12311.481538\n",
       "4     13087.423278  -6502.638530  -5375.758789   7717.013681\n",
       "...            ...           ...           ...           ...\n",
       "4995  17913.279996  -8895.416701  -7348.195248  10544.432419\n",
       "4996  26298.604106 -13055.856290 -10782.057587  15476.780018\n",
       "4997  17015.877939  -8447.812837  -6974.743190  10009.409734\n",
       "4998  16409.560162  -8150.744431  -6729.651363   9656.560925\n",
       "4999  20373.120765 -10117.195604  -8355.221603  11993.925170\n",
       "\n",
       "[5000 rows x 4 columns]"
      ]
     },
     "execution_count": 21,
     "metadata": {},
     "output_type": "execute_result"
    }
   ],
   "source": [
    "encoded_features = features.dot(random_matrix)\n",
    "encoded_features"
   ]
  },
  {
   "cell_type": "markdown",
   "metadata": {},
   "source": [
    "Обучим модель на новых признаках, найдем предсказания, веса и посчитаем R2:"
   ]
  },
  {
   "cell_type": "code",
   "execution_count": 22,
   "metadata": {},
   "outputs": [
    {
     "name": "stdout",
     "output_type": "stream",
     "text": [
      "[-9.38235504e-01 -1.01843471e-02  2.32575973e-02 -5.26059823e-02\n",
      "  3.53615707e-04]\n"
     ]
    },
    {
     "data": {
      "text/plain": [
       "0.424945502866677"
      ]
     },
     "execution_count": 22,
     "metadata": {},
     "output_type": "execute_result"
    }
   ],
   "source": [
    "model = LinReg()\n",
    "model.fit(encoded_features, target)\n",
    "predictions = model.predict(encoded_features)\n",
    "r2_score(target, predictions)"
   ]
  },
  {
   "cell_type": "markdown",
   "metadata": {},
   "source": [
    "Проверим, что качество линейной регрессии из sklearn не отличается до и после преобразования. Применим метрику R2."
   ]
  },
  {
   "cell_type": "markdown",
   "metadata": {},
   "source": [
    "Создадим  модель **sklearn_model** и обучим на 2 обучающих матрицах:\n",
    "* исходной **features**\n",
    "* кодированной **encoded_features**"
   ]
  },
  {
   "cell_type": "code",
   "execution_count": 23,
   "metadata": {},
   "outputs": [
    {
     "data": {
      "text/plain": [
       "0.4249455028666801"
      ]
     },
     "execution_count": 23,
     "metadata": {},
     "output_type": "execute_result"
    }
   ],
   "source": [
    "sklearn_model = LinearRegression().fit(features, target)\n",
    "pred = sklearn_model.predict(features)\n",
    "r2_score(target, pred)"
   ]
  },
  {
   "cell_type": "code",
   "execution_count": 24,
   "metadata": {},
   "outputs": [
    {
     "data": {
      "text/plain": [
       "0.4249455028666801"
      ]
     },
     "execution_count": 24,
     "metadata": {},
     "output_type": "execute_result"
    }
   ],
   "source": [
    "sklearn_model = LinearRegression().fit(features, target)\n",
    "pred = sklearn_model.predict(features)\n",
    "r2_score(target, pred)"
   ]
  },
  {
   "cell_type": "markdown",
   "metadata": {},
   "source": [
    "Качество модели по двум наборам признаков совпадает."
   ]
  },
  {
   "cell_type": "markdown",
   "metadata": {},
   "source": [
    "**Вывод:**\n",
    "\n",
    ">Качество метрики R2 для 2 матриц признаков: до преобразования и после равны, а также равны R2 по написанному класс линейной регресии **LinReg**, что говорит о ее правильном написании в сравнении с моделью из sklearn."
   ]
  },
  {
   "cell_type": "markdown",
   "metadata": {},
   "source": [
    "## Общий вывод:"
   ]
  },
  {
   "cell_type": "markdown",
   "metadata": {},
   "source": [
    "**Из проведенных исследований были сделаны следующие выводы:**\n",
    "\n",
    "- Умножение признаков на обратимую матрицу не влияет на качество линейной регрессии, поскольку веса были пересчитаны для новых значений признаков, сохраняя при этом связь между исходной матрицей и преобразованной матрицей через веса.\n",
    "- Предложенный алгоритм эффективно решает задачу шифрования признаков.\n",
    "- Зашифрованные данные подходят для использования в линейной регрессии и дают точные предсказания.\n",
    "- Алгоритм допускает дешифровку данных в любой момент.\n",
    "- Использование случайности в алгоритме гарантирует, что каждый раз при зашифровании будут получаться новые данные, которые сложно восстановить без знания кода программы.\n",
    "- Реализованный алгоритм полностью соответствует целям защиты персональных данных клиентов страховой компании."
   ]
  }
 ],
 "metadata": {
  "ExecuteTimeLog": [
   {
    "duration": 467,
    "start_time": "2023-04-04T11:57:27.995Z"
   },
   {
    "duration": 122,
    "start_time": "2023-04-04T11:57:59.211Z"
   },
   {
    "duration": 30,
    "start_time": "2023-04-04T11:58:20.719Z"
   },
   {
    "duration": 19,
    "start_time": "2023-04-04T11:58:29.494Z"
   },
   {
    "duration": 90,
    "start_time": "2023-04-04T11:58:46.388Z"
   },
   {
    "duration": 7,
    "start_time": "2023-04-04T11:58:50.756Z"
   },
   {
    "duration": 100,
    "start_time": "2023-04-04T11:59:17.115Z"
   },
   {
    "duration": 13,
    "start_time": "2023-04-04T12:00:26.834Z"
   },
   {
    "duration": 1416,
    "start_time": "2023-04-04T12:12:32.990Z"
   },
   {
    "duration": 31,
    "start_time": "2023-04-04T12:12:35.742Z"
   },
   {
    "duration": 9,
    "start_time": "2023-04-04T12:15:06.766Z"
   },
   {
    "duration": 19,
    "start_time": "2023-04-04T12:15:24.130Z"
   },
   {
    "duration": 3,
    "start_time": "2023-04-04T12:15:38.450Z"
   },
   {
    "duration": 3,
    "start_time": "2023-04-04T12:16:14.800Z"
   },
   {
    "duration": 21,
    "start_time": "2023-04-04T12:16:16.094Z"
   },
   {
    "duration": 3,
    "start_time": "2023-04-04T12:16:33.289Z"
   },
   {
    "duration": 21,
    "start_time": "2023-04-04T12:16:35.444Z"
   },
   {
    "duration": 3,
    "start_time": "2023-04-04T12:16:40.092Z"
   },
   {
    "duration": 5,
    "start_time": "2023-04-04T12:17:13.241Z"
   },
   {
    "duration": 21,
    "start_time": "2023-04-04T12:17:13.908Z"
   },
   {
    "duration": 5,
    "start_time": "2023-04-04T12:17:52.398Z"
   },
   {
    "duration": 18,
    "start_time": "2023-04-04T12:17:53.094Z"
   },
   {
    "duration": 4,
    "start_time": "2023-04-04T12:18:05.794Z"
   },
   {
    "duration": 18,
    "start_time": "2023-04-04T12:18:06.900Z"
   },
   {
    "duration": 3,
    "start_time": "2023-04-04T12:18:26.459Z"
   },
   {
    "duration": 19,
    "start_time": "2023-04-04T12:18:26.797Z"
   },
   {
    "duration": 28,
    "start_time": "2023-04-04T12:18:29.515Z"
   },
   {
    "duration": 1702,
    "start_time": "2023-04-05T09:49:19.696Z"
   },
   {
    "duration": 101,
    "start_time": "2023-04-05T09:49:22.664Z"
   },
   {
    "duration": 3,
    "start_time": "2023-04-05T09:49:23.506Z"
   },
   {
    "duration": 23,
    "start_time": "2023-04-05T09:49:24.612Z"
   },
   {
    "duration": 7,
    "start_time": "2023-04-05T09:49:28.615Z"
   },
   {
    "duration": 211,
    "start_time": "2023-04-05T09:53:00.456Z"
   },
   {
    "duration": 168,
    "start_time": "2023-04-05T09:53:31.542Z"
   },
   {
    "duration": 228,
    "start_time": "2023-04-05T09:53:47.597Z"
   },
   {
    "duration": 157,
    "start_time": "2023-04-05T09:54:54.108Z"
   },
   {
    "duration": 214,
    "start_time": "2023-04-05T09:55:07.433Z"
   },
   {
    "duration": 290,
    "start_time": "2023-04-05T09:55:26.596Z"
   },
   {
    "duration": 264,
    "start_time": "2023-04-05T09:55:33.497Z"
   },
   {
    "duration": 173,
    "start_time": "2023-04-05T09:55:39.318Z"
   },
   {
    "duration": 181,
    "start_time": "2023-04-05T09:55:43.721Z"
   },
   {
    "duration": 184,
    "start_time": "2023-04-05T09:55:50.154Z"
   },
   {
    "duration": 483,
    "start_time": "2023-04-05T09:55:55.313Z"
   },
   {
    "duration": 181,
    "start_time": "2023-04-05T09:56:01.668Z"
   },
   {
    "duration": 130,
    "start_time": "2023-04-05T09:56:51.512Z"
   },
   {
    "duration": 153,
    "start_time": "2023-04-05T09:56:56.699Z"
   },
   {
    "duration": 160,
    "start_time": "2023-04-05T09:57:03.338Z"
   },
   {
    "duration": 148,
    "start_time": "2023-04-05T09:57:12.501Z"
   },
   {
    "duration": 135,
    "start_time": "2023-04-05T09:57:22.146Z"
   },
   {
    "duration": 152,
    "start_time": "2023-04-05T09:57:37.315Z"
   },
   {
    "duration": 186,
    "start_time": "2023-04-05T09:57:42.711Z"
   },
   {
    "duration": 296,
    "start_time": "2023-04-05T09:57:52.496Z"
   },
   {
    "duration": 149,
    "start_time": "2023-04-05T09:58:06.941Z"
   },
   {
    "duration": 197,
    "start_time": "2023-04-05T09:58:11.001Z"
   },
   {
    "duration": 148,
    "start_time": "2023-04-05T09:58:11.760Z"
   },
   {
    "duration": 143,
    "start_time": "2023-04-05T09:58:25.362Z"
   },
   {
    "duration": 181,
    "start_time": "2023-04-05T09:59:05.623Z"
   },
   {
    "duration": 164,
    "start_time": "2023-04-05T09:59:10.441Z"
   },
   {
    "duration": 136,
    "start_time": "2023-04-05T09:59:16.967Z"
   },
   {
    "duration": 293,
    "start_time": "2023-04-05T10:01:37.891Z"
   },
   {
    "duration": 275,
    "start_time": "2023-04-05T10:02:25.062Z"
   },
   {
    "duration": 4,
    "start_time": "2023-04-05T10:06:48.250Z"
   },
   {
    "duration": 4,
    "start_time": "2023-04-05T10:07:04.099Z"
   },
   {
    "duration": 4,
    "start_time": "2023-04-05T10:17:30.509Z"
   },
   {
    "duration": 14,
    "start_time": "2023-04-05T10:22:21.100Z"
   },
   {
    "duration": 4,
    "start_time": "2023-04-05T10:23:16.516Z"
   },
   {
    "duration": 13,
    "start_time": "2023-04-05T10:23:17.418Z"
   },
   {
    "duration": 5,
    "start_time": "2023-04-05T10:37:29.089Z"
   },
   {
    "duration": 4,
    "start_time": "2023-04-05T10:38:41.029Z"
   },
   {
    "duration": 5,
    "start_time": "2023-04-05T10:39:53.293Z"
   },
   {
    "duration": 5,
    "start_time": "2023-04-05T10:39:56.599Z"
   },
   {
    "duration": 12,
    "start_time": "2023-04-05T10:41:40.990Z"
   },
   {
    "duration": 48,
    "start_time": "2023-04-05T10:42:29.194Z"
   },
   {
    "duration": 10,
    "start_time": "2023-04-05T10:43:03.200Z"
   },
   {
    "duration": 159,
    "start_time": "2023-04-05T11:12:43.906Z"
   },
   {
    "duration": 3,
    "start_time": "2023-04-05T11:58:46.963Z"
   },
   {
    "duration": 11,
    "start_time": "2023-04-05T11:59:03.793Z"
   },
   {
    "duration": 3,
    "start_time": "2023-04-05T12:02:23.524Z"
   },
   {
    "duration": 47,
    "start_time": "2023-04-05T12:02:54.844Z"
   },
   {
    "duration": 16,
    "start_time": "2023-04-05T12:05:38.036Z"
   },
   {
    "duration": 17,
    "start_time": "2023-04-05T12:19:08.885Z"
   },
   {
    "duration": 12,
    "start_time": "2023-04-05T12:19:09.089Z"
   },
   {
    "duration": 51,
    "start_time": "2023-04-05T12:19:38.377Z"
   },
   {
    "duration": 49,
    "start_time": "2023-04-05T12:25:30.411Z"
   },
   {
    "duration": 2740,
    "start_time": "2023-04-06T06:48:02.763Z"
   },
   {
    "duration": 33,
    "start_time": "2023-04-06T06:48:05.505Z"
   },
   {
    "duration": 3,
    "start_time": "2023-04-06T06:48:05.540Z"
   },
   {
    "duration": 48,
    "start_time": "2023-04-06T06:48:05.545Z"
   },
   {
    "duration": 13,
    "start_time": "2023-04-06T06:48:05.596Z"
   },
   {
    "duration": 235,
    "start_time": "2023-04-06T06:48:05.611Z"
   },
   {
    "duration": 208,
    "start_time": "2023-04-06T06:48:05.848Z"
   },
   {
    "duration": 191,
    "start_time": "2023-04-06T06:48:06.058Z"
   },
   {
    "duration": 281,
    "start_time": "2023-04-06T06:48:06.251Z"
   },
   {
    "duration": 321,
    "start_time": "2023-04-06T06:48:06.535Z"
   },
   {
    "duration": 5,
    "start_time": "2023-04-06T06:48:06.859Z"
   },
   {
    "duration": 11,
    "start_time": "2023-04-06T06:48:06.865Z"
   },
   {
    "duration": 72,
    "start_time": "2023-04-06T06:48:06.879Z"
   },
   {
    "duration": 100,
    "start_time": "2023-04-06T06:48:06.955Z"
   },
   {
    "duration": 21,
    "start_time": "2023-04-06T06:48:07.057Z"
   },
   {
    "duration": 61,
    "start_time": "2023-04-06T06:48:07.082Z"
   },
   {
    "duration": 99,
    "start_time": "2023-04-06T06:48:07.145Z"
   },
   {
    "duration": 319,
    "start_time": "2023-04-06T06:48:07.246Z"
   },
   {
    "duration": 3,
    "start_time": "2023-04-06T06:48:07.567Z"
   },
   {
    "duration": 70,
    "start_time": "2023-04-06T06:48:07.571Z"
   },
   {
    "duration": 18,
    "start_time": "2023-04-06T06:48:07.643Z"
   },
   {
    "duration": 80,
    "start_time": "2023-04-06T06:48:07.663Z"
   },
   {
    "duration": 96,
    "start_time": "2023-04-06T06:48:07.747Z"
   },
   {
    "duration": 10,
    "start_time": "2023-04-06T06:48:07.845Z"
   },
   {
    "duration": 200,
    "start_time": "2023-04-06T06:48:07.857Z"
   },
   {
    "duration": 2315,
    "start_time": "2023-04-06T09:22:47.232Z"
   },
   {
    "duration": 131,
    "start_time": "2023-04-06T09:22:49.552Z"
   },
   {
    "duration": 3,
    "start_time": "2023-04-06T09:22:49.685Z"
   },
   {
    "duration": 61,
    "start_time": "2023-04-06T09:22:49.690Z"
   },
   {
    "duration": 9,
    "start_time": "2023-04-06T09:22:49.754Z"
   },
   {
    "duration": 263,
    "start_time": "2023-04-06T09:22:57.118Z"
   },
   {
    "duration": 190,
    "start_time": "2023-04-06T09:22:57.851Z"
   },
   {
    "duration": 265,
    "start_time": "2023-04-06T09:22:58.464Z"
   },
   {
    "duration": 459,
    "start_time": "2023-04-06T09:23:00.100Z"
   },
   {
    "duration": 429,
    "start_time": "2023-04-06T09:23:13.064Z"
   },
   {
    "duration": 352,
    "start_time": "2023-04-06T09:23:22.877Z"
   },
   {
    "duration": 367,
    "start_time": "2023-04-06T09:23:50.135Z"
   },
   {
    "duration": 10,
    "start_time": "2023-04-06T10:08:12.647Z"
   },
   {
    "duration": 11,
    "start_time": "2023-04-06T10:09:00.842Z"
   },
   {
    "duration": 12,
    "start_time": "2023-04-06T10:09:11.742Z"
   },
   {
    "duration": 19,
    "start_time": "2023-04-06T10:09:26.798Z"
   },
   {
    "duration": 24,
    "start_time": "2023-04-06T10:09:27.362Z"
   },
   {
    "duration": 7,
    "start_time": "2023-04-06T10:09:27.530Z"
   },
   {
    "duration": 23,
    "start_time": "2023-04-06T10:09:27.539Z"
   },
   {
    "duration": 9,
    "start_time": "2023-04-06T10:09:27.588Z"
   },
   {
    "duration": 232,
    "start_time": "2023-04-06T10:09:27.840Z"
   },
   {
    "duration": 178,
    "start_time": "2023-04-06T10:09:28.075Z"
   },
   {
    "duration": 275,
    "start_time": "2023-04-06T10:09:28.255Z"
   },
   {
    "duration": 383,
    "start_time": "2023-04-06T10:09:28.533Z"
   },
   {
    "duration": 344,
    "start_time": "2023-04-06T10:09:28.918Z"
   },
   {
    "duration": 5,
    "start_time": "2023-04-06T10:09:29.264Z"
   },
   {
    "duration": 16,
    "start_time": "2023-04-06T10:09:29.270Z"
   },
   {
    "duration": 46,
    "start_time": "2023-04-06T10:09:29.287Z"
   },
   {
    "duration": 11,
    "start_time": "2023-04-06T10:09:29.444Z"
   },
   {
    "duration": 11,
    "start_time": "2023-04-06T10:09:29.586Z"
   },
   {
    "duration": 5,
    "start_time": "2023-04-06T10:09:29.790Z"
   },
   {
    "duration": 16,
    "start_time": "2023-04-06T10:09:30.356Z"
   },
   {
    "duration": 17,
    "start_time": "2023-04-06T10:09:30.738Z"
   },
   {
    "duration": 9,
    "start_time": "2023-04-06T10:09:33.001Z"
   },
   {
    "duration": 56,
    "start_time": "2023-04-06T10:09:41.434Z"
   },
   {
    "duration": 90,
    "start_time": "2023-04-06T10:11:25.970Z"
   },
   {
    "duration": 25,
    "start_time": "2023-04-06T10:11:32.190Z"
   },
   {
    "duration": 4,
    "start_time": "2023-04-06T10:11:57.981Z"
   },
   {
    "duration": 4,
    "start_time": "2023-04-06T10:12:07.935Z"
   },
   {
    "duration": 5,
    "start_time": "2023-04-06T10:12:17.744Z"
   },
   {
    "duration": 4,
    "start_time": "2023-04-06T10:12:20.742Z"
   },
   {
    "duration": 83,
    "start_time": "2023-04-06T10:14:41.153Z"
   },
   {
    "duration": 5,
    "start_time": "2023-04-06T10:14:49.775Z"
   },
   {
    "duration": 3,
    "start_time": "2023-04-06T10:16:45.890Z"
   },
   {
    "duration": 6,
    "start_time": "2023-04-06T10:17:57.534Z"
   },
   {
    "duration": 5,
    "start_time": "2023-04-06T10:18:05.891Z"
   },
   {
    "duration": 5,
    "start_time": "2023-04-06T10:18:09.739Z"
   },
   {
    "duration": 28,
    "start_time": "2023-04-06T10:18:12.061Z"
   },
   {
    "duration": 17,
    "start_time": "2023-04-06T10:18:14.699Z"
   },
   {
    "duration": 29,
    "start_time": "2023-04-06T10:18:24.992Z"
   },
   {
    "duration": 84,
    "start_time": "2023-04-06T10:18:37.788Z"
   },
   {
    "duration": 4,
    "start_time": "2023-04-06T10:18:43.897Z"
   },
   {
    "duration": 32,
    "start_time": "2023-04-06T10:21:11.992Z"
   },
   {
    "duration": 97,
    "start_time": "2023-04-06T10:21:17.640Z"
   },
   {
    "duration": 28,
    "start_time": "2023-04-06T10:21:30.101Z"
   },
   {
    "duration": 27,
    "start_time": "2023-04-06T10:21:35.498Z"
   },
   {
    "duration": 158,
    "start_time": "2023-04-06T10:21:47.984Z"
   },
   {
    "duration": 4,
    "start_time": "2023-04-06T10:21:51.958Z"
   },
   {
    "duration": 5,
    "start_time": "2023-04-06T10:42:22.976Z"
   },
   {
    "duration": 5,
    "start_time": "2023-04-06T10:42:24.934Z"
   },
   {
    "duration": 11,
    "start_time": "2023-04-06T10:42:25.087Z"
   },
   {
    "duration": 6,
    "start_time": "2023-04-06T10:42:25.233Z"
   },
   {
    "duration": 6,
    "start_time": "2023-04-06T10:42:26.157Z"
   },
   {
    "duration": 12,
    "start_time": "2023-04-06T10:42:26.167Z"
   },
   {
    "duration": 36,
    "start_time": "2023-04-06T10:42:26.203Z"
   },
   {
    "duration": 184,
    "start_time": "2023-04-06T10:42:26.246Z"
   },
   {
    "duration": 13,
    "start_time": "2023-04-06T10:42:28.435Z"
   },
   {
    "duration": 12,
    "start_time": "2023-04-06T10:42:28.777Z"
   },
   {
    "duration": 4,
    "start_time": "2023-04-06T10:43:43.083Z"
   },
   {
    "duration": 4,
    "start_time": "2023-04-06T10:44:33.830Z"
   },
   {
    "duration": 14,
    "start_time": "2023-04-06T10:45:05.538Z"
   },
   {
    "duration": 5,
    "start_time": "2023-04-06T10:45:29.846Z"
   },
   {
    "duration": 11,
    "start_time": "2023-04-06T10:46:16.470Z"
   },
   {
    "duration": 11,
    "start_time": "2023-04-06T10:46:31.030Z"
   },
   {
    "duration": 13,
    "start_time": "2023-04-06T10:47:04.744Z"
   },
   {
    "duration": 22,
    "start_time": "2023-04-06T10:47:36.580Z"
   },
   {
    "duration": 16,
    "start_time": "2023-04-06T10:47:46.931Z"
   },
   {
    "duration": 32,
    "start_time": "2023-04-06T10:47:47.705Z"
   },
   {
    "duration": 4,
    "start_time": "2023-04-06T11:32:00.253Z"
   },
   {
    "duration": 77,
    "start_time": "2023-04-06T11:32:00.263Z"
   },
   {
    "duration": 3,
    "start_time": "2023-04-06T11:32:00.342Z"
   },
   {
    "duration": 33,
    "start_time": "2023-04-06T11:32:00.349Z"
   },
   {
    "duration": 16,
    "start_time": "2023-04-06T11:32:00.384Z"
   },
   {
    "duration": 294,
    "start_time": "2023-04-06T11:32:00.404Z"
   },
   {
    "duration": 188,
    "start_time": "2023-04-06T11:32:00.702Z"
   },
   {
    "duration": 225,
    "start_time": "2023-04-06T11:32:00.892Z"
   },
   {
    "duration": 349,
    "start_time": "2023-04-06T11:32:01.121Z"
   },
   {
    "duration": 547,
    "start_time": "2023-04-06T11:32:01.473Z"
   },
   {
    "duration": 4,
    "start_time": "2023-04-06T11:32:02.026Z"
   },
   {
    "duration": 33,
    "start_time": "2023-04-06T11:32:02.031Z"
   },
   {
    "duration": 60,
    "start_time": "2023-04-06T11:32:02.067Z"
   },
   {
    "duration": 78,
    "start_time": "2023-04-06T11:32:02.134Z"
   },
   {
    "duration": 54,
    "start_time": "2023-04-06T11:32:02.217Z"
   },
   {
    "duration": 35,
    "start_time": "2023-04-06T11:32:02.302Z"
   },
   {
    "duration": 97,
    "start_time": "2023-04-06T11:32:02.342Z"
   },
   {
    "duration": 103,
    "start_time": "2023-04-06T11:32:02.444Z"
   },
   {
    "duration": 97,
    "start_time": "2023-04-06T11:32:02.612Z"
   },
   {
    "duration": 112,
    "start_time": "2023-04-06T11:32:02.718Z"
   }
  ],
  "kernelspec": {
   "display_name": "Python 3 (ipykernel)",
   "language": "python",
   "name": "python3"
  },
  "language_info": {
   "codemirror_mode": {
    "name": "ipython",
    "version": 3
   },
   "file_extension": ".py",
   "mimetype": "text/x-python",
   "name": "python",
   "nbconvert_exporter": "python",
   "pygments_lexer": "ipython3",
   "version": "3.9.13"
  },
  "toc": {
   "base_numbering": 1,
   "nav_menu": {},
   "number_sections": true,
   "sideBar": true,
   "skip_h1_title": true,
   "title_cell": "Содержание",
   "title_sidebar": "Contents",
   "toc_cell": true,
   "toc_position": {},
   "toc_section_display": true,
   "toc_window_display": false
  }
 },
 "nbformat": 4,
 "nbformat_minor": 2
}
